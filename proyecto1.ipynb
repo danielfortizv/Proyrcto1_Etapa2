{
  "cells": [
    {
      "cell_type": "markdown",
      "metadata": {
        "id": "zJtX8lNuI-0W"
      },
      "source": [
        "## Integrantes\n",
        "- Brayan Estiven Salcedo Suarez 202022731\n",
        "- Daniel Felipe Ortiz Vallejo 202221234\n",
        "- Julian David Parra Forero 202013033"
      ]
    },
    {
      "cell_type": "markdown",
      "metadata": {
        "id": "bCGbWWFQH_3v"
      },
      "source": [
        "En la era digital, la desinformación se ha convertido en un problema crítico, ya que la difusión de noticias falsas puede influir en la opinión pública, generar confusión y afectar la toma de decisiones. Para abordar este desafío, este trabajo propone la implementación de un sistema basado en aprendizaje automático para la detección automática de noticias falsas.  \n",
        "\n",
        "El objetivo principal es desarrollar un modelo que, a partir del análisis de noticias previas, pueda predecir si una nueva noticia es confiable o no. Para ello, se aplicarán técnicas de **procesamiento de lenguaje natural (NLP)** y algoritmos de **aprendizaje supervisado** que permitirán identificar patrones lingüísticos, semánticos y estructurales en los textos.  \n",
        "\n",
        "Este estudio no solo busca mejorar la precisión en la detección de noticias falsas, sino también proporcionar una herramienta útil para medios de comunicación, verificadores de información y usuarios en general, ayudando a combatir la desinformación en entornos digitales.\n",
        "\n",
        "## **Descripción del Dataset**  \n",
        "\n",
        "El dataset utilizado en este trabajo fue entregado por bloque neon y contiene una recopilación de noticias etiquetadas como verdaderas o falsas. Su estructura está diseñada para capturar información clave sobre cada noticia, permitiendo el análisis de su contenido y la identificación de patrones que diferencien noticias reales de noticias falsas.  \n",
        "\n",
        "Las principales columnas del dataset son:  \n",
        "\n",
        "- **ID**: Un identificador único para cada noticia en el dataset.  \n",
        "- **Label**: Indica si la noticia es real (`1`) o falsa (`0`), lo que servirá como referencia para entrenar el modelo de detección.  \n",
        "- **Título**: El encabezado de la noticia, que usualmente resume su contenido en pocas palabras.  \n",
        "- **Descripción**: Un resumen breve de la noticia que proporciona más contexto sobre el título.  \n",
        "- **Fecha**: La fecha en que la noticia fue publicada, lo que permite analizar tendencias a lo largo del tiempo.  \n",
        "\n",
        "Ejemplo de registros en el dataset:  \n",
        "\n",
        "| ID  | Label | Título | Descripción | Fecha |\n",
        "|-----|-------|------------------------------------------------|------------------------------------------------------------------------------------------------|------------|\n",
        "| 1   | 1     | 'The Guardian' va con Sánchez: 'Europa necesita que su apuesta dé sus frutos' | El diario británico publicó un editorial sobre las elecciones del 23J, calificando de valiente el adelanto electoral y alertando sobre los riesgos de la ultraderecha. | 02/06/2023 |\n",
        "| 2   | 0     | REVELAN QUE EL GOBIERNO NEGOCIÓ LA LIBERACIÓN DE MIRELES A CAMBIO DE OTORGARLE EL PERDÓN A JAVIER DUARTE | Supuestas negociaciones entre el gobierno y Javier Duarte en el marco de la liberación de José Manuel Mireles. | N/A |\n",
        "\n",
        "\n",
        "\n",
        "\n"
      ]
    },
    {
      "cell_type": "markdown",
      "metadata": {
        "id": "O1Jq1fAI8bPP"
      },
      "source": [
        "## Instalación de librerias"
      ]
    },
    {
      "cell_type": "code",
      "execution_count": 1,
      "metadata": {
        "colab": {
          "base_uri": "https://localhost:8080/"
        },
        "id": "G3jU0P038bPS",
        "outputId": "42e73a80-42da-4e7d-ac3d-4c73e09d50fe"
      },
      "outputs": [
        {
          "name": "stdout",
          "output_type": "stream",
          "text": [
            "Requirement already satisfied: nltk in c:\\users\\julian\\appdata\\local\\programs\\python\\python39\\lib\\site-packages (3.9.1)\n",
            "Requirement already satisfied: tqdm in c:\\users\\julian\\appdata\\local\\programs\\python\\python39\\lib\\site-packages (from nltk) (4.67.1)\n",
            "Requirement already satisfied: joblib in c:\\users\\julian\\appdata\\local\\programs\\python\\python39\\lib\\site-packages (from nltk) (1.4.2)\n",
            "Requirement already satisfied: click in c:\\users\\julian\\appdata\\local\\programs\\python\\python39\\lib\\site-packages (from nltk) (8.1.8)\n",
            "Requirement already satisfied: regex>=2021.8.3 in c:\\users\\julian\\appdata\\local\\programs\\python\\python39\\lib\\site-packages (from nltk) (2024.11.6)\n",
            "Requirement already satisfied: colorama in c:\\users\\julian\\appdata\\roaming\\python\\python39\\site-packages (from click->nltk) (0.4.6)\n"
          ]
        },
        {
          "name": "stderr",
          "output_type": "stream",
          "text": [
            "WARNING: You are using pip version 22.0.4; however, version 25.0.1 is available.\n",
            "You should consider upgrading via the 'C:\\Users\\Julian\\AppData\\Local\\Programs\\Python\\Python39\\python.exe -m pip install --upgrade pip' command.\n"
          ]
        },
        {
          "name": "stdout",
          "output_type": "stream",
          "text": [
            "Requirement already satisfied: contractions in c:\\users\\julian\\appdata\\local\\programs\\python\\python39\\lib\\site-packages (0.1.73)\n",
            "Requirement already satisfied: textsearch>=0.0.21 in c:\\users\\julian\\appdata\\local\\programs\\python\\python39\\lib\\site-packages (from contractions) (0.0.24)\n",
            "Requirement already satisfied: pyahocorasick in c:\\users\\julian\\appdata\\local\\programs\\python\\python39\\lib\\site-packages (from textsearch>=0.0.21->contractions) (2.1.0)\n",
            "Requirement already satisfied: anyascii in c:\\users\\julian\\appdata\\local\\programs\\python\\python39\\lib\\site-packages (from textsearch>=0.0.21->contractions) (0.3.2)\n"
          ]
        },
        {
          "name": "stderr",
          "output_type": "stream",
          "text": [
            "WARNING: You are using pip version 22.0.4; however, version 25.0.1 is available.\n",
            "You should consider upgrading via the 'C:\\Users\\Julian\\AppData\\Local\\Programs\\Python\\Python39\\python.exe -m pip install --upgrade pip' command.\n",
            "WARNING: You are using pip version 22.0.4; however, version 25.0.1 is available.\n",
            "You should consider upgrading via the 'C:\\Users\\Julian\\AppData\\Local\\Programs\\Python\\Python39\\python.exe -m pip install --upgrade pip' command.\n"
          ]
        },
        {
          "name": "stdout",
          "output_type": "stream",
          "text": [
            "Requirement already satisfied: inflect in c:\\users\\julian\\appdata\\local\\programs\\python\\python39\\lib\\site-packages (7.5.0)\n",
            "Requirement already satisfied: more_itertools>=8.5.0 in c:\\users\\julian\\appdata\\local\\programs\\python\\python39\\lib\\site-packages (from inflect) (10.6.0)\n",
            "Requirement already satisfied: typeguard>=4.0.1 in c:\\users\\julian\\appdata\\local\\programs\\python\\python39\\lib\\site-packages (from inflect) (4.4.2)\n",
            "Requirement already satisfied: importlib_metadata>=3.6 in c:\\users\\julian\\appdata\\roaming\\python\\python39\\site-packages (from typeguard>=4.0.1->inflect) (8.6.1)\n",
            "Requirement already satisfied: typing_extensions>=4.10.0 in c:\\users\\julian\\appdata\\roaming\\python\\python39\\site-packages (from typeguard>=4.0.1->inflect) (4.12.2)\n",
            "Requirement already satisfied: zipp>=3.20 in c:\\users\\julian\\appdata\\roaming\\python\\python39\\site-packages (from importlib_metadata>=3.6->typeguard>=4.0.1->inflect) (3.21.0)\n",
            "Requirement already satisfied: scikit-plot in c:\\users\\julian\\appdata\\local\\programs\\python\\python39\\lib\\site-packages (0.3.7)\n",
            "Requirement already satisfied: scikit-learn>=0.18 in c:\\users\\julian\\appdata\\local\\programs\\python\\python39\\lib\\site-packages (from scikit-plot) (1.6.1)\n",
            "Requirement already satisfied: matplotlib>=1.4.0 in c:\\users\\julian\\appdata\\local\\programs\\python\\python39\\lib\\site-packages (from scikit-plot) (3.9.4)\n",
            "Requirement already satisfied: scipy>=0.9 in c:\\users\\julian\\appdata\\local\\programs\\python\\python39\\lib\\site-packages (from scikit-plot) (1.13.1)\n",
            "Requirement already satisfied: joblib>=0.10 in c:\\users\\julian\\appdata\\local\\programs\\python\\python39\\lib\\site-packages (from scikit-plot) (1.4.2)\n",
            "Requirement already satisfied: contourpy>=1.0.1 in c:\\users\\julian\\appdata\\local\\programs\\python\\python39\\lib\\site-packages (from matplotlib>=1.4.0->scikit-plot) (1.3.0)\n",
            "Requirement already satisfied: pillow>=8 in c:\\users\\julian\\appdata\\local\\programs\\python\\python39\\lib\\site-packages (from matplotlib>=1.4.0->scikit-plot) (11.1.0)\n",
            "Requirement already satisfied: python-dateutil>=2.7 in c:\\users\\julian\\appdata\\roaming\\python\\python39\\site-packages (from matplotlib>=1.4.0->scikit-plot) (2.9.0.post0)\n",
            "Requirement already satisfied: importlib-resources>=3.2.0 in c:\\users\\julian\\appdata\\local\\programs\\python\\python39\\lib\\site-packages (from matplotlib>=1.4.0->scikit-plot) (6.5.2)\n",
            "Requirement already satisfied: pyparsing>=2.3.1 in c:\\users\\julian\\appdata\\local\\programs\\python\\python39\\lib\\site-packages (from matplotlib>=1.4.0->scikit-plot) (3.2.1)\n",
            "Requirement already satisfied: numpy>=1.23 in c:\\users\\julian\\appdata\\local\\programs\\python\\python39\\lib\\site-packages (from matplotlib>=1.4.0->scikit-plot) (2.0.2)\n",
            "Requirement already satisfied: kiwisolver>=1.3.1 in c:\\users\\julian\\appdata\\local\\programs\\python\\python39\\lib\\site-packages (from matplotlib>=1.4.0->scikit-plot) (1.4.7)\n",
            "Requirement already satisfied: packaging>=20.0 in c:\\users\\julian\\appdata\\roaming\\python\\python39\\site-packages (from matplotlib>=1.4.0->scikit-plot) (24.2)\n",
            "Requirement already satisfied: cycler>=0.10 in c:\\users\\julian\\appdata\\local\\programs\\python\\python39\\lib\\site-packages (from matplotlib>=1.4.0->scikit-plot) (0.12.1)\n",
            "Requirement already satisfied: fonttools>=4.22.0 in c:\\users\\julian\\appdata\\local\\programs\\python\\python39\\lib\\site-packages (from matplotlib>=1.4.0->scikit-plot) (4.56.0)\n",
            "Requirement already satisfied: threadpoolctl>=3.1.0 in c:\\users\\julian\\appdata\\local\\programs\\python\\python39\\lib\\site-packages (from scikit-learn>=0.18->scikit-plot) (3.5.0)\n",
            "Requirement already satisfied: zipp>=3.1.0 in c:\\users\\julian\\appdata\\roaming\\python\\python39\\site-packages (from importlib-resources>=3.2.0->matplotlib>=1.4.0->scikit-plot) (3.21.0)\n",
            "Requirement already satisfied: six>=1.5 in c:\\users\\julian\\appdata\\roaming\\python\\python39\\site-packages (from python-dateutil>=2.7->matplotlib>=1.4.0->scikit-plot) (1.17.0)\n"
          ]
        },
        {
          "name": "stderr",
          "output_type": "stream",
          "text": [
            "WARNING: You are using pip version 22.0.4; however, version 25.0.1 is available.\n",
            "You should consider upgrading via the 'C:\\Users\\Julian\\AppData\\Local\\Programs\\Python\\Python39\\python.exe -m pip install --upgrade pip' command.\n"
          ]
        },
        {
          "name": "stdout",
          "output_type": "stream",
          "text": [
            "Requirement already satisfied: spacy in c:\\users\\julian\\appdata\\local\\programs\\python\\python39\\lib\\site-packages (3.8.3)\n",
            "Requirement already satisfied: tqdm<5.0.0,>=4.38.0 in c:\\users\\julian\\appdata\\local\\programs\\python\\python39\\lib\\site-packages (from spacy) (4.67.1)\n",
            "Requirement already satisfied: murmurhash<1.1.0,>=0.28.0 in c:\\users\\julian\\appdata\\local\\programs\\python\\python39\\lib\\site-packages (from spacy) (1.0.12)\n",
            "Requirement already satisfied: typer<1.0.0,>=0.3.0 in c:\\users\\julian\\appdata\\local\\programs\\python\\python39\\lib\\site-packages (from spacy) (0.15.1)\n",
            "Requirement already satisfied: preshed<3.1.0,>=3.0.2 in c:\\users\\julian\\appdata\\local\\programs\\python\\python39\\lib\\site-packages (from spacy) (3.0.9)\n",
            "Requirement already satisfied: catalogue<2.1.0,>=2.0.6 in c:\\users\\julian\\appdata\\local\\programs\\python\\python39\\lib\\site-packages (from spacy) (2.0.10)\n",
            "Requirement already satisfied: requests<3.0.0,>=2.13.0 in c:\\users\\julian\\appdata\\local\\programs\\python\\python39\\lib\\site-packages (from spacy) (2.32.3)\n",
            "Requirement already satisfied: numpy>=1.19.0 in c:\\users\\julian\\appdata\\local\\programs\\python\\python39\\lib\\site-packages (from spacy) (2.0.2)\n",
            "Requirement already satisfied: thinc<8.4.0,>=8.3.0 in c:\\users\\julian\\appdata\\local\\programs\\python\\python39\\lib\\site-packages (from spacy) (8.3.4)\n",
            "Requirement already satisfied: langcodes<4.0.0,>=3.2.0 in c:\\users\\julian\\appdata\\local\\programs\\python\\python39\\lib\\site-packages (from spacy) (3.5.0)\n",
            "Requirement already satisfied: setuptools in c:\\users\\julian\\appdata\\local\\programs\\python\\python39\\lib\\site-packages (from spacy) (58.1.0)\n",
            "Requirement already satisfied: spacy-loggers<2.0.0,>=1.0.0 in c:\\users\\julian\\appdata\\local\\programs\\python\\python39\\lib\\site-packages (from spacy) (1.0.5)\n",
            "Requirement already satisfied: packaging>=20.0 in c:\\users\\julian\\appdata\\roaming\\python\\python39\\site-packages (from spacy) (24.2)\n",
            "Requirement already satisfied: srsly<3.0.0,>=2.4.3 in c:\\users\\julian\\appdata\\local\\programs\\python\\python39\\lib\\site-packages (from spacy) (2.5.1)\n",
            "Requirement already satisfied: wasabi<1.2.0,>=0.9.1 in c:\\users\\julian\\appdata\\local\\programs\\python\\python39\\lib\\site-packages (from spacy) (1.1.3)\n",
            "Requirement already satisfied: weasel<0.5.0,>=0.1.0 in c:\\users\\julian\\appdata\\local\\programs\\python\\python39\\lib\\site-packages (from spacy) (0.4.1)\n",
            "Requirement already satisfied: spacy-legacy<3.1.0,>=3.0.11 in c:\\users\\julian\\appdata\\local\\programs\\python\\python39\\lib\\site-packages (from spacy) (3.0.12)\n",
            "Requirement already satisfied: cymem<2.1.0,>=2.0.2 in c:\\users\\julian\\appdata\\local\\programs\\python\\python39\\lib\\site-packages (from spacy) (2.0.11)\n",
            "Requirement already satisfied: pydantic!=1.8,!=1.8.1,<3.0.0,>=1.7.4 in c:\\users\\julian\\appdata\\local\\programs\\python\\python39\\lib\\site-packages (from spacy) (2.10.6)\n",
            "Requirement already satisfied: jinja2 in c:\\users\\julian\\appdata\\local\\programs\\python\\python39\\lib\\site-packages (from spacy) (3.1.5)\n",
            "Requirement already satisfied: language-data>=1.2 in c:\\users\\julian\\appdata\\local\\programs\\python\\python39\\lib\\site-packages (from langcodes<4.0.0,>=3.2.0->spacy) (1.3.0)\n",
            "Requirement already satisfied: pydantic-core==2.27.2 in c:\\users\\julian\\appdata\\local\\programs\\python\\python39\\lib\\site-packages (from pydantic!=1.8,!=1.8.1,<3.0.0,>=1.7.4->spacy) (2.27.2)\n",
            "Requirement already satisfied: typing-extensions>=4.12.2 in c:\\users\\julian\\appdata\\roaming\\python\\python39\\site-packages (from pydantic!=1.8,!=1.8.1,<3.0.0,>=1.7.4->spacy) (4.12.2)\n",
            "Requirement already satisfied: annotated-types>=0.6.0 in c:\\users\\julian\\appdata\\local\\programs\\python\\python39\\lib\\site-packages (from pydantic!=1.8,!=1.8.1,<3.0.0,>=1.7.4->spacy) (0.7.0)\n",
            "Requirement already satisfied: urllib3<3,>=1.21.1 in c:\\users\\julian\\appdata\\local\\programs\\python\\python39\\lib\\site-packages (from requests<3.0.0,>=2.13.0->spacy) (2.3.0)\n",
            "Requirement already satisfied: charset-normalizer<4,>=2 in c:\\users\\julian\\appdata\\local\\programs\\python\\python39\\lib\\site-packages (from requests<3.0.0,>=2.13.0->spacy) (3.4.1)\n",
            "Requirement already satisfied: idna<4,>=2.5 in c:\\users\\julian\\appdata\\local\\programs\\python\\python39\\lib\\site-packages (from requests<3.0.0,>=2.13.0->spacy) (3.10)\n",
            "Requirement already satisfied: certifi>=2017.4.17 in c:\\users\\julian\\appdata\\local\\programs\\python\\python39\\lib\\site-packages (from requests<3.0.0,>=2.13.0->spacy) (2025.1.31)\n",
            "Requirement already satisfied: blis<1.3.0,>=1.2.0 in c:\\users\\julian\\appdata\\local\\programs\\python\\python39\\lib\\site-packages (from thinc<8.4.0,>=8.3.0->spacy) (1.2.0)\n",
            "Requirement already satisfied: confection<1.0.0,>=0.0.1 in c:\\users\\julian\\appdata\\local\\programs\\python\\python39\\lib\\site-packages (from thinc<8.4.0,>=8.3.0->spacy) (0.1.5)\n",
            "Requirement already satisfied: colorama in c:\\users\\julian\\appdata\\roaming\\python\\python39\\site-packages (from tqdm<5.0.0,>=4.38.0->spacy) (0.4.6)\n",
            "Requirement already satisfied: rich>=10.11.0 in c:\\users\\julian\\appdata\\local\\programs\\python\\python39\\lib\\site-packages (from typer<1.0.0,>=0.3.0->spacy) (13.9.4)\n",
            "Requirement already satisfied: shellingham>=1.3.0 in c:\\users\\julian\\appdata\\local\\programs\\python\\python39\\lib\\site-packages (from typer<1.0.0,>=0.3.0->spacy) (1.5.4)\n",
            "Requirement already satisfied: click>=8.0.0 in c:\\users\\julian\\appdata\\local\\programs\\python\\python39\\lib\\site-packages (from typer<1.0.0,>=0.3.0->spacy) (8.1.8)\n",
            "Requirement already satisfied: cloudpathlib<1.0.0,>=0.7.0 in c:\\users\\julian\\appdata\\local\\programs\\python\\python39\\lib\\site-packages (from weasel<0.5.0,>=0.1.0->spacy) (0.20.0)\n",
            "Requirement already satisfied: smart-open<8.0.0,>=5.2.1 in c:\\users\\julian\\appdata\\local\\programs\\python\\python39\\lib\\site-packages (from weasel<0.5.0,>=0.1.0->spacy) (7.1.0)\n",
            "Requirement already satisfied: MarkupSafe>=2.0 in c:\\users\\julian\\appdata\\local\\programs\\python\\python39\\lib\\site-packages (from jinja2->spacy) (3.0.2)\n",
            "Requirement already satisfied: marisa-trie>=1.1.0 in c:\\users\\julian\\appdata\\local\\programs\\python\\python39\\lib\\site-packages (from language-data>=1.2->langcodes<4.0.0,>=3.2.0->spacy) (1.2.1)\n",
            "Requirement already satisfied: pygments<3.0.0,>=2.13.0 in c:\\users\\julian\\appdata\\roaming\\python\\python39\\site-packages (from rich>=10.11.0->typer<1.0.0,>=0.3.0->spacy) (2.19.1)\n",
            "Requirement already satisfied: markdown-it-py>=2.2.0 in c:\\users\\julian\\appdata\\local\\programs\\python\\python39\\lib\\site-packages (from rich>=10.11.0->typer<1.0.0,>=0.3.0->spacy) (3.0.0)\n",
            "Requirement already satisfied: wrapt in c:\\users\\julian\\appdata\\local\\programs\\python\\python39\\lib\\site-packages (from smart-open<8.0.0,>=5.2.1->weasel<0.5.0,>=0.1.0->spacy) (1.17.2)\n",
            "Requirement already satisfied: mdurl~=0.1 in c:\\users\\julian\\appdata\\local\\programs\\python\\python39\\lib\\site-packages (from markdown-it-py>=2.2.0->rich>=10.11.0->typer<1.0.0,>=0.3.0->spacy) (0.1.2)\n"
          ]
        },
        {
          "name": "stderr",
          "output_type": "stream",
          "text": [
            "WARNING: You are using pip version 22.0.4; however, version 25.0.1 is available.\n",
            "You should consider upgrading via the 'C:\\Users\\Julian\\AppData\\Local\\Programs\\Python\\Python39\\python.exe -m pip install --upgrade pip' command.\n"
          ]
        },
        {
          "name": "stdout",
          "output_type": "stream",
          "text": [
            "Requirement already satisfied: stanza in c:\\users\\julian\\appdata\\local\\programs\\python\\python39\\lib\\site-packages (1.10.1)\n",
            "Requirement already satisfied: numpy in c:\\users\\julian\\appdata\\local\\programs\\python\\python39\\lib\\site-packages (from stanza) (2.0.2)\n",
            "Requirement already satisfied: requests in c:\\users\\julian\\appdata\\local\\programs\\python\\python39\\lib\\site-packages (from stanza) (2.32.3)\n",
            "Requirement already satisfied: networkx in c:\\users\\julian\\appdata\\local\\programs\\python\\python39\\lib\\site-packages (from stanza) (3.2.1)\n",
            "Requirement already satisfied: emoji in c:\\users\\julian\\appdata\\local\\programs\\python\\python39\\lib\\site-packages (from stanza) (2.14.1)\n",
            "Requirement already satisfied: torch>=1.3.0 in c:\\users\\julian\\appdata\\local\\programs\\python\\python39\\lib\\site-packages (from stanza) (2.6.0)\n",
            "Requirement already satisfied: tqdm in c:\\users\\julian\\appdata\\local\\programs\\python\\python39\\lib\\site-packages (from stanza) (4.67.1)\n",
            "Requirement already satisfied: protobuf>=3.15.0 in c:\\users\\julian\\appdata\\local\\programs\\python\\python39\\lib\\site-packages (from stanza) (5.29.3)\n",
            "Requirement already satisfied: tomli in c:\\users\\julian\\appdata\\local\\programs\\python\\python39\\lib\\site-packages (from stanza) (2.2.1)\n",
            "Requirement already satisfied: fsspec in c:\\users\\julian\\appdata\\local\\programs\\python\\python39\\lib\\site-packages (from torch>=1.3.0->stanza) (2025.2.0)\n",
            "Requirement already satisfied: filelock in c:\\users\\julian\\appdata\\local\\programs\\python\\python39\\lib\\site-packages (from torch>=1.3.0->stanza) (3.17.0)\n",
            "Requirement already satisfied: jinja2 in c:\\users\\julian\\appdata\\local\\programs\\python\\python39\\lib\\site-packages (from torch>=1.3.0->stanza) (3.1.5)\n",
            "Requirement already satisfied: sympy==1.13.1 in c:\\users\\julian\\appdata\\local\\programs\\python\\python39\\lib\\site-packages (from torch>=1.3.0->stanza) (1.13.1)\n",
            "Requirement already satisfied: typing-extensions>=4.10.0 in c:\\users\\julian\\appdata\\roaming\\python\\python39\\site-packages (from torch>=1.3.0->stanza) (4.12.2)\n",
            "Requirement already satisfied: mpmath<1.4,>=1.1.0 in c:\\users\\julian\\appdata\\local\\programs\\python\\python39\\lib\\site-packages (from sympy==1.13.1->torch>=1.3.0->stanza) (1.3.0)\n",
            "Requirement already satisfied: certifi>=2017.4.17 in c:\\users\\julian\\appdata\\local\\programs\\python\\python39\\lib\\site-packages (from requests->stanza) (2025.1.31)\n",
            "Requirement already satisfied: urllib3<3,>=1.21.1 in c:\\users\\julian\\appdata\\local\\programs\\python\\python39\\lib\\site-packages (from requests->stanza) (2.3.0)\n",
            "Requirement already satisfied: idna<4,>=2.5 in c:\\users\\julian\\appdata\\local\\programs\\python\\python39\\lib\\site-packages (from requests->stanza) (3.10)\n",
            "Requirement already satisfied: charset-normalizer<4,>=2 in c:\\users\\julian\\appdata\\local\\programs\\python\\python39\\lib\\site-packages (from requests->stanza) (3.4.1)\n",
            "Requirement already satisfied: colorama in c:\\users\\julian\\appdata\\roaming\\python\\python39\\site-packages (from tqdm->stanza) (0.4.6)\n",
            "Requirement already satisfied: MarkupSafe>=2.0 in c:\\users\\julian\\appdata\\local\\programs\\python\\python39\\lib\\site-packages (from jinja2->torch>=1.3.0->stanza) (3.0.2)\n"
          ]
        },
        {
          "name": "stderr",
          "output_type": "stream",
          "text": [
            "WARNING: You are using pip version 22.0.4; however, version 25.0.1 is available.\n",
            "You should consider upgrading via the 'C:\\Users\\Julian\\AppData\\Local\\Programs\\Python\\Python39\\python.exe -m pip install --upgrade pip' command.\n"
          ]
        },
        {
          "name": "stdout",
          "output_type": "stream",
          "text": [
            "Requirement already satisfied: xgboost in c:\\users\\julian\\appdata\\local\\programs\\python\\python39\\lib\\site-packages (2.1.4)\n",
            "Requirement already satisfied: scipy in c:\\users\\julian\\appdata\\local\\programs\\python\\python39\\lib\\site-packages (from xgboost) (1.13.1)\n",
            "Requirement already satisfied: numpy in c:\\users\\julian\\appdata\\local\\programs\\python\\python39\\lib\\site-packages (from xgboost) (2.0.2)\n"
          ]
        },
        {
          "name": "stderr",
          "output_type": "stream",
          "text": [
            "WARNING: You are using pip version 22.0.4; however, version 25.0.1 is available.\n",
            "You should consider upgrading via the 'C:\\Users\\Julian\\AppData\\Local\\Programs\\Python\\Python39\\python.exe -m pip install --upgrade pip' command.\n"
          ]
        }
      ],
      "source": [
        "!pip install nltk\n",
        "!pip install contractions\n",
        "!pip install inflect\n",
        "!pip install scikit-plot\n",
        "!pip install spacy\n",
        "!pip install stanza\n",
        "!pip install xgboost"
      ]
    },
    {
      "cell_type": "code",
      "execution_count": 2,
      "metadata": {
        "colab": {
          "base_uri": "https://localhost:8080/"
        },
        "id": "373WWwSR8bPT",
        "outputId": "cf66d5e1-e2dc-4733-998b-8662083905b5"
      },
      "outputs": [
        {
          "name": "stderr",
          "output_type": "stream",
          "text": [
            "[nltk_data] Downloading package punkt to\n",
            "[nltk_data]     C:\\Users\\Julian\\AppData\\Roaming\\nltk_data...\n",
            "[nltk_data]   Package punkt is already up-to-date!\n",
            "[nltk_data] Downloading package stopwords to\n",
            "[nltk_data]     C:\\Users\\Julian\\AppData\\Roaming\\nltk_data...\n",
            "[nltk_data]   Package stopwords is already up-to-date!\n",
            "[nltk_data] Downloading package wordnet to\n",
            "[nltk_data]     C:\\Users\\Julian\\AppData\\Roaming\\nltk_data...\n",
            "[nltk_data]   Package wordnet is already up-to-date!\n"
          ]
        },
        {
          "data": {
            "text/plain": [
              "True"
            ]
          },
          "execution_count": 2,
          "metadata": {},
          "output_type": "execute_result"
        }
      ],
      "source": [
        "import nltk\n",
        "nltk.download('punkt')\n",
        "nltk.download('stopwords')\n",
        "nltk.download('wordnet')"
      ]
    },
    {
      "cell_type": "code",
      "execution_count": 4,
      "metadata": {
        "colab": {
          "base_uri": "https://localhost:8080/"
        },
        "id": "YaiollzG8bPU",
        "outputId": "5b517d7b-5b1f-44d9-d8aa-e4b83678d29a"
      },
      "outputs": [
        {
          "name": "stdout",
          "output_type": "stream",
          "text": [
            "Requirement already satisfied: pandas-profiling in c:\\users\\julian\\appdata\\local\\programs\\python\\python39\\lib\\site-packages (3.6.6)\n",
            "Requirement already satisfied: ydata-profiling in c:\\users\\julian\\appdata\\local\\programs\\python\\python39\\lib\\site-packages (from pandas-profiling) (4.12.2)\n",
            "Requirement already satisfied: numpy<2.2,>=1.16.0 in c:\\users\\julian\\appdata\\local\\programs\\python\\python39\\lib\\site-packages (from ydata-profiling->pandas-profiling) (2.0.2)\n",
            "Requirement already satisfied: statsmodels<1,>=0.13.2 in c:\\users\\julian\\appdata\\local\\programs\\python\\python39\\lib\\site-packages (from ydata-profiling->pandas-profiling) (0.14.4)\n",
            "Requirement already satisfied: htmlmin==0.1.12 in c:\\users\\julian\\appdata\\local\\programs\\python\\python39\\lib\\site-packages (from ydata-profiling->pandas-profiling) (0.1.12)\n",
            "Requirement already satisfied: seaborn<0.14,>=0.10.1 in c:\\users\\julian\\appdata\\local\\programs\\python\\python39\\lib\\site-packages (from ydata-profiling->pandas-profiling) (0.13.2)\n",
            "Requirement already satisfied: scipy<1.16,>=1.4.1 in c:\\users\\julian\\appdata\\local\\programs\\python\\python39\\lib\\site-packages (from ydata-profiling->pandas-profiling) (1.13.1)\n",
            "Requirement already satisfied: dacite>=1.8 in c:\\users\\julian\\appdata\\local\\programs\\python\\python39\\lib\\site-packages (from ydata-profiling->pandas-profiling) (1.9.2)\n",
            "Requirement already satisfied: matplotlib>=3.5 in c:\\users\\julian\\appdata\\local\\programs\\python\\python39\\lib\\site-packages (from ydata-profiling->pandas-profiling) (3.9.4)\n",
            "Requirement already satisfied: imagehash==4.3.1 in c:\\users\\julian\\appdata\\local\\programs\\python\\python39\\lib\\site-packages (from ydata-profiling->pandas-profiling) (4.3.1)\n",
            "Requirement already satisfied: typeguard<5,>=3 in c:\\users\\julian\\appdata\\local\\programs\\python\\python39\\lib\\site-packages (from ydata-profiling->pandas-profiling) (4.4.2)\n",
            "Requirement already satisfied: PyYAML<6.1,>=5.0.0 in c:\\users\\julian\\appdata\\local\\programs\\python\\python39\\lib\\site-packages (from ydata-profiling->pandas-profiling) (6.0.2)\n",
            "Requirement already satisfied: phik<0.13,>=0.11.1 in c:\\users\\julian\\appdata\\local\\programs\\python\\python39\\lib\\site-packages (from ydata-profiling->pandas-profiling) (0.12.4)\n",
            "Requirement already satisfied: pandas!=1.4.0,<3,>1.1 in c:\\users\\julian\\appdata\\local\\programs\\python\\python39\\lib\\site-packages (from ydata-profiling->pandas-profiling) (2.2.3)\n",
            "Requirement already satisfied: pydantic>=2 in c:\\users\\julian\\appdata\\local\\programs\\python\\python39\\lib\\site-packages (from ydata-profiling->pandas-profiling) (2.10.6)\n",
            "Requirement already satisfied: multimethod<2,>=1.4 in c:\\users\\julian\\appdata\\local\\programs\\python\\python39\\lib\\site-packages (from ydata-profiling->pandas-profiling) (1.12)\n",
            "Requirement already satisfied: wordcloud>=1.9.3 in c:\\users\\julian\\appdata\\local\\programs\\python\\python39\\lib\\site-packages (from ydata-profiling->pandas-profiling) (1.9.4)\n",
            "Requirement already satisfied: visions[type_image_path]<0.8.0,>=0.7.5 in c:\\users\\julian\\appdata\\local\\programs\\python\\python39\\lib\\site-packages (from ydata-profiling->pandas-profiling) (0.7.6)\n",
            "Requirement already satisfied: requests<3,>=2.24.0 in c:\\users\\julian\\appdata\\local\\programs\\python\\python39\\lib\\site-packages (from ydata-profiling->pandas-profiling) (2.32.3)\n",
            "Requirement already satisfied: jinja2<3.2,>=2.11.1 in c:\\users\\julian\\appdata\\local\\programs\\python\\python39\\lib\\site-packages (from ydata-profiling->pandas-profiling) (3.1.5)\n",
            "Requirement already satisfied: tqdm<5,>=4.48.2 in c:\\users\\julian\\appdata\\local\\programs\\python\\python39\\lib\\site-packages (from ydata-profiling->pandas-profiling) (4.67.1)\n",
            "Requirement already satisfied: pillow in c:\\users\\julian\\appdata\\local\\programs\\python\\python39\\lib\\site-packages (from imagehash==4.3.1->ydata-profiling->pandas-profiling) (11.1.0)\n",
            "Requirement already satisfied: PyWavelets in c:\\users\\julian\\appdata\\local\\programs\\python\\python39\\lib\\site-packages (from imagehash==4.3.1->ydata-profiling->pandas-profiling) (1.6.0)\n",
            "Requirement already satisfied: MarkupSafe>=2.0 in c:\\users\\julian\\appdata\\local\\programs\\python\\python39\\lib\\site-packages (from jinja2<3.2,>=2.11.1->ydata-profiling->pandas-profiling) (3.0.2)\n",
            "Requirement already satisfied: python-dateutil>=2.7 in c:\\users\\julian\\appdata\\roaming\\python\\python39\\site-packages (from matplotlib>=3.5->ydata-profiling->pandas-profiling) (2.9.0.post0)\n",
            "Requirement already satisfied: importlib-resources>=3.2.0 in c:\\users\\julian\\appdata\\local\\programs\\python\\python39\\lib\\site-packages (from matplotlib>=3.5->ydata-profiling->pandas-profiling) (6.5.2)\n",
            "Requirement already satisfied: contourpy>=1.0.1 in c:\\users\\julian\\appdata\\local\\programs\\python\\python39\\lib\\site-packages (from matplotlib>=3.5->ydata-profiling->pandas-profiling) (1.3.0)\n",
            "Requirement already satisfied: cycler>=0.10 in c:\\users\\julian\\appdata\\local\\programs\\python\\python39\\lib\\site-packages (from matplotlib>=3.5->ydata-profiling->pandas-profiling) (0.12.1)\n",
            "Requirement already satisfied: packaging>=20.0 in c:\\users\\julian\\appdata\\roaming\\python\\python39\\site-packages (from matplotlib>=3.5->ydata-profiling->pandas-profiling) (24.2)\n",
            "Requirement already satisfied: pyparsing>=2.3.1 in c:\\users\\julian\\appdata\\local\\programs\\python\\python39\\lib\\site-packages (from matplotlib>=3.5->ydata-profiling->pandas-profiling) (3.2.1)\n",
            "Requirement already satisfied: kiwisolver>=1.3.1 in c:\\users\\julian\\appdata\\local\\programs\\python\\python39\\lib\\site-packages (from matplotlib>=3.5->ydata-profiling->pandas-profiling) (1.4.7)\n",
            "Requirement already satisfied: fonttools>=4.22.0 in c:\\users\\julian\\appdata\\local\\programs\\python\\python39\\lib\\site-packages (from matplotlib>=3.5->ydata-profiling->pandas-profiling) (4.56.0)\n",
            "Requirement already satisfied: tzdata>=2022.7 in c:\\users\\julian\\appdata\\local\\programs\\python\\python39\\lib\\site-packages (from pandas!=1.4.0,<3,>1.1->ydata-profiling->pandas-profiling) (2025.1)\n",
            "Requirement already satisfied: pytz>=2020.1 in c:\\users\\julian\\appdata\\local\\programs\\python\\python39\\lib\\site-packages (from pandas!=1.4.0,<3,>1.1->ydata-profiling->pandas-profiling) (2025.1)\n",
            "Requirement already satisfied: joblib>=0.14.1 in c:\\users\\julian\\appdata\\local\\programs\\python\\python39\\lib\\site-packages (from phik<0.13,>=0.11.1->ydata-profiling->pandas-profiling) (1.4.2)\n",
            "Requirement already satisfied: pydantic-core==2.27.2 in c:\\users\\julian\\appdata\\local\\programs\\python\\python39\\lib\\site-packages (from pydantic>=2->ydata-profiling->pandas-profiling) (2.27.2)\n",
            "Requirement already satisfied: typing-extensions>=4.12.2 in c:\\users\\julian\\appdata\\roaming\\python\\python39\\site-packages (from pydantic>=2->ydata-profiling->pandas-profiling) (4.12.2)\n",
            "Requirement already satisfied: annotated-types>=0.6.0 in c:\\users\\julian\\appdata\\local\\programs\\python\\python39\\lib\\site-packages (from pydantic>=2->ydata-profiling->pandas-profiling) (0.7.0)\n",
            "Requirement already satisfied: idna<4,>=2.5 in c:\\users\\julian\\appdata\\local\\programs\\python\\python39\\lib\\site-packages (from requests<3,>=2.24.0->ydata-profiling->pandas-profiling) (3.10)\n",
            "Requirement already satisfied: charset-normalizer<4,>=2 in c:\\users\\julian\\appdata\\local\\programs\\python\\python39\\lib\\site-packages (from requests<3,>=2.24.0->ydata-profiling->pandas-profiling) (3.4.1)\n",
            "Requirement already satisfied: urllib3<3,>=1.21.1 in c:\\users\\julian\\appdata\\local\\programs\\python\\python39\\lib\\site-packages (from requests<3,>=2.24.0->ydata-profiling->pandas-profiling) (2.3.0)\n",
            "Requirement already satisfied: certifi>=2017.4.17 in c:\\users\\julian\\appdata\\local\\programs\\python\\python39\\lib\\site-packages (from requests<3,>=2.24.0->ydata-profiling->pandas-profiling) (2025.1.31)\n",
            "Requirement already satisfied: patsy>=0.5.6 in c:\\users\\julian\\appdata\\local\\programs\\python\\python39\\lib\\site-packages (from statsmodels<1,>=0.13.2->ydata-profiling->pandas-profiling) (1.0.1)\n",
            "Requirement already satisfied: colorama in c:\\users\\julian\\appdata\\roaming\\python\\python39\\site-packages (from tqdm<5,>=4.48.2->ydata-profiling->pandas-profiling) (0.4.6)\n",
            "Requirement already satisfied: importlib_metadata>=3.6 in c:\\users\\julian\\appdata\\roaming\\python\\python39\\site-packages (from typeguard<5,>=3->ydata-profiling->pandas-profiling) (8.6.1)\n",
            "Requirement already satisfied: networkx>=2.4 in c:\\users\\julian\\appdata\\local\\programs\\python\\python39\\lib\\site-packages (from visions[type_image_path]<0.8.0,>=0.7.5->ydata-profiling->pandas-profiling) (3.2.1)\n",
            "Requirement already satisfied: attrs>=19.3.0 in c:\\users\\julian\\appdata\\local\\programs\\python\\python39\\lib\\site-packages (from visions[type_image_path]<0.8.0,>=0.7.5->ydata-profiling->pandas-profiling) (25.1.0)\n",
            "Requirement already satisfied: zipp>=3.20 in c:\\users\\julian\\appdata\\roaming\\python\\python39\\site-packages (from importlib_metadata>=3.6->typeguard<5,>=3->ydata-profiling->pandas-profiling) (3.21.0)\n",
            "Requirement already satisfied: six>=1.5 in c:\\users\\julian\\appdata\\roaming\\python\\python39\\site-packages (from python-dateutil>=2.7->matplotlib>=3.5->ydata-profiling->pandas-profiling) (1.17.0)\n"
          ]
        },
        {
          "name": "stderr",
          "output_type": "stream",
          "text": [
            "WARNING: You are using pip version 22.0.4; however, version 25.0.1 is available.\n",
            "You should consider upgrading via the 'c:\\Users\\Julian\\AppData\\Local\\Programs\\Python\\Python39\\python.exe -m pip install --upgrade pip' command.\n"
          ]
        }
      ],
      "source": [
        "# Instalación de librerias\n",
        "import pandas as pd\n",
        "import numpy as np\n",
        "import sys\n",
        "!{sys.executable} -m pip install pandas-profiling\n",
        "\n",
        "import re, string, unicodedata\n",
        "import contractions\n",
        "import inflect\n",
        "from nltk import word_tokenize, sent_tokenize\n",
        "from nltk.corpus import stopwords\n",
        "from nltk.stem import LancasterStemmer, WordNetLemmatizer, SnowballStemmer\n",
        "\n",
        "from sklearn.model_selection import train_test_split,GridSearchCV\n",
        "from sklearn.feature_extraction.text import TfidfVectorizer, CountVectorizer, HashingVectorizer\n",
        "from sklearn.pipeline import Pipeline, FeatureUnion\n",
        "from sklearn.svm import SVC\n",
        "from sklearn.ensemble import BaggingClassifier, RandomForestClassifier, AdaBoostClassifier\n",
        "from sklearn.naive_bayes import BernoulliNB, MultinomialNB\n",
        "from sklearn.metrics import classification_report, confusion_matrix, accuracy_score\n",
        "\n",
        "\n",
        "from sklearn.base import BaseEstimator, ClassifierMixin\n",
        "\n",
        "import matplotlib.pyplot as plt"
      ]
    },
    {
      "cell_type": "markdown",
      "metadata": {
        "id": "nmO_fKpe8bPU"
      },
      "source": [
        "## Perfilamiento y entendimiento de datos"
      ]
    },
    {
      "cell_type": "code",
      "execution_count": 6,
      "metadata": {
        "id": "uDubfVuL8bPU"
      },
      "outputs": [],
      "source": [
        "import pandas as pd\n",
        "\n",
        "df = pd.read_csv(\"fake_news_spanish.csv\", sep=\";\",encoding=\"utf-8\" )\n",
        "df_t=df"
      ]
    },
    {
      "cell_type": "code",
      "execution_count": 7,
      "metadata": {
        "colab": {
          "base_uri": "https://localhost:8080/",
          "height": 424
        },
        "id": "urjPnN838bPU",
        "outputId": "1860e234-3e68-4483-f130-6f3b08ac18b9"
      },
      "outputs": [
        {
          "data": {
            "text/html": [
              "<div>\n",
              "<style scoped>\n",
              "    .dataframe tbody tr th:only-of-type {\n",
              "        vertical-align: middle;\n",
              "    }\n",
              "\n",
              "    .dataframe tbody tr th {\n",
              "        vertical-align: top;\n",
              "    }\n",
              "\n",
              "    .dataframe thead th {\n",
              "        text-align: right;\n",
              "    }\n",
              "</style>\n",
              "<table border=\"1\" class=\"dataframe\">\n",
              "  <thead>\n",
              "    <tr style=\"text-align: right;\">\n",
              "      <th></th>\n",
              "      <th>ID</th>\n",
              "      <th>Label</th>\n",
              "      <th>Titulo</th>\n",
              "      <th>Descripcion</th>\n",
              "      <th>Fecha</th>\n",
              "    </tr>\n",
              "  </thead>\n",
              "  <tbody>\n",
              "    <tr>\n",
              "      <th>0</th>\n",
              "      <td>ID</td>\n",
              "      <td>1</td>\n",
              "      <td>'The Guardian' va con Sánchez: 'Europa necesit...</td>\n",
              "      <td>El diario británico publicó este pasado jueves...</td>\n",
              "      <td>02/06/2023</td>\n",
              "    </tr>\n",
              "    <tr>\n",
              "      <th>1</th>\n",
              "      <td>ID</td>\n",
              "      <td>0</td>\n",
              "      <td>REVELAN QUE EL GOBIERNO NEGOCIO LA LIBERACIÓN ...</td>\n",
              "      <td>REVELAN QUE EL GOBIERNO NEGOCIO LA LIBERACIÓN ...</td>\n",
              "      <td>01/10/2023</td>\n",
              "    </tr>\n",
              "    <tr>\n",
              "      <th>2</th>\n",
              "      <td>ID</td>\n",
              "      <td>1</td>\n",
              "      <td>El 'Ahora o nunca' de Joan Fuster sobre el est...</td>\n",
              "      <td>El valencianismo convoca en Castelló su fiesta...</td>\n",
              "      <td>25/04/2022</td>\n",
              "    </tr>\n",
              "    <tr>\n",
              "      <th>3</th>\n",
              "      <td>ID</td>\n",
              "      <td>1</td>\n",
              "      <td>Iglesias alienta a Yolanda Díaz, ERC y EH Bild...</td>\n",
              "      <td>En política, igual que hay que negociar con lo...</td>\n",
              "      <td>03/01/2022</td>\n",
              "    </tr>\n",
              "    <tr>\n",
              "      <th>4</th>\n",
              "      <td>ID</td>\n",
              "      <td>0</td>\n",
              "      <td>Puigdemont: 'No sería ninguna tragedia una rep...</td>\n",
              "      <td>En una entrevista en El Punt Avui, el líder de...</td>\n",
              "      <td>09/03/2018</td>\n",
              "    </tr>\n",
              "    <tr>\n",
              "      <th>...</th>\n",
              "      <td>...</td>\n",
              "      <td>...</td>\n",
              "      <td>...</td>\n",
              "      <td>...</td>\n",
              "      <td>...</td>\n",
              "    </tr>\n",
              "    <tr>\n",
              "      <th>57058</th>\n",
              "      <td>ID</td>\n",
              "      <td>1</td>\n",
              "      <td>El Defensor del Pueblo reclama a la Comunidad ...</td>\n",
              "      <td>El gobierno regional han indicado que la atenc...</td>\n",
              "      <td>08/06/2021</td>\n",
              "    </tr>\n",
              "    <tr>\n",
              "      <th>57059</th>\n",
              "      <td>ID</td>\n",
              "      <td>0</td>\n",
              "      <td>El EQUO plantea ceder la presidencia de la Com...</td>\n",
              "      <td>Si la higiene democrática nos lleva a esa exig...</td>\n",
              "      <td>08/09/2020</td>\n",
              "    </tr>\n",
              "    <tr>\n",
              "      <th>57060</th>\n",
              "      <td>ID</td>\n",
              "      <td>1</td>\n",
              "      <td>Alberto Garzón: 'Que los Borbones son unos lad...</td>\n",
              "      <td>El coordinador federal de IU asegura que la mo...</td>\n",
              "      <td>12/07/2018</td>\n",
              "    </tr>\n",
              "    <tr>\n",
              "      <th>57061</th>\n",
              "      <td>ID</td>\n",
              "      <td>1</td>\n",
              "      <td>Vox exige entrar en el Gobierno de Castilla y ...</td>\n",
              "      <td>Santiago Abascal: Vox tiene el derecho y el de...</td>\n",
              "      <td>13/02/2022</td>\n",
              "    </tr>\n",
              "    <tr>\n",
              "      <th>57062</th>\n",
              "      <td>ID</td>\n",
              "      <td>1</td>\n",
              "      <td>Unas 300 personas protestan contra la visita d...</td>\n",
              "      <td>Los Mossos dEsquadra han blindado los alrededo...</td>\n",
              "      <td>09/10/2020</td>\n",
              "    </tr>\n",
              "  </tbody>\n",
              "</table>\n",
              "<p>57063 rows × 5 columns</p>\n",
              "</div>"
            ],
            "text/plain": [
              "       ID  Label                                             Titulo  \\\n",
              "0      ID      1  'The Guardian' va con Sánchez: 'Europa necesit...   \n",
              "1      ID      0  REVELAN QUE EL GOBIERNO NEGOCIO LA LIBERACIÓN ...   \n",
              "2      ID      1  El 'Ahora o nunca' de Joan Fuster sobre el est...   \n",
              "3      ID      1  Iglesias alienta a Yolanda Díaz, ERC y EH Bild...   \n",
              "4      ID      0  Puigdemont: 'No sería ninguna tragedia una rep...   \n",
              "...    ..    ...                                                ...   \n",
              "57058  ID      1  El Defensor del Pueblo reclama a la Comunidad ...   \n",
              "57059  ID      0  El EQUO plantea ceder la presidencia de la Com...   \n",
              "57060  ID      1  Alberto Garzón: 'Que los Borbones son unos lad...   \n",
              "57061  ID      1  Vox exige entrar en el Gobierno de Castilla y ...   \n",
              "57062  ID      1  Unas 300 personas protestan contra la visita d...   \n",
              "\n",
              "                                             Descripcion       Fecha  \n",
              "0      El diario británico publicó este pasado jueves...  02/06/2023  \n",
              "1      REVELAN QUE EL GOBIERNO NEGOCIO LA LIBERACIÓN ...  01/10/2023  \n",
              "2      El valencianismo convoca en Castelló su fiesta...  25/04/2022  \n",
              "3      En política, igual que hay que negociar con lo...  03/01/2022  \n",
              "4      En una entrevista en El Punt Avui, el líder de...  09/03/2018  \n",
              "...                                                  ...         ...  \n",
              "57058  El gobierno regional han indicado que la atenc...  08/06/2021  \n",
              "57059  Si la higiene democrática nos lleva a esa exig...  08/09/2020  \n",
              "57060  El coordinador federal de IU asegura que la mo...  12/07/2018  \n",
              "57061  Santiago Abascal: Vox tiene el derecho y el de...  13/02/2022  \n",
              "57062  Los Mossos dEsquadra han blindado los alrededo...  09/10/2020  \n",
              "\n",
              "[57063 rows x 5 columns]"
            ]
          },
          "execution_count": 7,
          "metadata": {},
          "output_type": "execute_result"
        }
      ],
      "source": [
        "df_t"
      ]
    },
    {
      "cell_type": "code",
      "execution_count": 8,
      "metadata": {
        "colab": {
          "base_uri": "https://localhost:8080/"
        },
        "id": "Ixg7YDTg8bPV",
        "outputId": "dcb05672-ff50-448d-a561-a00e43d6e7af"
      },
      "outputs": [
        {
          "name": "stdout",
          "output_type": "stream",
          "text": [
            "<class 'pandas.core.frame.DataFrame'>\n",
            "RangeIndex: 57063 entries, 0 to 57062\n",
            "Data columns (total 5 columns):\n",
            " #   Column       Non-Null Count  Dtype \n",
            "---  ------       --------------  ----- \n",
            " 0   ID           57063 non-null  object\n",
            " 1   Label        57063 non-null  int64 \n",
            " 2   Titulo       57047 non-null  object\n",
            " 3   Descripcion  57063 non-null  object\n",
            " 4   Fecha        57063 non-null  object\n",
            "dtypes: int64(1), object(4)\n",
            "memory usage: 2.2+ MB\n"
          ]
        }
      ],
      "source": [
        "df_t.info()"
      ]
    },
    {
      "cell_type": "markdown",
      "metadata": {
        "id": "-5P1cpcY8bPV"
      },
      "source": [
        "## Entendimiento de de los datos"
      ]
    },
    {
      "cell_type": "markdown",
      "metadata": {
        "id": "dSWUH2ddRDHb"
      },
      "source": [
        "Se realizó un perfilamiento inicial del dataset para comprender su estructura y calidad de datos, incluyendo la identificación de dimensiones, tipos de datos, valores nulos, filas duplicadas y la distribución de la variable objetivo. Se corrigió un error relacionado con datos de tipo lista al convertir todas las columnas a string, lo que permitió ejecutar correctamente la detección de duplicados. Este análisis es clave para garantizar que los datos estén en un formato adecuado antes de cualquier procesamiento o modelado."
      ]
    },
    {
      "cell_type": "code",
      "execution_count": 9,
      "metadata": {
        "colab": {
          "base_uri": "https://localhost:8080/"
        },
        "id": "VN4tNf9FP4PA",
        "outputId": "ce2d215c-41d4-47f6-a713-9d546f7f3487"
      },
      "outputs": [
        {
          "name": "stdout",
          "output_type": "stream",
          "text": [
            "Dimensiones del dataset (filas, columnas): (57063, 5)\n",
            "\n",
            "Tipos de datos de cada columna:\n",
            " ID             object\n",
            "Label          object\n",
            "Titulo         object\n",
            "Descripcion    object\n",
            "Fecha          object\n",
            "dtype: object\n",
            "\n",
            "Valores nulos por columna:\n",
            " ID             0\n",
            "Label          0\n",
            "Titulo         0\n",
            "Descripcion    0\n",
            "Fecha          0\n",
            "dtype: int64\n",
            "\n",
            "Cantidad de filas duplicadas: 445\n"
          ]
        }
      ],
      "source": [
        "df = df.astype(str)\n",
        "\n",
        "# a. Dimensiones del dataset\n",
        "print(\"Dimensiones del dataset (filas, columnas):\", df.shape)\n",
        "\n",
        "# b. Tipos de datos de cada columna\n",
        "print(\"\\nTipos de datos de cada columna:\\n\", df.dtypes)\n",
        "\n",
        "# c. Cantidad de valores nulos por columna\n",
        "print(\"\\nValores nulos por columna:\\n\", df.isnull().sum())\n",
        "\n",
        "# d. Cantidad de filas duplicadas\n",
        "duplicados = df.duplicated().sum()\n",
        "print(\"\\nCantidad de filas duplicadas:\", duplicados)\n",
        "\n",
        "# e. Distribución de la variable objetivo (si existe una columna 'label')\n",
        "if \"label\" in df.columns:\n",
        "    print(\"\\nDistribución de clases en la variable objetivo:\\n\", df[\"label\"].value_counts())"
      ]
    },
    {
      "cell_type": "markdown",
      "metadata": {
        "id": "zqAxlZ4IRgp2"
      },
      "source": [
        "El análisis del dataset muestra que contiene **57,063 filas y 8 columnas**, lo que indica un volumen considerable de datos. **Todos los atributos han sido convertidos a tipo \"object\" (string)** para evitar errores en la detección de duplicados. Se observa que **no hay valores nulos** en ninguna columna, lo que sugiere que el dataset está completo en términos de datos registrados. Sin embargo, se identificaron **445 filas duplicadas**, lo que podría afectar el análisis y requerir una limpieza adicional."
      ]
    },
    {
      "cell_type": "markdown",
      "metadata": {
        "id": "0lBcaCl3Ruea"
      },
      "source": [
        "Adicionalmente se presenta un grafico con la distribución de clases"
      ]
    },
    {
      "cell_type": "code",
      "execution_count": 10,
      "metadata": {
        "colab": {
          "base_uri": "https://localhost:8080/",
          "height": 497
        },
        "id": "e8zkv13FRsBO",
        "outputId": "0e234bc1-1a2e-4799-d0b7-4df9c37f4cd4"
      },
      "outputs": [
        {
          "name": "stderr",
          "output_type": "stream",
          "text": [
            "C:\\Users\\Julian\\AppData\\Local\\Temp\\ipykernel_9876\\4292955707.py:12: FutureWarning: \n",
            "\n",
            "Passing `palette` without assigning `hue` is deprecated and will be removed in v0.14.0. Assign the `x` variable to `hue` and set `legend=False` for the same effect.\n",
            "\n",
            "  sns.barplot(x=label_counts.index, y=label_counts.values, palette=\"viridis\")\n"
          ]
        },
        {
          "data": {
            "image/png": "[encoded data removed]",
            "text/plain": [
              "<Figure size 600x400 with 1 Axes>"
            ]
          },
          "metadata": {},
          "output_type": "display_data"
        }
      ],
      "source": [
        "import matplotlib.pyplot as plt\n",
        "import seaborn as sns\n",
        "\n",
        "# Convertir la columna Label a tipo numérico (por si hay valores como strings)\n",
        "df[\"Label\"] = pd.to_numeric(df[\"Label\"], errors=\"coerce\")\n",
        "\n",
        "# Contar la frecuencia de cada clase (0 y 1)\n",
        "label_counts = df[\"Label\"].value_counts()\n",
        "\n",
        "# Crear la gráfica de barras\n",
        "plt.figure(figsize=(6, 4))\n",
        "sns.barplot(x=label_counts.index, y=label_counts.values, palette=\"viridis\")\n",
        "plt.xlabel(\"Clases (Label)\")\n",
        "plt.ylabel(\"Frecuencia\")\n",
        "plt.title(\"Distribución de la variable Label\")\n",
        "plt.xticks([0, 1], [\"0 (Falso)\", \"1 (Verdadero)\"])  # Etiquetas personalizadas\n",
        "plt.show()\n"
      ]
    },
    {
      "cell_type": "code",
      "execution_count": 11,
      "metadata": {
        "colab": {
          "base_uri": "https://localhost:8080/"
        },
        "id": "JN2wQqJv8bPV",
        "outputId": "41b23e2f-45a8-4069-9396-98047a357dcc"
      },
      "outputs": [
        {
          "name": "stdout",
          "output_type": "stream",
          "text": [
            "   ID  Label                                             Titulo  \\\n",
            "0  ID      1  'The Guardian' va con Sánchez: 'Europa necesit...   \n",
            "1  ID      0  REVELAN QUE EL GOBIERNO NEGOCIO LA LIBERACIÓN ...   \n",
            "2  ID      1  El 'Ahora o nunca' de Joan Fuster sobre el est...   \n",
            "3  ID      1  Iglesias alienta a Yolanda Díaz, ERC y EH Bild...   \n",
            "4  ID      0  Puigdemont: 'No sería ninguna tragedia una rep...   \n",
            "\n",
            "                                         Descripcion       Fecha  Conteo  Max  \\\n",
            "0  El diario británico publicó este pasado jueves...  02/06/2023     218   13   \n",
            "1  REVELAN QUE EL GOBIERNO NEGOCIO LA LIBERACIÓN ...  01/10/2023    3251   14   \n",
            "2  El valencianismo convoca en Castelló su fiesta...  25/04/2022     169   13   \n",
            "3  En política, igual que hay que negociar con lo...  03/01/2022     133   15   \n",
            "4  En una entrevista en El Punt Avui, el líder de...  09/03/2018     242   14   \n",
            "\n",
            "   Min  \n",
            "0    1  \n",
            "1    1  \n",
            "2    2  \n",
            "3    2  \n",
            "4    1  \n"
          ]
        }
      ],
      "source": [
        "import pandas as pd\n",
        "from scipy import stats as st\n",
        "\n",
        "# Copia del dataset original para evitar modificarlo directamente\n",
        "textos = df_t.copy()\n",
        "\n",
        "# Longitud total del mensaje en caracteres\n",
        "textos['Conteo'] = textos['Descripcion'].apply(len)\n",
        "\n",
        "# Longitud de la palabra más larga en cada mensaje\n",
        "textos['Max'] = textos['Descripcion'].apply(lambda x: max(map(len, x.split())))\n",
        "\n",
        "# Longitud de la palabra más corta en cada mensaje\n",
        "textos['Min'] = textos['Descripcion'].apply(lambda x: min(map(len, x.split())))\n",
        "\n",
        "# Moda de la longitud de palabras en cada mensaje\n",
        "#textos['Moda'] = textos['Descripcion'].apply(lambda x: st.mode([len(p) for p in x.split()])[0][0])\n",
        "\n",
        "# Mostrar resultados\n",
        "print(textos.head())"
      ]
    },
    {
      "cell_type": "code",
      "execution_count": 12,
      "metadata": {
        "colab": {
          "base_uri": "https://localhost:8080/",
          "height": 424
        },
        "id": "zPSAhqR98bPV",
        "outputId": "2de0ebcb-b8a6-4db7-86a3-224fa3638ab9"
      },
      "outputs": [
        {
          "data": {
            "text/html": [
              "<div>\n",
              "<style scoped>\n",
              "    .dataframe tbody tr th:only-of-type {\n",
              "        vertical-align: middle;\n",
              "    }\n",
              "\n",
              "    .dataframe tbody tr th {\n",
              "        vertical-align: top;\n",
              "    }\n",
              "\n",
              "    .dataframe thead th {\n",
              "        text-align: right;\n",
              "    }\n",
              "</style>\n",
              "<table border=\"1\" class=\"dataframe\">\n",
              "  <thead>\n",
              "    <tr style=\"text-align: right;\">\n",
              "      <th></th>\n",
              "      <th>ID</th>\n",
              "      <th>Label</th>\n",
              "      <th>Titulo</th>\n",
              "      <th>Descripcion</th>\n",
              "      <th>Fecha</th>\n",
              "      <th>Conteo</th>\n",
              "      <th>Max</th>\n",
              "      <th>Min</th>\n",
              "    </tr>\n",
              "  </thead>\n",
              "  <tbody>\n",
              "    <tr>\n",
              "      <th>0</th>\n",
              "      <td>ID</td>\n",
              "      <td>1</td>\n",
              "      <td>'The Guardian' va con Sánchez: 'Europa necesit...</td>\n",
              "      <td>El diario británico publicó este pasado jueves...</td>\n",
              "      <td>02/06/2023</td>\n",
              "      <td>218</td>\n",
              "      <td>13</td>\n",
              "      <td>1</td>\n",
              "    </tr>\n",
              "    <tr>\n",
              "      <th>1</th>\n",
              "      <td>ID</td>\n",
              "      <td>0</td>\n",
              "      <td>REVELAN QUE EL GOBIERNO NEGOCIO LA LIBERACIÓN ...</td>\n",
              "      <td>REVELAN QUE EL GOBIERNO NEGOCIO LA LIBERACIÓN ...</td>\n",
              "      <td>01/10/2023</td>\n",
              "      <td>3251</td>\n",
              "      <td>14</td>\n",
              "      <td>1</td>\n",
              "    </tr>\n",
              "    <tr>\n",
              "      <th>2</th>\n",
              "      <td>ID</td>\n",
              "      <td>1</td>\n",
              "      <td>El 'Ahora o nunca' de Joan Fuster sobre el est...</td>\n",
              "      <td>El valencianismo convoca en Castelló su fiesta...</td>\n",
              "      <td>25/04/2022</td>\n",
              "      <td>169</td>\n",
              "      <td>13</td>\n",
              "      <td>2</td>\n",
              "    </tr>\n",
              "    <tr>\n",
              "      <th>3</th>\n",
              "      <td>ID</td>\n",
              "      <td>1</td>\n",
              "      <td>Iglesias alienta a Yolanda Díaz, ERC y EH Bild...</td>\n",
              "      <td>En política, igual que hay que negociar con lo...</td>\n",
              "      <td>03/01/2022</td>\n",
              "      <td>133</td>\n",
              "      <td>15</td>\n",
              "      <td>2</td>\n",
              "    </tr>\n",
              "    <tr>\n",
              "      <th>4</th>\n",
              "      <td>ID</td>\n",
              "      <td>0</td>\n",
              "      <td>Puigdemont: 'No sería ninguna tragedia una rep...</td>\n",
              "      <td>En una entrevista en El Punt Avui, el líder de...</td>\n",
              "      <td>09/03/2018</td>\n",
              "      <td>242</td>\n",
              "      <td>14</td>\n",
              "      <td>1</td>\n",
              "    </tr>\n",
              "    <tr>\n",
              "      <th>...</th>\n",
              "      <td>...</td>\n",
              "      <td>...</td>\n",
              "      <td>...</td>\n",
              "      <td>...</td>\n",
              "      <td>...</td>\n",
              "      <td>...</td>\n",
              "      <td>...</td>\n",
              "      <td>...</td>\n",
              "    </tr>\n",
              "    <tr>\n",
              "      <th>57058</th>\n",
              "      <td>ID</td>\n",
              "      <td>1</td>\n",
              "      <td>El Defensor del Pueblo reclama a la Comunidad ...</td>\n",
              "      <td>El gobierno regional han indicado que la atenc...</td>\n",
              "      <td>08/06/2021</td>\n",
              "      <td>244</td>\n",
              "      <td>12</td>\n",
              "      <td>1</td>\n",
              "    </tr>\n",
              "    <tr>\n",
              "      <th>57059</th>\n",
              "      <td>ID</td>\n",
              "      <td>0</td>\n",
              "      <td>El EQUO plantea ceder la presidencia de la Com...</td>\n",
              "      <td>Si la higiene democrática nos lleva a esa exig...</td>\n",
              "      <td>08/09/2020</td>\n",
              "      <td>314</td>\n",
              "      <td>11</td>\n",
              "      <td>1</td>\n",
              "    </tr>\n",
              "    <tr>\n",
              "      <th>57060</th>\n",
              "      <td>ID</td>\n",
              "      <td>1</td>\n",
              "      <td>Alberto Garzón: 'Que los Borbones son unos lad...</td>\n",
              "      <td>El coordinador federal de IU asegura que la mo...</td>\n",
              "      <td>12/07/2018</td>\n",
              "      <td>70</td>\n",
              "      <td>11</td>\n",
              "      <td>2</td>\n",
              "    </tr>\n",
              "    <tr>\n",
              "      <th>57061</th>\n",
              "      <td>ID</td>\n",
              "      <td>1</td>\n",
              "      <td>Vox exige entrar en el Gobierno de Castilla y ...</td>\n",
              "      <td>Santiago Abascal: Vox tiene el derecho y el de...</td>\n",
              "      <td>13/02/2022</td>\n",
              "      <td>232</td>\n",
              "      <td>12</td>\n",
              "      <td>1</td>\n",
              "    </tr>\n",
              "    <tr>\n",
              "      <th>57062</th>\n",
              "      <td>ID</td>\n",
              "      <td>1</td>\n",
              "      <td>Unas 300 personas protestan contra la visita d...</td>\n",
              "      <td>Los Mossos dEsquadra han blindado los alrededo...</td>\n",
              "      <td>09/10/2020</td>\n",
              "      <td>193</td>\n",
              "      <td>11</td>\n",
              "      <td>1</td>\n",
              "    </tr>\n",
              "  </tbody>\n",
              "</table>\n",
              "<p>57063 rows × 8 columns</p>\n",
              "</div>"
            ],
            "text/plain": [
              "       ID  Label                                             Titulo  \\\n",
              "0      ID      1  'The Guardian' va con Sánchez: 'Europa necesit...   \n",
              "1      ID      0  REVELAN QUE EL GOBIERNO NEGOCIO LA LIBERACIÓN ...   \n",
              "2      ID      1  El 'Ahora o nunca' de Joan Fuster sobre el est...   \n",
              "3      ID      1  Iglesias alienta a Yolanda Díaz, ERC y EH Bild...   \n",
              "4      ID      0  Puigdemont: 'No sería ninguna tragedia una rep...   \n",
              "...    ..    ...                                                ...   \n",
              "57058  ID      1  El Defensor del Pueblo reclama a la Comunidad ...   \n",
              "57059  ID      0  El EQUO plantea ceder la presidencia de la Com...   \n",
              "57060  ID      1  Alberto Garzón: 'Que los Borbones son unos lad...   \n",
              "57061  ID      1  Vox exige entrar en el Gobierno de Castilla y ...   \n",
              "57062  ID      1  Unas 300 personas protestan contra la visita d...   \n",
              "\n",
              "                                             Descripcion       Fecha  Conteo  \\\n",
              "0      El diario británico publicó este pasado jueves...  02/06/2023     218   \n",
              "1      REVELAN QUE EL GOBIERNO NEGOCIO LA LIBERACIÓN ...  01/10/2023    3251   \n",
              "2      El valencianismo convoca en Castelló su fiesta...  25/04/2022     169   \n",
              "3      En política, igual que hay que negociar con lo...  03/01/2022     133   \n",
              "4      En una entrevista en El Punt Avui, el líder de...  09/03/2018     242   \n",
              "...                                                  ...         ...     ...   \n",
              "57058  El gobierno regional han indicado que la atenc...  08/06/2021     244   \n",
              "57059  Si la higiene democrática nos lleva a esa exig...  08/09/2020     314   \n",
              "57060  El coordinador federal de IU asegura que la mo...  12/07/2018      70   \n",
              "57061  Santiago Abascal: Vox tiene el derecho y el de...  13/02/2022     232   \n",
              "57062  Los Mossos dEsquadra han blindado los alrededo...  09/10/2020     193   \n",
              "\n",
              "       Max  Min  \n",
              "0       13    1  \n",
              "1       14    1  \n",
              "2       13    2  \n",
              "3       15    2  \n",
              "4       14    1  \n",
              "...    ...  ...  \n",
              "57058   12    1  \n",
              "57059   11    1  \n",
              "57060   11    2  \n",
              "57061   12    1  \n",
              "57062   11    1  \n",
              "\n",
              "[57063 rows x 8 columns]"
            ]
          },
          "execution_count": 12,
          "metadata": {},
          "output_type": "execute_result"
        }
      ],
      "source": [
        "textos"
      ]
    },
    {
      "cell_type": "markdown",
      "metadata": {
        "id": "TrZQvghh8bPW"
      },
      "source": [
        "## Preparación de los datos\n",
        "Para poder realizar el pre-procesamiento de los datos, se debe pasar por:\n",
        "- Limpieza de los datos\n",
        "- Tokenización de los datos\n",
        "- normalización de los datos"
      ]
    },
    {
      "cell_type": "markdown",
      "metadata": {
        "id": "BMKp9XCt8bPW"
      },
      "source": [
        "### Limpieza de los datos\n",
        "\n",
        "Se debe dejar el archivo csv en un texto plano, también se elimina caracteres especiales y se pasa todo a minúsculas"
      ]
    },
    {
      "cell_type": "code",
      "execution_count": 13,
      "metadata": {
        "id": "4d74x8I-8bPW"
      },
      "outputs": [],
      "source": [
        "def remove_non_ascii(words):\n",
        "    new_words = []\n",
        "    for word in words:\n",
        "        if word is not None:\n",
        "            new_word = unicodedata.normalize('NFKD', word).encode('ascii', 'ignore').decode('utf-8', 'ignore')\n",
        "            new_words.append(new_word)\n",
        "    return new_words\n",
        "\n",
        "def to_lowercase(words):\n",
        "    new_words = []\n",
        "    for word in words:\n",
        "        if word is not None:\n",
        "            new_word = word.lower()\n",
        "            new_words.append(new_word)\n",
        "    return new_words\n",
        "\n",
        "def replace_numbers(words):\n",
        "    p = inflect.engine()\n",
        "    new_words = []\n",
        "    for word in words:\n",
        "        if word.isdigit():\n",
        "            new_word = p.number_to_words(word)\n",
        "            new_words.append(new_word)\n",
        "        else:\n",
        "            new_words.append(word)\n",
        "    return new_words\n",
        "\n",
        "def remove_punctuation(words):\n",
        "    new_words = []\n",
        "    for word in words:\n",
        "        if word is not None:\n",
        "            new_word = re.sub(r'[^\\w\\s]', '', word)\n",
        "            if new_word != '':\n",
        "                new_words.append(new_word)\n",
        "    return new_words\n",
        "\n",
        "def remove_stopwords(words):\n",
        "    new_words = []\n",
        "    for word in words:\n",
        "        if word not in stopwords.words('spanish'):\n",
        "            new_words.append(word)\n",
        "    return new_words\n",
        "\n",
        "def processing(words):\n",
        "    words = remove_non_ascii(words)\n",
        "    words = to_lowercase(words)\n",
        "    words = replace_numbers(words)\n",
        "    words = remove_punctuation(words)\n",
        "    words = remove_stopwords(words)\n",
        "    return words"
      ]
    },
    {
      "cell_type": "markdown",
      "metadata": {
        "id": "0FEBElsZ8bPW"
      },
      "source": [
        "## Tokenización\n",
        "\n",
        "La tokenización es el proceso de dividir un texto en palabras individuales. Pero antes se realiza una correción de las contraciones que pueden aparecer en el texto."
      ]
    },
    {
      "cell_type": "code",
      "execution_count": 14,
      "metadata": {
        "id": "zqxKMP568bPW"
      },
      "outputs": [],
      "source": [
        "df_t['Descripcion'] = df_t['Descripcion'].apply(contractions.fix)"
      ]
    },
    {
      "cell_type": "code",
      "execution_count": 15,
      "metadata": {
        "colab": {
          "base_uri": "https://localhost:8080/",
          "height": 241
        },
        "id": "M8IP4ahe8bPW",
        "outputId": "691a6009-436a-468b-b2e3-275c3090f23d"
      },
      "outputs": [
        {
          "name": "stderr",
          "output_type": "stream",
          "text": [
            "[nltk_data] Downloading package punkt_tab to\n",
            "[nltk_data]     C:\\Users\\Julian\\AppData\\Roaming\\nltk_data...\n",
            "[nltk_data]   Package punkt_tab is already up-to-date!\n"
          ]
        },
        {
          "data": {
            "text/html": [
              "<div>\n",
              "<style scoped>\n",
              "    .dataframe tbody tr th:only-of-type {\n",
              "        vertical-align: middle;\n",
              "    }\n",
              "\n",
              "    .dataframe tbody tr th {\n",
              "        vertical-align: top;\n",
              "    }\n",
              "\n",
              "    .dataframe thead th {\n",
              "        text-align: right;\n",
              "    }\n",
              "</style>\n",
              "<table border=\"1\" class=\"dataframe\">\n",
              "  <thead>\n",
              "    <tr style=\"text-align: right;\">\n",
              "      <th></th>\n",
              "      <th>ID</th>\n",
              "      <th>Label</th>\n",
              "      <th>Titulo</th>\n",
              "      <th>Descripcion</th>\n",
              "      <th>Fecha</th>\n",
              "      <th>words</th>\n",
              "    </tr>\n",
              "  </thead>\n",
              "  <tbody>\n",
              "    <tr>\n",
              "      <th>0</th>\n",
              "      <td>ID</td>\n",
              "      <td>1</td>\n",
              "      <td>'The Guardian' va con Sánchez: 'Europa necesit...</td>\n",
              "      <td>El diario británico publicó este pasado jueves...</td>\n",
              "      <td>02/06/2023</td>\n",
              "      <td>[El, diario, británico, publicó, este, pasado,...</td>\n",
              "    </tr>\n",
              "    <tr>\n",
              "      <th>1</th>\n",
              "      <td>ID</td>\n",
              "      <td>0</td>\n",
              "      <td>REVELAN QUE EL GOBIERNO NEGOCIO LA LIBERACIÓN ...</td>\n",
              "      <td>REVELAN QUE EL GOBIERNO NEGOCIO LA LIBERACIÓN ...</td>\n",
              "      <td>01/10/2023</td>\n",
              "      <td>[REVELAN, QUE, EL, GOBIERNO, NEGOCIO, LA, LIBE...</td>\n",
              "    </tr>\n",
              "    <tr>\n",
              "      <th>2</th>\n",
              "      <td>ID</td>\n",
              "      <td>1</td>\n",
              "      <td>El 'Ahora o nunca' de Joan Fuster sobre el est...</td>\n",
              "      <td>El valencianismo convoca en Castelló su fiesta...</td>\n",
              "      <td>25/04/2022</td>\n",
              "      <td>[El, valencianismo, convoca, en, Castelló, su,...</td>\n",
              "    </tr>\n",
              "    <tr>\n",
              "      <th>3</th>\n",
              "      <td>ID</td>\n",
              "      <td>1</td>\n",
              "      <td>Iglesias alienta a Yolanda Díaz, ERC y EH Bild...</td>\n",
              "      <td>En política, igual que hay que negociar con lo...</td>\n",
              "      <td>03/01/2022</td>\n",
              "      <td>[En, política, ,, igual, que, hay, que, negoci...</td>\n",
              "    </tr>\n",
              "    <tr>\n",
              "      <th>4</th>\n",
              "      <td>ID</td>\n",
              "      <td>0</td>\n",
              "      <td>Puigdemont: 'No sería ninguna tragedia una rep...</td>\n",
              "      <td>En una entrevista en El Punt Avui, el líder de...</td>\n",
              "      <td>09/03/2018</td>\n",
              "      <td>[En, una, entrevista, en, El, Punt, Avui, ,, e...</td>\n",
              "    </tr>\n",
              "  </tbody>\n",
              "</table>\n",
              "</div>"
            ],
            "text/plain": [
              "   ID  Label                                             Titulo  \\\n",
              "0  ID      1  'The Guardian' va con Sánchez: 'Europa necesit...   \n",
              "1  ID      0  REVELAN QUE EL GOBIERNO NEGOCIO LA LIBERACIÓN ...   \n",
              "2  ID      1  El 'Ahora o nunca' de Joan Fuster sobre el est...   \n",
              "3  ID      1  Iglesias alienta a Yolanda Díaz, ERC y EH Bild...   \n",
              "4  ID      0  Puigdemont: 'No sería ninguna tragedia una rep...   \n",
              "\n",
              "                                         Descripcion       Fecha  \\\n",
              "0  El diario británico publicó este pasado jueves...  02/06/2023   \n",
              "1  REVELAN QUE EL GOBIERNO NEGOCIO LA LIBERACIÓN ...  01/10/2023   \n",
              "2  El valencianismo convoca en Castelló su fiesta...  25/04/2022   \n",
              "3  En política, igual que hay que negociar con lo...  03/01/2022   \n",
              "4  En una entrevista en El Punt Avui, el líder de...  09/03/2018   \n",
              "\n",
              "                                               words  \n",
              "0  [El, diario, británico, publicó, este, pasado,...  \n",
              "1  [REVELAN, QUE, EL, GOBIERNO, NEGOCIO, LA, LIBE...  \n",
              "2  [El, valencianismo, convoca, en, Castelló, su,...  \n",
              "3  [En, política, ,, igual, que, hay, que, negoci...  \n",
              "4  [En, una, entrevista, en, El, Punt, Avui, ,, e...  "
            ]
          },
          "execution_count": 15,
          "metadata": {},
          "output_type": "execute_result"
        }
      ],
      "source": [
        "nltk.download('punkt_tab')\n",
        "df_t['words'] = df_t['Descripcion'].apply(word_tokenize)\n",
        "df_t.head()"
      ]
    },
    {
      "cell_type": "code",
      "execution_count": 16,
      "metadata": {
        "colab": {
          "base_uri": "https://localhost:8080/",
          "height": 458
        },
        "id": "ka-XY44n8bPW",
        "outputId": "19fd9265-47e0-4726-d131-8023e8ca12d4"
      },
      "outputs": [
        {
          "data": {
            "text/plain": [
              "0        [El, diario, británico, publicó, este, pasado,...\n",
              "1        [REVELAN, QUE, EL, GOBIERNO, NEGOCIO, LA, LIBE...\n",
              "2        [El, valencianismo, convoca, en, Castelló, su,...\n",
              "3        [En, política, ,, igual, que, hay, que, negoci...\n",
              "4        [En, una, entrevista, en, El, Punt, Avui, ,, e...\n",
              "                               ...                        \n",
              "57058    [El, gobierno, regional, han, indicado, que, l...\n",
              "57059    [Si, la, higiene, democrática, nos, lleva, a, ...\n",
              "57060    [El, coordinador, federal, de, IU, asegura, qu...\n",
              "57061    [Santiago, Abascal, :, Vox, tiene, el, derecho...\n",
              "57062    [Los, Mossos, dEsquadra, han, blindado, los, a...\n",
              "Name: words, Length: 57063, dtype: object"
            ]
          },
          "execution_count": 16,
          "metadata": {},
          "output_type": "execute_result"
        }
      ],
      "source": [
        "df_t['words'].dropna()"
      ]
    },
    {
      "cell_type": "code",
      "execution_count": 17,
      "metadata": {
        "colab": {
          "base_uri": "https://localhost:8080/"
        },
        "id": "s9EQqJgW8bPX",
        "outputId": "29ad79db-3200-4c37-ced2-cdbe425d3fc3"
      },
      "outputs": [
        {
          "data": {
            "text/plain": [
              "(57063, 6)"
            ]
          },
          "execution_count": 17,
          "metadata": {},
          "output_type": "execute_result"
        }
      ],
      "source": [
        "df_t.shape"
      ]
    },
    {
      "cell_type": "code",
      "execution_count": 18,
      "metadata": {
        "colab": {
          "base_uri": "https://localhost:8080/"
        },
        "id": "AFnVW-VU8bPX",
        "outputId": "ba548ebc-6418-4f31-9310-97c621cf585e"
      },
      "outputs": [
        {
          "name": "stdout",
          "output_type": "stream",
          "text": [
            "<class 'pandas.core.series.Series'>\n",
            "RangeIndex: 57063 entries, 0 to 57062\n",
            "Series name: words\n",
            "Non-Null Count  Dtype \n",
            "--------------  ----- \n",
            "57063 non-null  object\n",
            "dtypes: object(1)\n",
            "memory usage: 445.9+ KB\n"
          ]
        }
      ],
      "source": [
        "df_t['words'].info()"
      ]
    },
    {
      "cell_type": "code",
      "execution_count": 19,
      "metadata": {
        "colab": {
          "base_uri": "https://localhost:8080/",
          "height": 293
        },
        "id": "1H4AdnDa8bPX",
        "outputId": "3c69a3a6-85bc-4444-a5aa-91226c46064c"
      },
      "outputs": [
        {
          "data": {
            "text/html": [
              "<div>\n",
              "<style scoped>\n",
              "    .dataframe tbody tr th:only-of-type {\n",
              "        vertical-align: middle;\n",
              "    }\n",
              "\n",
              "    .dataframe tbody tr th {\n",
              "        vertical-align: top;\n",
              "    }\n",
              "\n",
              "    .dataframe thead th {\n",
              "        text-align: right;\n",
              "    }\n",
              "</style>\n",
              "<table border=\"1\" class=\"dataframe\">\n",
              "  <thead>\n",
              "    <tr style=\"text-align: right;\">\n",
              "      <th></th>\n",
              "      <th>ID</th>\n",
              "      <th>Label</th>\n",
              "      <th>Titulo</th>\n",
              "      <th>Descripcion</th>\n",
              "      <th>Fecha</th>\n",
              "      <th>words</th>\n",
              "      <th>words1</th>\n",
              "    </tr>\n",
              "  </thead>\n",
              "  <tbody>\n",
              "    <tr>\n",
              "      <th>0</th>\n",
              "      <td>ID</td>\n",
              "      <td>1</td>\n",
              "      <td>'The Guardian' va con Sánchez: 'Europa necesit...</td>\n",
              "      <td>El diario británico publicó este pasado jueves...</td>\n",
              "      <td>02/06/2023</td>\n",
              "      <td>[El, diario, británico, publicó, este, pasado,...</td>\n",
              "      <td>[diario, britanico, publico, pasado, jueves, e...</td>\n",
              "    </tr>\n",
              "    <tr>\n",
              "      <th>1</th>\n",
              "      <td>ID</td>\n",
              "      <td>0</td>\n",
              "      <td>REVELAN QUE EL GOBIERNO NEGOCIO LA LIBERACIÓN ...</td>\n",
              "      <td>REVELAN QUE EL GOBIERNO NEGOCIO LA LIBERACIÓN ...</td>\n",
              "      <td>01/10/2023</td>\n",
              "      <td>[REVELAN, QUE, EL, GOBIERNO, NEGOCIO, LA, LIBE...</td>\n",
              "      <td>[revelan, gobierno, negocio, liberacion, mirel...</td>\n",
              "    </tr>\n",
              "    <tr>\n",
              "      <th>2</th>\n",
              "      <td>ID</td>\n",
              "      <td>1</td>\n",
              "      <td>El 'Ahora o nunca' de Joan Fuster sobre el est...</td>\n",
              "      <td>El valencianismo convoca en Castelló su fiesta...</td>\n",
              "      <td>25/04/2022</td>\n",
              "      <td>[El, valencianismo, convoca, en, Castelló, su,...</td>\n",
              "      <td>[valencianismo, convoca, castello, fiesta, gra...</td>\n",
              "    </tr>\n",
              "    <tr>\n",
              "      <th>3</th>\n",
              "      <td>ID</td>\n",
              "      <td>1</td>\n",
              "      <td>Iglesias alienta a Yolanda Díaz, ERC y EH Bild...</td>\n",
              "      <td>En política, igual que hay que negociar con lo...</td>\n",
              "      <td>03/01/2022</td>\n",
              "      <td>[En, política, ,, igual, que, hay, que, negoci...</td>\n",
              "      <td>[politica, igual, negociar, empresarios, negoc...</td>\n",
              "    </tr>\n",
              "    <tr>\n",
              "      <th>4</th>\n",
              "      <td>ID</td>\n",
              "      <td>0</td>\n",
              "      <td>Puigdemont: 'No sería ninguna tragedia una rep...</td>\n",
              "      <td>En una entrevista en El Punt Avui, el líder de...</td>\n",
              "      <td>09/03/2018</td>\n",
              "      <td>[En, una, entrevista, en, El, Punt, Avui, ,, e...</td>\n",
              "      <td>[entrevista, punt, avui, lider, jxcat, desdram...</td>\n",
              "    </tr>\n",
              "  </tbody>\n",
              "</table>\n",
              "</div>"
            ],
            "text/plain": [
              "   ID  Label                                             Titulo  \\\n",
              "0  ID      1  'The Guardian' va con Sánchez: 'Europa necesit...   \n",
              "1  ID      0  REVELAN QUE EL GOBIERNO NEGOCIO LA LIBERACIÓN ...   \n",
              "2  ID      1  El 'Ahora o nunca' de Joan Fuster sobre el est...   \n",
              "3  ID      1  Iglesias alienta a Yolanda Díaz, ERC y EH Bild...   \n",
              "4  ID      0  Puigdemont: 'No sería ninguna tragedia una rep...   \n",
              "\n",
              "                                         Descripcion       Fecha  \\\n",
              "0  El diario británico publicó este pasado jueves...  02/06/2023   \n",
              "1  REVELAN QUE EL GOBIERNO NEGOCIO LA LIBERACIÓN ...  01/10/2023   \n",
              "2  El valencianismo convoca en Castelló su fiesta...  25/04/2022   \n",
              "3  En política, igual que hay que negociar con lo...  03/01/2022   \n",
              "4  En una entrevista en El Punt Avui, el líder de...  09/03/2018   \n",
              "\n",
              "                                               words  \\\n",
              "0  [El, diario, británico, publicó, este, pasado,...   \n",
              "1  [REVELAN, QUE, EL, GOBIERNO, NEGOCIO, LA, LIBE...   \n",
              "2  [El, valencianismo, convoca, en, Castelló, su,...   \n",
              "3  [En, política, ,, igual, que, hay, que, negoci...   \n",
              "4  [En, una, entrevista, en, El, Punt, Avui, ,, e...   \n",
              "\n",
              "                                              words1  \n",
              "0  [diario, britanico, publico, pasado, jueves, e...  \n",
              "1  [revelan, gobierno, negocio, liberacion, mirel...  \n",
              "2  [valencianismo, convoca, castello, fiesta, gra...  \n",
              "3  [politica, igual, negociar, empresarios, negoc...  \n",
              "4  [entrevista, punt, avui, lider, jxcat, desdram...  "
            ]
          },
          "execution_count": 19,
          "metadata": {},
          "output_type": "execute_result"
        }
      ],
      "source": [
        "#aplica la limpieza de datos hecho anteriormente\n",
        "df_t['words1']= df_t['words'].apply(processing)\n",
        "df_t.head()"
      ]
    },
    {
      "cell_type": "markdown",
      "metadata": {
        "id": "UNStMnWE8bPX"
      },
      "source": [
        "## Normalización\n",
        " En esta etapa se elimina los prefijos y los sufijos de las palabras, para que las palabras se puedan comparar de manera más efectiva."
      ]
    },
    {
      "cell_type": "code",
      "execution_count": 20,
      "metadata": {
        "colab": {
          "base_uri": "https://localhost:8080/",
          "height": 1000,
          "referenced_widgets": [
            "8e0002fda5524c4ca4d6cf4b50691696",
            "186e979cef3b4ed7b56bf0cd283d49d7",
            "8eefcb54ca8c4edb98f92fbc3260cdce",
            "cc91a45b89104f46bafd17339483eea5",
            "5b9e35630d12410cbc4ffe4bcd740929",
            "7b1b58dfd93e4aba95162be124aaa3bf",
            "a1a904ab9c924513a38bc0bc7178157e",
            "e475f819f3724231b3415486f7cd531a",
            "f5e45293537e4b4dbce30a6cef3d8a72",
            "f96742d9b21948d3ae3b612349c31f78",
            "4d49117fdf7b4060bb570df2b5ab78f7",
            "a0803d6aaa5e4cc9a3fcb9d49483cd63",
            "993b268342494324be42bcb728b40a8a",
            "75d60c6f25924a4aba57ea0c41316c99",
            "b7b20f77c1e949bb9c3d571b9b153756",
            "d3a6dd9e19c342db9ce7267b45ab1f0f",
            "38a81335d1564c01994217e083b7a65c",
            "dc12945eab4c4f799eeba6bc04fe4fc6",
            "6a030a55de5e4ddca45b4f96b502b2e4",
            "d7d4f52fd84a4b7ab8aac95fbc74c95a",
            "fc1ffd3f6860441b91352da0f363a382",
            "9178a19d9bd4469b8f7ef4db8b5749ea",
            "762f513d74b14302ace5f234db23012b",
            "4d035dc4207f497db1c03cd24ff92740",
            "6f6559fdfbc14a9480ee68d07c0426cf",
            "d1335e2da9594836a961d498ebaa2344",
            "13de82335d2a41abb3f5e990330e6370",
            "34d4dd3994a84c4b80c0b69364374ded",
            "9d58552e386d439f9d1d70e914038451",
            "89f89a89fb6a487fa8c9be57d81d96c1",
            "79c436168f234c8197deb21de68e7e52",
            "1fcf3d7f68bf4f2d841d2cf465c16920",
            "32771979b1d04115bbfbfb0a0d5516f5"
          ]
        },
        "id": "A7OdNEoI8bPX",
        "outputId": "7617b2a3-43e2-4a5b-d9e2-ca4d0a186c66"
      },
      "outputs": [
        {
          "name": "stderr",
          "output_type": "stream",
          "text": [
            "c:\\Users\\Julian\\AppData\\Local\\Programs\\Python\\Python39\\lib\\site-packages\\tqdm\\auto.py:21: TqdmWarning: IProgress not found. Please update jupyter and ipywidgets. See https://ipywidgets.readthedocs.io/en/stable/user_install.html\n",
            "  from .autonotebook import tqdm as notebook_tqdm\n",
            "Downloading https://raw.githubusercontent.com/stanfordnlp/stanza-resources/main/resources_1.10.0.json: 424kB [00:00, 92.8MB/s]                    \n",
            "2025-03-26 23:18:10 INFO: Downloaded file to C:\\Users\\Julian\\stanza_resources\\resources.json\n",
            "2025-03-26 23:18:10 INFO: Downloading default packages for language: es (Spanish) ...\n",
            "2025-03-26 23:18:12 INFO: File exists: C:\\Users\\Julian\\stanza_resources\\es\\default.zip\n",
            "2025-03-26 23:18:18 INFO: Finished downloading models and saved to C:\\Users\\Julian\\stanza_resources\n",
            "2025-03-26 23:18:18 INFO: Checking for updates to resources.json in case models have been updated.  Note: this behavior can be turned off with download_method=None or download_method=DownloadMethod.REUSE_RESOURCES\n",
            "Downloading https://raw.githubusercontent.com/stanfordnlp/stanza-resources/main/resources_1.10.0.json: 424kB [00:00, 94.8MB/s]                    \n",
            "2025-03-26 23:18:18 INFO: Downloaded file to C:\\Users\\Julian\\stanza_resources\\resources.json\n",
            "2025-03-26 23:18:19 INFO: Loading these models for language: es (Spanish):\n",
            "=================================\n",
            "| Processor | Package           |\n",
            "---------------------------------\n",
            "| tokenize  | combined          |\n",
            "| mwt       | combined          |\n",
            "| pos       | combined_charlm   |\n",
            "| lemma     | combined_nocharlm |\n",
            "=================================\n",
            "\n",
            "2025-03-26 23:18:19 INFO: Using device: cpu\n",
            "2025-03-26 23:18:19 INFO: Loading: tokenize\n",
            "2025-03-26 23:18:22 INFO: Loading: mwt\n",
            "2025-03-26 23:18:22 INFO: Loading: pos\n",
            "2025-03-26 23:18:24 INFO: Loading: lemma\n",
            "2025-03-26 23:18:25 INFO: Done loading processors!\n"
          ]
        },
        {
          "name": "stdout",
          "output_type": "stream",
          "text": [
            "Cargando resultados preprocesados desde el archivo...\n",
            "   ID  Label                                             Titulo  \\\n",
            "0  ID      1  'The Guardian' va con Sánchez: 'Europa necesit...   \n",
            "1  ID      0  REVELAN QUE EL GOBIERNO NEGOCIO LA LIBERACIÓN ...   \n",
            "2  ID      1  El 'Ahora o nunca' de Joan Fuster sobre el est...   \n",
            "3  ID      1  Iglesias alienta a Yolanda Díaz, ERC y EH Bild...   \n",
            "4  ID      0  Puigdemont: 'No sería ninguna tragedia una rep...   \n",
            "\n",
            "                                         Descripcion       Fecha  \\\n",
            "0  El diario británico publicó este pasado jueves...  02/06/2023   \n",
            "1  REVELAN QUE EL GOBIERNO NEGOCIO LA LIBERACIÓN ...  01/10/2023   \n",
            "2  El valencianismo convoca en Castelló su fiesta...  25/04/2022   \n",
            "3  En política, igual que hay que negociar con lo...  03/01/2022   \n",
            "4  En una entrevista en El Punt Avui, el líder de...  09/03/2018   \n",
            "\n",
            "                                               words  \\\n",
            "0  [El, diario, británico, publicó, este, pasado,...   \n",
            "1  [REVELAN, QUE, EL, GOBIERNO, NEGOCIO, LA, LIBE...   \n",
            "2  [El, valencianismo, convoca, en, Castelló, su,...   \n",
            "3  [En, política, ,, igual, que, hay, que, negoci...   \n",
            "4  [En, una, entrevista, en, El, Punt, Avui, ,, e...   \n",
            "\n",
            "                                              words1  \\\n",
            "0  [diario, britanico, publico, pasado, jueves, e...   \n",
            "1  [revelan, gobierno, negocio, liberacion, mirel...   \n",
            "2  [valencianismo, convoca, castello, fiesta, gra...   \n",
            "3  [politica, igual, negociar, empresarios, negoc...   \n",
            "4  [entrevista, punt, avui, lider, jxcat, desdram...   \n",
            "\n",
            "                                              words2  \n",
            "0  {'stems': ['diari', 'britan', 'public', 'pas',...  \n",
            "1  {'stems': ['revel', 'gobiern', 'negoci', 'libe...  \n",
            "2  {'stems': ['valencian', 'convoc', 'castell', '...  \n",
            "3  {'stems': ['polit', 'igual', 'negoci', 'empres...  \n",
            "4  {'stems': ['entrev', 'punt', 'avui', 'lid', 'j...  \n"
          ]
        }
      ],
      "source": [
        "import stanza\n",
        "from nltk.stem import SnowballStemmer\n",
        "from tqdm import tqdm\n",
        "import pandas as pd\n",
        "import json\n",
        "import os\n",
        "\n",
        "# Descargar el modelo de Stanza para español (solo la primera vez)\n",
        "stanza.download(\"es\")\n",
        "\n",
        "# Inicializar el pipeline de Stanza\n",
        "nlp_stanza = stanza.Pipeline(\"es\", processors=\"tokenize,mwt,pos,lemma\")\n",
        "\n",
        "# Inicializar el stemmer de NLTK\n",
        "stemmer = SnowballStemmer(\"spanish\")\n",
        "\n",
        "# Función para aplicar stemming a una lista de palabras\n",
        "def stem_words(words):\n",
        "    return [stemmer.stem(word) for word in words]\n",
        "\n",
        "# Función para lematizar una lista de textos\n",
        "def lemmatize_text(texts):\n",
        "    lemmatized_texts = []\n",
        "    for text in tqdm(texts, desc=\"Lematizando textos\"):\n",
        "        doc = nlp_stanza(text)\n",
        "        lemmatized_texts.append([word.lemma for sentence in doc.sentences for word in sentence.words])\n",
        "    return lemmatized_texts\n",
        "\n",
        "# Función para aplicar stemming y lematización a una lista de listas de palabras\n",
        "def stem_and_lemmatize(words_list):\n",
        "    texts = [\" \".join(words) for words in words_list]  # Convertir listas de palabras en texto\n",
        "    stems = [stem_words(words) for words in tqdm(words_list, desc=\"Aplicando stemming\")]\n",
        "    lemmas = lemmatize_text(texts)  # Lematización\n",
        "    return [{\"stems\": stem, \"lemas\": lema} for stem, lema in zip(stems, lemmas)]\n",
        "\n",
        "# Nombre del archivo donde se guardarán o leerán los resultados\n",
        "output_filename = \"processed_results.json\"\n",
        "\n",
        "# Verificar si el archivo existe y no está vacío\n",
        "if os.path.exists(output_filename) and os.path.getsize(output_filename) > 0:\n",
        "    print(\"Cargando resultados preprocesados desde el archivo...\")\n",
        "    with open(output_filename, 'r') as f:\n",
        "        df_t['words2'] = json.load(f)\n",
        "else:\n",
        "    print(\"Procesando datos (stemming y lematización)...\")\n",
        "    df_t['words2'] = stem_and_lemmatize(df_t['words1'].tolist())\n",
        "    # Guardar los resultados en el archivo JSON\n",
        "    with open(output_filename, 'w') as f:\n",
        "        json.dump(df_t['words2'].tolist(), f)\n",
        "    print(\"Resultados guardados en:\", output_filename)\n",
        "\n",
        "# Mostrar las primeras filas del DataFrame\n",
        "print(df_t.head())"
      ]
    },
    {
      "cell_type": "markdown",
      "metadata": {
        "id": "XB0_YWWC8bPX"
      },
      "source": [
        "### Selección de campos\n",
        "Primero, se prepara la variable predictora que en este caso es ..., y los textos que se van a utilizar."
      ]
    },
    {
      "cell_type": "code",
      "execution_count": 21,
      "metadata": {
        "colab": {
          "base_uri": "https://localhost:8080/",
          "height": 597
        },
        "id": "afGunW-y8bPX",
        "outputId": "39b1c141-585f-4e40-ae97-4b997e386e66"
      },
      "outputs": [
        {
          "data": {
            "text/html": [
              "<div>\n",
              "<style scoped>\n",
              "    .dataframe tbody tr th:only-of-type {\n",
              "        vertical-align: middle;\n",
              "    }\n",
              "\n",
              "    .dataframe tbody tr th {\n",
              "        vertical-align: top;\n",
              "    }\n",
              "\n",
              "    .dataframe thead th {\n",
              "        text-align: right;\n",
              "    }\n",
              "</style>\n",
              "<table border=\"1\" class=\"dataframe\">\n",
              "  <thead>\n",
              "    <tr style=\"text-align: right;\">\n",
              "      <th></th>\n",
              "      <th>ID</th>\n",
              "      <th>Label</th>\n",
              "      <th>Titulo</th>\n",
              "      <th>Descripcion</th>\n",
              "      <th>Fecha</th>\n",
              "      <th>words</th>\n",
              "      <th>words1</th>\n",
              "      <th>words2</th>\n",
              "    </tr>\n",
              "  </thead>\n",
              "  <tbody>\n",
              "    <tr>\n",
              "      <th>0</th>\n",
              "      <td>ID</td>\n",
              "      <td>1</td>\n",
              "      <td>'The Guardian' va con Sánchez: 'Europa necesit...</td>\n",
              "      <td>El diario británico publicó este pasado jueves...</td>\n",
              "      <td>02/06/2023</td>\n",
              "      <td>[El, diario, británico, publicó, este, pasado,...</td>\n",
              "      <td>[diario, britanico, publico, pasado, jueves, e...</td>\n",
              "      <td>stems lemas</td>\n",
              "    </tr>\n",
              "    <tr>\n",
              "      <th>1</th>\n",
              "      <td>ID</td>\n",
              "      <td>0</td>\n",
              "      <td>REVELAN QUE EL GOBIERNO NEGOCIO LA LIBERACIÓN ...</td>\n",
              "      <td>REVELAN QUE EL GOBIERNO NEGOCIO LA LIBERACIÓN ...</td>\n",
              "      <td>01/10/2023</td>\n",
              "      <td>[REVELAN, QUE, EL, GOBIERNO, NEGOCIO, LA, LIBE...</td>\n",
              "      <td>[revelan, gobierno, negocio, liberacion, mirel...</td>\n",
              "      <td>stems lemas</td>\n",
              "    </tr>\n",
              "    <tr>\n",
              "      <th>2</th>\n",
              "      <td>ID</td>\n",
              "      <td>1</td>\n",
              "      <td>El 'Ahora o nunca' de Joan Fuster sobre el est...</td>\n",
              "      <td>El valencianismo convoca en Castelló su fiesta...</td>\n",
              "      <td>25/04/2022</td>\n",
              "      <td>[El, valencianismo, convoca, en, Castelló, su,...</td>\n",
              "      <td>[valencianismo, convoca, castello, fiesta, gra...</td>\n",
              "      <td>stems lemas</td>\n",
              "    </tr>\n",
              "    <tr>\n",
              "      <th>3</th>\n",
              "      <td>ID</td>\n",
              "      <td>1</td>\n",
              "      <td>Iglesias alienta a Yolanda Díaz, ERC y EH Bild...</td>\n",
              "      <td>En política, igual que hay que negociar con lo...</td>\n",
              "      <td>03/01/2022</td>\n",
              "      <td>[En, política, ,, igual, que, hay, que, negoci...</td>\n",
              "      <td>[politica, igual, negociar, empresarios, negoc...</td>\n",
              "      <td>stems lemas</td>\n",
              "    </tr>\n",
              "    <tr>\n",
              "      <th>4</th>\n",
              "      <td>ID</td>\n",
              "      <td>0</td>\n",
              "      <td>Puigdemont: 'No sería ninguna tragedia una rep...</td>\n",
              "      <td>En una entrevista en El Punt Avui, el líder de...</td>\n",
              "      <td>09/03/2018</td>\n",
              "      <td>[En, una, entrevista, en, El, Punt, Avui, ,, e...</td>\n",
              "      <td>[entrevista, punt, avui, lider, jxcat, desdram...</td>\n",
              "      <td>stems lemas</td>\n",
              "    </tr>\n",
              "    <tr>\n",
              "      <th>...</th>\n",
              "      <td>...</td>\n",
              "      <td>...</td>\n",
              "      <td>...</td>\n",
              "      <td>...</td>\n",
              "      <td>...</td>\n",
              "      <td>...</td>\n",
              "      <td>...</td>\n",
              "      <td>...</td>\n",
              "    </tr>\n",
              "    <tr>\n",
              "      <th>57058</th>\n",
              "      <td>ID</td>\n",
              "      <td>1</td>\n",
              "      <td>El Defensor del Pueblo reclama a la Comunidad ...</td>\n",
              "      <td>El gobierno regional han indicado que la atenc...</td>\n",
              "      <td>08/06/2021</td>\n",
              "      <td>[El, gobierno, regional, han, indicado, que, l...</td>\n",
              "      <td>[gobierno, regional, indicado, atencion, dia, ...</td>\n",
              "      <td>stems lemas</td>\n",
              "    </tr>\n",
              "    <tr>\n",
              "      <th>57059</th>\n",
              "      <td>ID</td>\n",
              "      <td>0</td>\n",
              "      <td>El EQUO plantea ceder la presidencia de la Com...</td>\n",
              "      <td>Si la higiene democrática nos lleva a esa exig...</td>\n",
              "      <td>08/09/2020</td>\n",
              "      <td>[Si, la, higiene, democrática, nos, lleva, a, ...</td>\n",
              "      <td>[si, higiene, democratica, lleva, exigencia, t...</td>\n",
              "      <td>stems lemas</td>\n",
              "    </tr>\n",
              "    <tr>\n",
              "      <th>57060</th>\n",
              "      <td>ID</td>\n",
              "      <td>1</td>\n",
              "      <td>Alberto Garzón: 'Que los Borbones son unos lad...</td>\n",
              "      <td>El coordinador federal de IU asegura que la mo...</td>\n",
              "      <td>12/07/2018</td>\n",
              "      <td>[El, coordinador, federal, de, IU, asegura, qu...</td>\n",
              "      <td>[coordinador, federal, iu, asegura, monarquia,...</td>\n",
              "      <td>stems lemas</td>\n",
              "    </tr>\n",
              "    <tr>\n",
              "      <th>57061</th>\n",
              "      <td>ID</td>\n",
              "      <td>1</td>\n",
              "      <td>Vox exige entrar en el Gobierno de Castilla y ...</td>\n",
              "      <td>Santiago Abascal: Vox tiene el derecho y el de...</td>\n",
              "      <td>13/02/2022</td>\n",
              "      <td>[Santiago, Abascal, :, Vox, tiene, el, derecho...</td>\n",
              "      <td>[santiago, abascal, vox, derecho, deber, forma...</td>\n",
              "      <td>stems lemas</td>\n",
              "    </tr>\n",
              "    <tr>\n",
              "      <th>57062</th>\n",
              "      <td>ID</td>\n",
              "      <td>1</td>\n",
              "      <td>Unas 300 personas protestan contra la visita d...</td>\n",
              "      <td>Los Mossos dEsquadra han blindado los alrededo...</td>\n",
              "      <td>09/10/2020</td>\n",
              "      <td>[Los, Mossos, dEsquadra, han, blindado, los, a...</td>\n",
              "      <td>[mossos, desquadra, blindado, alrededores, est...</td>\n",
              "      <td>stems lemas</td>\n",
              "    </tr>\n",
              "  </tbody>\n",
              "</table>\n",
              "<p>57063 rows × 8 columns</p>\n",
              "</div>"
            ],
            "text/plain": [
              "       ID  Label                                             Titulo  \\\n",
              "0      ID      1  'The Guardian' va con Sánchez: 'Europa necesit...   \n",
              "1      ID      0  REVELAN QUE EL GOBIERNO NEGOCIO LA LIBERACIÓN ...   \n",
              "2      ID      1  El 'Ahora o nunca' de Joan Fuster sobre el est...   \n",
              "3      ID      1  Iglesias alienta a Yolanda Díaz, ERC y EH Bild...   \n",
              "4      ID      0  Puigdemont: 'No sería ninguna tragedia una rep...   \n",
              "...    ..    ...                                                ...   \n",
              "57058  ID      1  El Defensor del Pueblo reclama a la Comunidad ...   \n",
              "57059  ID      0  El EQUO plantea ceder la presidencia de la Com...   \n",
              "57060  ID      1  Alberto Garzón: 'Que los Borbones son unos lad...   \n",
              "57061  ID      1  Vox exige entrar en el Gobierno de Castilla y ...   \n",
              "57062  ID      1  Unas 300 personas protestan contra la visita d...   \n",
              "\n",
              "                                             Descripcion       Fecha  \\\n",
              "0      El diario británico publicó este pasado jueves...  02/06/2023   \n",
              "1      REVELAN QUE EL GOBIERNO NEGOCIO LA LIBERACIÓN ...  01/10/2023   \n",
              "2      El valencianismo convoca en Castelló su fiesta...  25/04/2022   \n",
              "3      En política, igual que hay que negociar con lo...  03/01/2022   \n",
              "4      En una entrevista en El Punt Avui, el líder de...  09/03/2018   \n",
              "...                                                  ...         ...   \n",
              "57058  El gobierno regional han indicado que la atenc...  08/06/2021   \n",
              "57059  Si la higiene democrática nos lleva a esa exig...  08/09/2020   \n",
              "57060  El coordinador federal de IU asegura que la mo...  12/07/2018   \n",
              "57061  Santiago Abascal: Vox tiene el derecho y el de...  13/02/2022   \n",
              "57062  Los Mossos dEsquadra han blindado los alrededo...  09/10/2020   \n",
              "\n",
              "                                                   words  \\\n",
              "0      [El, diario, británico, publicó, este, pasado,...   \n",
              "1      [REVELAN, QUE, EL, GOBIERNO, NEGOCIO, LA, LIBE...   \n",
              "2      [El, valencianismo, convoca, en, Castelló, su,...   \n",
              "3      [En, política, ,, igual, que, hay, que, negoci...   \n",
              "4      [En, una, entrevista, en, El, Punt, Avui, ,, e...   \n",
              "...                                                  ...   \n",
              "57058  [El, gobierno, regional, han, indicado, que, l...   \n",
              "57059  [Si, la, higiene, democrática, nos, lleva, a, ...   \n",
              "57060  [El, coordinador, federal, de, IU, asegura, qu...   \n",
              "57061  [Santiago, Abascal, :, Vox, tiene, el, derecho...   \n",
              "57062  [Los, Mossos, dEsquadra, han, blindado, los, a...   \n",
              "\n",
              "                                                  words1       words2  \n",
              "0      [diario, britanico, publico, pasado, jueves, e...  stems lemas  \n",
              "1      [revelan, gobierno, negocio, liberacion, mirel...  stems lemas  \n",
              "2      [valencianismo, convoca, castello, fiesta, gra...  stems lemas  \n",
              "3      [politica, igual, negociar, empresarios, negoc...  stems lemas  \n",
              "4      [entrevista, punt, avui, lider, jxcat, desdram...  stems lemas  \n",
              "...                                                  ...          ...  \n",
              "57058  [gobierno, regional, indicado, atencion, dia, ...  stems lemas  \n",
              "57059  [si, higiene, democratica, lleva, exigencia, t...  stems lemas  \n",
              "57060  [coordinador, federal, iu, asegura, monarquia,...  stems lemas  \n",
              "57061  [santiago, abascal, vox, derecho, deber, forma...  stems lemas  \n",
              "57062  [mossos, desquadra, blindado, alrededores, est...  stems lemas  \n",
              "\n",
              "[57063 rows x 8 columns]"
            ]
          },
          "execution_count": 21,
          "metadata": {},
          "output_type": "execute_result"
        }
      ],
      "source": [
        "df_t['words2'] = df_t['words2'].apply(lambda x: ' '.join(map(str, x)))\n",
        "df_t"
      ]
    },
    {
      "cell_type": "code",
      "execution_count": 22,
      "metadata": {
        "colab": {
          "base_uri": "https://localhost:8080/"
        },
        "id": "sIFwG-_V8bPX",
        "outputId": "a3947c5f-9f71-44e1-8f25-49097f6df675"
      },
      "outputs": [
        {
          "name": "stdout",
          "output_type": "stream",
          "text": [
            "Label\n",
            "1    33158\n",
            "0    23905\n",
            "Name: count, dtype: int64\n"
          ]
        }
      ],
      "source": [
        "X_data, y_data = df_t['words2'], df_t['Label']\n",
        "\n",
        "y_data = (y_data == 1).astype(int)\n",
        "\n",
        "\n",
        "print(y_data.value_counts())"
      ]
    },
    {
      "cell_type": "code",
      "execution_count": 23,
      "metadata": {
        "colab": {
          "base_uri": "https://localhost:8080/"
        },
        "id": "Kz5WJ3U_A0Ct",
        "outputId": "4ca12de2-9b6b-45ab-b900-28b9103827c8"
      },
      "outputs": [
        {
          "name": "stdout",
          "output_type": "stream",
          "text": [
            "Columnas del DataFrame: Index(['ID', 'Label', 'Titulo', 'Descripcion', 'Fecha', 'words', 'words1',\n",
            "       'words2'],\n",
            "      dtype='object')\n",
            "\n",
            "Primeras filas del DataFrame:\n",
            "   ID  Label                                             Titulo  \\\n",
            "0  ID      1  'The Guardian' va con Sánchez: 'Europa necesit...   \n",
            "1  ID      0  REVELAN QUE EL GOBIERNO NEGOCIO LA LIBERACIÓN ...   \n",
            "2  ID      1  El 'Ahora o nunca' de Joan Fuster sobre el est...   \n",
            "3  ID      1  Iglesias alienta a Yolanda Díaz, ERC y EH Bild...   \n",
            "4  ID      0  Puigdemont: 'No sería ninguna tragedia una rep...   \n",
            "\n",
            "                                         Descripcion       Fecha  \\\n",
            "0  El diario británico publicó este pasado jueves...  02/06/2023   \n",
            "1  REVELAN QUE EL GOBIERNO NEGOCIO LA LIBERACIÓN ...  01/10/2023   \n",
            "2  El valencianismo convoca en Castelló su fiesta...  25/04/2022   \n",
            "3  En política, igual que hay que negociar con lo...  03/01/2022   \n",
            "4  En una entrevista en El Punt Avui, el líder de...  09/03/2018   \n",
            "\n",
            "                                               words  \\\n",
            "0  [El, diario, británico, publicó, este, pasado,...   \n",
            "1  [REVELAN, QUE, EL, GOBIERNO, NEGOCIO, LA, LIBE...   \n",
            "2  [El, valencianismo, convoca, en, Castelló, su,...   \n",
            "3  [En, política, ,, igual, que, hay, que, negoci...   \n",
            "4  [En, una, entrevista, en, El, Punt, Avui, ,, e...   \n",
            "\n",
            "                                              words1       words2  \n",
            "0  [diario, britanico, publico, pasado, jueves, e...  stems lemas  \n",
            "1  [revelan, gobierno, negocio, liberacion, mirel...  stems lemas  \n",
            "2  [valencianismo, convoca, castello, fiesta, gra...  stems lemas  \n",
            "3  [politica, igual, negociar, empresarios, negoc...  stems lemas  \n",
            "4  [entrevista, punt, avui, lider, jxcat, desdram...  stems lemas  \n",
            "\n",
            "Ejemplo de X_data:\n",
            "0    stems lemas\n",
            "1    stems lemas\n",
            "2    stems lemas\n",
            "3    stems lemas\n",
            "4    stems lemas\n",
            "Name: words2, dtype: object\n",
            "\n",
            "Distribución de y_data:\n",
            "Label\n",
            "1    33158\n",
            "0    23905\n",
            "Name: count, dtype: int64\n"
          ]
        }
      ],
      "source": [
        "# Verificar si las columnas existen\n",
        "print(\"Columnas del DataFrame:\", df_t.columns)\n",
        "\n",
        "# Ver algunas filas de df_t\n",
        "print(\"\\nPrimeras filas del DataFrame:\")\n",
        "print(df_t.head())\n",
        "\n",
        "# Extraer X_data e y_data si las columnas existen\n",
        "if 'words2' in df_t.columns and 'Label' in df_t.columns:\n",
        "    X_data, y_data = df_t['words2'], df_t['Label']\n",
        "\n",
        "    # Mostrar algunos valores de X_data\n",
        "    print(\"\\nEjemplo de X_data:\")\n",
        "    print(X_data.head())\n",
        "\n",
        "    # Convertir y_data y mostrar su distribución\n",
        "    y_data = (y_data == 1).astype(int)\n",
        "    print(\"\\nDistribución de y_data:\")\n",
        "    print(y_data.value_counts())\n",
        "else:\n",
        "    print(\"\\nERROR: 'words2' o 'Label' no están en el DataFrame.\")\n"
      ]
    },
    {
      "cell_type": "markdown",
      "metadata": {
        "id": "yW7do5qm8bPY"
      },
      "source": [
        "Se transforma el texto con una transformación binaria 1 a 1"
      ]
    },
    {
      "cell_type": "code",
      "execution_count": 24,
      "metadata": {
        "colab": {
          "base_uri": "https://localhost:8080/"
        },
        "id": "YwhWVx0i8bPY",
        "outputId": "fdae1fd1-3c95-4278-f1ef-40b9b33eb191"
      },
      "outputs": [
        {
          "name": "stdout",
          "output_type": "stream",
          "text": [
            "(57063, 2)\n"
          ]
        },
        {
          "data": {
            "text/plain": [
              "array([1, 1])"
            ]
          },
          "execution_count": 24,
          "metadata": {},
          "output_type": "execute_result"
        }
      ],
      "source": [
        "dummy = CountVectorizer(binary=True)\n",
        "X_dummy = dummy.fit_transform(X_data)\n",
        "print(X_dummy.shape)\n",
        "X_dummy.toarray()[0]"
      ]
    },
    {
      "cell_type": "markdown",
      "metadata": {
        "id": "AeMu_A1t8bPY"
      },
      "source": [
        "## Creación y aplicación de los modelos"
      ]
    },
    {
      "cell_type": "markdown",
      "metadata": {
        "id": "tplGILFv8bPY"
      },
      "source": [
        "##  **LightGBM** Brayan Salcedo:\n",
        "\n"
      ]
    },
    {
      "cell_type": "markdown",
      "metadata": {
        "id": "dR5Qzxs-eZs4"
      },
      "source": [
        "\n",
        "\n",
        "### **Implementación del modelo de clasificación**\n",
        "\n",
        "Para implementar mi modelo de clasificación, utilicé **LightGBM**, una técnica de boosting basada en árboles de decisión que es altamente eficiente y escalable para problemas de clasificación. LightGBM se destaca por su rapidez, bajo uso de memoria y capacidad para manejar grandes conjuntos de datos, lo que lo hace ideal para detectar patrones en textos complejos.\n",
        "\n",
        "### **Generación de datos**\n",
        "Primero, cargué un conjunto de datos de noticias en español, que contenía una columna de texto (`Descripcion`) y una columna de etiquetas (`Label`). Para garantizar que el modelo pudiera generalizar bien, apliqué un preprocesamiento exhaustivo al texto, que incluyó la conversión a minúsculas, la eliminación de números, puntuación y stopwords, y la tokenización. Esto me permitió trabajar con un conjunto de datos limpio y listo para ser utilizado.\n",
        "\n",
        "### **Definición del modelo**\n",
        "Configuré mi modelo **LightGBM** utilizando un estado aleatorio fijo (`random_state=42`) para garantizar la reproducibilidad de los resultados. LightGBM es un algoritmo versátil que no requiere una métrica de evaluación específica, ya que utiliza la precisión por defecto para problemas de clasificación. Además, su implementación es altamente optimizada, lo que permite un entrenamiento rápido incluso con grandes volúmenes de datos.\n",
        "\n",
        "### **Optimización de hiperparámetros**\n",
        "Para mejorar el rendimiento del modelo, definí un espacio de búsqueda de hiperparámetros que incluía:\n",
        "- **Número de árboles (`n_estimators`)**: Controla cuántos árboles se construyen en el modelo.\n",
        "- **Profundidad máxima (`max_depth`)**: Limita la profundidad de cada árbol para evitar el sobreajuste.\n",
        "- **Tasa de aprendizaje (`learning_rate`)**: Regula qué tan rápido el modelo se ajusta a los datos.\n",
        "- **Mínimo de muestras en una hoja (`min_child_samples`)**: Define el número mínimo de muestras requeridas en una hoja.\n",
        "- **Número de características a considerar (`num_leaves`)**: Controla la complejidad del modelo al limitar el número de hojas en cada árbol.\n",
        "\n",
        "Con estos hiperparámetros definidos, realicé una **búsqueda aleatoria** con validación cruzada para encontrar la mejor combinación. Elegí este método porque es eficiente y permite explorar un espacio amplio de hiperparámetros sin necesidad de probar todas las combinaciones posibles.\n",
        "\n",
        "### **Entrenamiento y selección del mejor modelo**\n",
        "Una vez completada la búsqueda, entrené el modelo con los mejores hiperparámetros encontrados. Esto me permitió obtener un clasificador optimizado sin necesidad de ajustes manuales extensivos.\n",
        "\n",
        "### **Evaluación del modelo**\n",
        "Para validar el rendimiento del modelo, utilicé **validación cruzada estratificada** con 5 particiones. Esto me permitió evaluar su capacidad de generalización y obtener una métrica más confiable sobre su desempeño. Calculé la precisión media y la desviación estándar en la validación cruzada, lo que me dio una idea clara de la estabilidad del modelo.\n",
        "\n",
        "Además, utilicé métricas adicionales como la **matriz de confusión**, la **curva ROC** y la **curva Precision-Recall** para evaluar el rendimiento del modelo en detalle. Estas métricas me ayudaron a entender cómo el modelo se comporta en términos de falsos positivos, falsos negativos y el equilibrio entre precisión y recall.\n",
        "\n"
      ]
    },
    {
      "cell_type": "code",
      "execution_count": 26,
      "metadata": {
        "colab": {
          "base_uri": "https://localhost:8080/",
          "height": 1000
        },
        "id": "W9XtYak8GWUe",
        "outputId": "2032326a-f214-4212-dc58-bfc69be54f35"
      },
      "outputs": [
        {
          "name": "stderr",
          "output_type": "stream",
          "text": [
            "WARNING: You are using pip version 22.0.4; however, version 25.0.1 is available.\n",
            "You should consider upgrading via the 'C:\\Users\\Julian\\AppData\\Local\\Programs\\Python\\Python39\\python.exe -m pip install --upgrade pip' command.\n",
            "[nltk_data] Downloading package punkt to\n",
            "[nltk_data]     C:\\Users\\Julian\\AppData\\Roaming\\nltk_data...\n",
            "[nltk_data]   Package punkt is already up-to-date!\n",
            "[nltk_data] Downloading package stopwords to\n",
            "[nltk_data]     C:\\Users\\Julian\\AppData\\Roaming\\nltk_data...\n",
            "[nltk_data]   Package stopwords is already up-to-date!\n"
          ]
        },
        {
          "name": "stdout",
          "output_type": "stream",
          "text": [
            "Requirement already satisfied: lightgbm in c:\\users\\julian\\appdata\\local\\programs\\python\\python39\\lib\\site-packages (4.6.0)\n",
            "Requirement already satisfied: scipy in c:\\users\\julian\\appdata\\local\\programs\\python\\python39\\lib\\site-packages (from lightgbm) (1.13.1)\n",
            "Requirement already satisfied: numpy>=1.17.0 in c:\\users\\julian\\appdata\\local\\programs\\python\\python39\\lib\\site-packages (from lightgbm) (2.0.2)\n",
            "Columnas en el archivo CSV: ['ID', 'Label', 'Titulo', 'Descripcion', 'Fecha']\n"
          ]
        },
        {
          "ename": "KeyboardInterrupt",
          "evalue": "",
          "output_type": "error",
          "traceback": [
            "\u001b[1;31m---------------------------------------------------------------------------\u001b[0m",
            "\u001b[1;31mKeyboardInterrupt\u001b[0m                         Traceback (most recent call last)",
            "Cell \u001b[1;32mIn[26], line 33\u001b[0m\n\u001b[0;32m     29\u001b[0m     tokens \u001b[38;5;241m=\u001b[39m [palabra \u001b[38;5;28;01mfor\u001b[39;00m palabra \u001b[38;5;129;01min\u001b[39;00m tokens \u001b[38;5;28;01mif\u001b[39;00m palabra \u001b[38;5;129;01mnot\u001b[39;00m \u001b[38;5;129;01min\u001b[39;00m stopwords\u001b[38;5;241m.\u001b[39mwords(\u001b[38;5;124m'\u001b[39m\u001b[38;5;124mspanish\u001b[39m\u001b[38;5;124m'\u001b[39m)]  \u001b[38;5;66;03m# Eliminar stopwords\u001b[39;00m\n\u001b[0;32m     30\u001b[0m     \u001b[38;5;28;01mreturn\u001b[39;00m \u001b[38;5;124m'\u001b[39m\u001b[38;5;124m \u001b[39m\u001b[38;5;124m'\u001b[39m\u001b[38;5;241m.\u001b[39mjoin(tokens)  \u001b[38;5;66;03m# Unir tokens en una cadena de texto\u001b[39;00m\n\u001b[1;32m---> 33\u001b[0m df[\u001b[38;5;124m\"\u001b[39m\u001b[38;5;124mprocessed_text\u001b[39m\u001b[38;5;124m\"\u001b[39m] \u001b[38;5;241m=\u001b[39m \u001b[43mdf\u001b[49m\u001b[43m[\u001b[49m\u001b[38;5;124;43m\"\u001b[39;49m\u001b[38;5;124;43mDescripcion\u001b[39;49m\u001b[38;5;124;43m\"\u001b[39;49m\u001b[43m]\u001b[49m\u001b[38;5;241;43m.\u001b[39;49m\u001b[43mastype\u001b[49m\u001b[43m(\u001b[49m\u001b[38;5;28;43mstr\u001b[39;49m\u001b[43m)\u001b[49m\u001b[38;5;241;43m.\u001b[39;49m\u001b[43mapply\u001b[49m\u001b[43m(\u001b[49m\u001b[43mlimpiar_texto\u001b[49m\u001b[43m)\u001b[49m\n\u001b[0;32m     36\u001b[0m X \u001b[38;5;241m=\u001b[39m df[\u001b[38;5;124m'\u001b[39m\u001b[38;5;124mprocessed_text\u001b[39m\u001b[38;5;124m'\u001b[39m]\n\u001b[0;32m     37\u001b[0m y \u001b[38;5;241m=\u001b[39m df[\u001b[38;5;124m'\u001b[39m\u001b[38;5;124mLabel\u001b[39m\u001b[38;5;124m'\u001b[39m]\n",
            "File \u001b[1;32mc:\\Users\\Julian\\AppData\\Local\\Programs\\Python\\Python39\\lib\\site-packages\\pandas\\core\\series.py:4917\u001b[0m, in \u001b[0;36mSeries.apply\u001b[1;34m(self, func, convert_dtype, args, by_row, **kwargs)\u001b[0m\n\u001b[0;32m   4789\u001b[0m \u001b[38;5;28;01mdef\u001b[39;00m\u001b[38;5;250m \u001b[39m\u001b[38;5;21mapply\u001b[39m(\n\u001b[0;32m   4790\u001b[0m     \u001b[38;5;28mself\u001b[39m,\n\u001b[0;32m   4791\u001b[0m     func: AggFuncType,\n\u001b[1;32m   (...)\u001b[0m\n\u001b[0;32m   4796\u001b[0m     \u001b[38;5;241m*\u001b[39m\u001b[38;5;241m*\u001b[39mkwargs,\n\u001b[0;32m   4797\u001b[0m ) \u001b[38;5;241m-\u001b[39m\u001b[38;5;241m>\u001b[39m DataFrame \u001b[38;5;241m|\u001b[39m Series:\n\u001b[0;32m   4798\u001b[0m \u001b[38;5;250m    \u001b[39m\u001b[38;5;124;03m\"\"\"\u001b[39;00m\n\u001b[0;32m   4799\u001b[0m \u001b[38;5;124;03m    Invoke function on values of Series.\u001b[39;00m\n\u001b[0;32m   4800\u001b[0m \n\u001b[1;32m   (...)\u001b[0m\n\u001b[0;32m   4915\u001b[0m \u001b[38;5;124;03m    dtype: float64\u001b[39;00m\n\u001b[0;32m   4916\u001b[0m \u001b[38;5;124;03m    \"\"\"\u001b[39;00m\n\u001b[1;32m-> 4917\u001b[0m     \u001b[38;5;28;01mreturn\u001b[39;00m \u001b[43mSeriesApply\u001b[49m\u001b[43m(\u001b[49m\n\u001b[0;32m   4918\u001b[0m \u001b[43m        \u001b[49m\u001b[38;5;28;43mself\u001b[39;49m\u001b[43m,\u001b[49m\n\u001b[0;32m   4919\u001b[0m \u001b[43m        \u001b[49m\u001b[43mfunc\u001b[49m\u001b[43m,\u001b[49m\n\u001b[0;32m   4920\u001b[0m \u001b[43m        \u001b[49m\u001b[43mconvert_dtype\u001b[49m\u001b[38;5;241;43m=\u001b[39;49m\u001b[43mconvert_dtype\u001b[49m\u001b[43m,\u001b[49m\n\u001b[0;32m   4921\u001b[0m \u001b[43m        \u001b[49m\u001b[43mby_row\u001b[49m\u001b[38;5;241;43m=\u001b[39;49m\u001b[43mby_row\u001b[49m\u001b[43m,\u001b[49m\n\u001b[0;32m   4922\u001b[0m \u001b[43m        \u001b[49m\u001b[43margs\u001b[49m\u001b[38;5;241;43m=\u001b[39;49m\u001b[43margs\u001b[49m\u001b[43m,\u001b[49m\n\u001b[0;32m   4923\u001b[0m \u001b[43m        \u001b[49m\u001b[43mkwargs\u001b[49m\u001b[38;5;241;43m=\u001b[39;49m\u001b[43mkwargs\u001b[49m\u001b[43m,\u001b[49m\n\u001b[0;32m   4924\u001b[0m \u001b[43m    \u001b[49m\u001b[43m)\u001b[49m\u001b[38;5;241;43m.\u001b[39;49m\u001b[43mapply\u001b[49m\u001b[43m(\u001b[49m\u001b[43m)\u001b[49m\n",
            "File \u001b[1;32mc:\\Users\\Julian\\AppData\\Local\\Programs\\Python\\Python39\\lib\\site-packages\\pandas\\core\\apply.py:1427\u001b[0m, in \u001b[0;36mSeriesApply.apply\u001b[1;34m(self)\u001b[0m\n\u001b[0;32m   1424\u001b[0m     \u001b[38;5;28;01mreturn\u001b[39;00m \u001b[38;5;28mself\u001b[39m\u001b[38;5;241m.\u001b[39mapply_compat()\n\u001b[0;32m   1426\u001b[0m \u001b[38;5;66;03m# self.func is Callable\u001b[39;00m\n\u001b[1;32m-> 1427\u001b[0m \u001b[38;5;28;01mreturn\u001b[39;00m \u001b[38;5;28;43mself\u001b[39;49m\u001b[38;5;241;43m.\u001b[39;49m\u001b[43mapply_standard\u001b[49m\u001b[43m(\u001b[49m\u001b[43m)\u001b[49m\n",
            "File \u001b[1;32mc:\\Users\\Julian\\AppData\\Local\\Programs\\Python\\Python39\\lib\\site-packages\\pandas\\core\\apply.py:1507\u001b[0m, in \u001b[0;36mSeriesApply.apply_standard\u001b[1;34m(self)\u001b[0m\n\u001b[0;32m   1501\u001b[0m \u001b[38;5;66;03m# row-wise access\u001b[39;00m\n\u001b[0;32m   1502\u001b[0m \u001b[38;5;66;03m# apply doesn't have a `na_action` keyword and for backward compat reasons\u001b[39;00m\n\u001b[0;32m   1503\u001b[0m \u001b[38;5;66;03m# we need to give `na_action=\"ignore\"` for categorical data.\u001b[39;00m\n\u001b[0;32m   1504\u001b[0m \u001b[38;5;66;03m# TODO: remove the `na_action=\"ignore\"` when that default has been changed in\u001b[39;00m\n\u001b[0;32m   1505\u001b[0m \u001b[38;5;66;03m#  Categorical (GH51645).\u001b[39;00m\n\u001b[0;32m   1506\u001b[0m action \u001b[38;5;241m=\u001b[39m \u001b[38;5;124m\"\u001b[39m\u001b[38;5;124mignore\u001b[39m\u001b[38;5;124m\"\u001b[39m \u001b[38;5;28;01mif\u001b[39;00m \u001b[38;5;28misinstance\u001b[39m(obj\u001b[38;5;241m.\u001b[39mdtype, CategoricalDtype) \u001b[38;5;28;01melse\u001b[39;00m \u001b[38;5;28;01mNone\u001b[39;00m\n\u001b[1;32m-> 1507\u001b[0m mapped \u001b[38;5;241m=\u001b[39m \u001b[43mobj\u001b[49m\u001b[38;5;241;43m.\u001b[39;49m\u001b[43m_map_values\u001b[49m\u001b[43m(\u001b[49m\n\u001b[0;32m   1508\u001b[0m \u001b[43m    \u001b[49m\u001b[43mmapper\u001b[49m\u001b[38;5;241;43m=\u001b[39;49m\u001b[43mcurried\u001b[49m\u001b[43m,\u001b[49m\u001b[43m \u001b[49m\u001b[43mna_action\u001b[49m\u001b[38;5;241;43m=\u001b[39;49m\u001b[43maction\u001b[49m\u001b[43m,\u001b[49m\u001b[43m \u001b[49m\u001b[43mconvert\u001b[49m\u001b[38;5;241;43m=\u001b[39;49m\u001b[38;5;28;43mself\u001b[39;49m\u001b[38;5;241;43m.\u001b[39;49m\u001b[43mconvert_dtype\u001b[49m\n\u001b[0;32m   1509\u001b[0m \u001b[43m\u001b[49m\u001b[43m)\u001b[49m\n\u001b[0;32m   1511\u001b[0m \u001b[38;5;28;01mif\u001b[39;00m \u001b[38;5;28mlen\u001b[39m(mapped) \u001b[38;5;129;01mand\u001b[39;00m \u001b[38;5;28misinstance\u001b[39m(mapped[\u001b[38;5;241m0\u001b[39m], ABCSeries):\n\u001b[0;32m   1512\u001b[0m     \u001b[38;5;66;03m# GH#43986 Need to do list(mapped) in order to get treated as nested\u001b[39;00m\n\u001b[0;32m   1513\u001b[0m     \u001b[38;5;66;03m#  See also GH#25959 regarding EA support\u001b[39;00m\n\u001b[0;32m   1514\u001b[0m     \u001b[38;5;28;01mreturn\u001b[39;00m obj\u001b[38;5;241m.\u001b[39m_constructor_expanddim(\u001b[38;5;28mlist\u001b[39m(mapped), index\u001b[38;5;241m=\u001b[39mobj\u001b[38;5;241m.\u001b[39mindex)\n",
            "File \u001b[1;32mc:\\Users\\Julian\\AppData\\Local\\Programs\\Python\\Python39\\lib\\site-packages\\pandas\\core\\base.py:921\u001b[0m, in \u001b[0;36mIndexOpsMixin._map_values\u001b[1;34m(self, mapper, na_action, convert)\u001b[0m\n\u001b[0;32m    918\u001b[0m \u001b[38;5;28;01mif\u001b[39;00m \u001b[38;5;28misinstance\u001b[39m(arr, ExtensionArray):\n\u001b[0;32m    919\u001b[0m     \u001b[38;5;28;01mreturn\u001b[39;00m arr\u001b[38;5;241m.\u001b[39mmap(mapper, na_action\u001b[38;5;241m=\u001b[39mna_action)\n\u001b[1;32m--> 921\u001b[0m \u001b[38;5;28;01mreturn\u001b[39;00m \u001b[43malgorithms\u001b[49m\u001b[38;5;241;43m.\u001b[39;49m\u001b[43mmap_array\u001b[49m\u001b[43m(\u001b[49m\u001b[43marr\u001b[49m\u001b[43m,\u001b[49m\u001b[43m \u001b[49m\u001b[43mmapper\u001b[49m\u001b[43m,\u001b[49m\u001b[43m \u001b[49m\u001b[43mna_action\u001b[49m\u001b[38;5;241;43m=\u001b[39;49m\u001b[43mna_action\u001b[49m\u001b[43m,\u001b[49m\u001b[43m \u001b[49m\u001b[43mconvert\u001b[49m\u001b[38;5;241;43m=\u001b[39;49m\u001b[43mconvert\u001b[49m\u001b[43m)\u001b[49m\n",
            "File \u001b[1;32mc:\\Users\\Julian\\AppData\\Local\\Programs\\Python\\Python39\\lib\\site-packages\\pandas\\core\\algorithms.py:1743\u001b[0m, in \u001b[0;36mmap_array\u001b[1;34m(arr, mapper, na_action, convert)\u001b[0m\n\u001b[0;32m   1741\u001b[0m values \u001b[38;5;241m=\u001b[39m arr\u001b[38;5;241m.\u001b[39mastype(\u001b[38;5;28mobject\u001b[39m, copy\u001b[38;5;241m=\u001b[39m\u001b[38;5;28;01mFalse\u001b[39;00m)\n\u001b[0;32m   1742\u001b[0m \u001b[38;5;28;01mif\u001b[39;00m na_action \u001b[38;5;129;01mis\u001b[39;00m \u001b[38;5;28;01mNone\u001b[39;00m:\n\u001b[1;32m-> 1743\u001b[0m     \u001b[38;5;28;01mreturn\u001b[39;00m \u001b[43mlib\u001b[49m\u001b[38;5;241;43m.\u001b[39;49m\u001b[43mmap_infer\u001b[49m\u001b[43m(\u001b[49m\u001b[43mvalues\u001b[49m\u001b[43m,\u001b[49m\u001b[43m \u001b[49m\u001b[43mmapper\u001b[49m\u001b[43m,\u001b[49m\u001b[43m \u001b[49m\u001b[43mconvert\u001b[49m\u001b[38;5;241;43m=\u001b[39;49m\u001b[43mconvert\u001b[49m\u001b[43m)\u001b[49m\n\u001b[0;32m   1744\u001b[0m \u001b[38;5;28;01melse\u001b[39;00m:\n\u001b[0;32m   1745\u001b[0m     \u001b[38;5;28;01mreturn\u001b[39;00m lib\u001b[38;5;241m.\u001b[39mmap_infer_mask(\n\u001b[0;32m   1746\u001b[0m         values, mapper, mask\u001b[38;5;241m=\u001b[39misna(values)\u001b[38;5;241m.\u001b[39mview(np\u001b[38;5;241m.\u001b[39muint8), convert\u001b[38;5;241m=\u001b[39mconvert\n\u001b[0;32m   1747\u001b[0m     )\n",
            "File \u001b[1;32mlib.pyx:2972\u001b[0m, in \u001b[0;36mpandas._libs.lib.map_infer\u001b[1;34m()\u001b[0m\n",
            "Cell \u001b[1;32mIn[26], line 29\u001b[0m, in \u001b[0;36mlimpiar_texto\u001b[1;34m(texto)\u001b[0m\n\u001b[0;32m     27\u001b[0m texto \u001b[38;5;241m=\u001b[39m re\u001b[38;5;241m.\u001b[39msub(\u001b[38;5;124mr\u001b[39m\u001b[38;5;124m'\u001b[39m\u001b[38;5;124m[^\u001b[39m\u001b[38;5;124m\\\u001b[39m\u001b[38;5;124mw\u001b[39m\u001b[38;5;124m\\\u001b[39m\u001b[38;5;124ms]\u001b[39m\u001b[38;5;124m'\u001b[39m, \u001b[38;5;124m'\u001b[39m\u001b[38;5;124m'\u001b[39m, texto)  \u001b[38;5;66;03m# Eliminar puntuación\u001b[39;00m\n\u001b[0;32m     28\u001b[0m tokens \u001b[38;5;241m=\u001b[39m word_tokenize(texto)  \u001b[38;5;66;03m# Tokenizar el texto\u001b[39;00m\n\u001b[1;32m---> 29\u001b[0m tokens \u001b[38;5;241m=\u001b[39m [palabra \u001b[38;5;28;01mfor\u001b[39;00m palabra \u001b[38;5;129;01min\u001b[39;00m tokens \u001b[38;5;28;01mif\u001b[39;00m palabra \u001b[38;5;129;01mnot\u001b[39;00m \u001b[38;5;129;01min\u001b[39;00m stopwords\u001b[38;5;241m.\u001b[39mwords(\u001b[38;5;124m'\u001b[39m\u001b[38;5;124mspanish\u001b[39m\u001b[38;5;124m'\u001b[39m)]  \u001b[38;5;66;03m# Eliminar stopwords\u001b[39;00m\n\u001b[0;32m     30\u001b[0m \u001b[38;5;28;01mreturn\u001b[39;00m \u001b[38;5;124m'\u001b[39m\u001b[38;5;124m \u001b[39m\u001b[38;5;124m'\u001b[39m\u001b[38;5;241m.\u001b[39mjoin(tokens)\n",
            "Cell \u001b[1;32mIn[26], line 29\u001b[0m, in \u001b[0;36m<listcomp>\u001b[1;34m(.0)\u001b[0m\n\u001b[0;32m     27\u001b[0m texto \u001b[38;5;241m=\u001b[39m re\u001b[38;5;241m.\u001b[39msub(\u001b[38;5;124mr\u001b[39m\u001b[38;5;124m'\u001b[39m\u001b[38;5;124m[^\u001b[39m\u001b[38;5;124m\\\u001b[39m\u001b[38;5;124mw\u001b[39m\u001b[38;5;124m\\\u001b[39m\u001b[38;5;124ms]\u001b[39m\u001b[38;5;124m'\u001b[39m, \u001b[38;5;124m'\u001b[39m\u001b[38;5;124m'\u001b[39m, texto)  \u001b[38;5;66;03m# Eliminar puntuación\u001b[39;00m\n\u001b[0;32m     28\u001b[0m tokens \u001b[38;5;241m=\u001b[39m word_tokenize(texto)  \u001b[38;5;66;03m# Tokenizar el texto\u001b[39;00m\n\u001b[1;32m---> 29\u001b[0m tokens \u001b[38;5;241m=\u001b[39m [palabra \u001b[38;5;28;01mfor\u001b[39;00m palabra \u001b[38;5;129;01min\u001b[39;00m tokens \u001b[38;5;28;01mif\u001b[39;00m palabra \u001b[38;5;129;01mnot\u001b[39;00m \u001b[38;5;129;01min\u001b[39;00m \u001b[43mstopwords\u001b[49m\u001b[38;5;241;43m.\u001b[39;49m\u001b[43mwords\u001b[49m\u001b[43m(\u001b[49m\u001b[38;5;124;43m'\u001b[39;49m\u001b[38;5;124;43mspanish\u001b[39;49m\u001b[38;5;124;43m'\u001b[39;49m\u001b[43m)\u001b[49m]  \u001b[38;5;66;03m# Eliminar stopwords\u001b[39;00m\n\u001b[0;32m     30\u001b[0m \u001b[38;5;28;01mreturn\u001b[39;00m \u001b[38;5;124m'\u001b[39m\u001b[38;5;124m \u001b[39m\u001b[38;5;124m'\u001b[39m\u001b[38;5;241m.\u001b[39mjoin(tokens)\n",
            "File \u001b[1;32mc:\\Users\\Julian\\AppData\\Local\\Programs\\Python\\Python39\\lib\\site-packages\\nltk\\corpus\\reader\\wordlist.py:21\u001b[0m, in \u001b[0;36mWordListCorpusReader.words\u001b[1;34m(self, fileids, ignore_lines_startswith)\u001b[0m\n\u001b[0;32m     18\u001b[0m \u001b[38;5;28;01mdef\u001b[39;00m\u001b[38;5;250m \u001b[39m\u001b[38;5;21mwords\u001b[39m(\u001b[38;5;28mself\u001b[39m, fileids\u001b[38;5;241m=\u001b[39m\u001b[38;5;28;01mNone\u001b[39;00m, ignore_lines_startswith\u001b[38;5;241m=\u001b[39m\u001b[38;5;124m\"\u001b[39m\u001b[38;5;130;01m\\n\u001b[39;00m\u001b[38;5;124m\"\u001b[39m):\n\u001b[0;32m     19\u001b[0m     \u001b[38;5;28;01mreturn\u001b[39;00m [\n\u001b[0;32m     20\u001b[0m         line\n\u001b[1;32m---> 21\u001b[0m         \u001b[38;5;28;01mfor\u001b[39;00m line \u001b[38;5;129;01min\u001b[39;00m line_tokenize(\u001b[38;5;28;43mself\u001b[39;49m\u001b[38;5;241;43m.\u001b[39;49m\u001b[43mraw\u001b[49m\u001b[43m(\u001b[49m\u001b[43mfileids\u001b[49m\u001b[43m)\u001b[49m)\n\u001b[0;32m     22\u001b[0m         \u001b[38;5;28;01mif\u001b[39;00m \u001b[38;5;129;01mnot\u001b[39;00m line\u001b[38;5;241m.\u001b[39mstartswith(ignore_lines_startswith)\n\u001b[0;32m     23\u001b[0m     ]\n",
            "File \u001b[1;32mc:\\Users\\Julian\\AppData\\Local\\Programs\\Python\\Python39\\lib\\site-packages\\nltk\\corpus\\reader\\api.py:218\u001b[0m, in \u001b[0;36mCorpusReader.raw\u001b[1;34m(self, fileids)\u001b[0m\n\u001b[0;32m    216\u001b[0m contents \u001b[38;5;241m=\u001b[39m []\n\u001b[0;32m    217\u001b[0m \u001b[38;5;28;01mfor\u001b[39;00m f \u001b[38;5;129;01min\u001b[39;00m fileids:\n\u001b[1;32m--> 218\u001b[0m     \u001b[38;5;28;01mwith\u001b[39;00m \u001b[38;5;28;43mself\u001b[39;49m\u001b[38;5;241;43m.\u001b[39;49m\u001b[43mopen\u001b[49m\u001b[43m(\u001b[49m\u001b[43mf\u001b[49m\u001b[43m)\u001b[49m \u001b[38;5;28;01mas\u001b[39;00m fp:\n\u001b[0;32m    219\u001b[0m         contents\u001b[38;5;241m.\u001b[39mappend(fp\u001b[38;5;241m.\u001b[39mread())\n\u001b[0;32m    220\u001b[0m \u001b[38;5;28;01mreturn\u001b[39;00m concat(contents)\n",
            "File \u001b[1;32mc:\\Users\\Julian\\AppData\\Local\\Programs\\Python\\Python39\\lib\\site-packages\\nltk\\corpus\\reader\\api.py:231\u001b[0m, in \u001b[0;36mCorpusReader.open\u001b[1;34m(self, file)\u001b[0m\n\u001b[0;32m    223\u001b[0m \u001b[38;5;250m\u001b[39m\u001b[38;5;124;03m\"\"\"\u001b[39;00m\n\u001b[0;32m    224\u001b[0m \u001b[38;5;124;03mReturn an open stream that can be used to read the given file.\u001b[39;00m\n\u001b[0;32m    225\u001b[0m \u001b[38;5;124;03mIf the file's encoding is not None, then the stream will\u001b[39;00m\n\u001b[1;32m   (...)\u001b[0m\n\u001b[0;32m    228\u001b[0m \u001b[38;5;124;03m:param file: The file identifier of the file to read.\u001b[39;00m\n\u001b[0;32m    229\u001b[0m \u001b[38;5;124;03m\"\"\"\u001b[39;00m\n\u001b[0;32m    230\u001b[0m encoding \u001b[38;5;241m=\u001b[39m \u001b[38;5;28mself\u001b[39m\u001b[38;5;241m.\u001b[39mencoding(file)\n\u001b[1;32m--> 231\u001b[0m stream \u001b[38;5;241m=\u001b[39m \u001b[38;5;28;43mself\u001b[39;49m\u001b[38;5;241;43m.\u001b[39;49m\u001b[43m_root\u001b[49m\u001b[38;5;241;43m.\u001b[39;49m\u001b[43mjoin\u001b[49m\u001b[43m(\u001b[49m\u001b[43mfile\u001b[49m\u001b[43m)\u001b[49m\u001b[38;5;241;43m.\u001b[39;49m\u001b[43mopen\u001b[49m\u001b[43m(\u001b[49m\u001b[43mencoding\u001b[49m\u001b[43m)\u001b[49m\n\u001b[0;32m    232\u001b[0m \u001b[38;5;28;01mreturn\u001b[39;00m stream\n",
            "File \u001b[1;32mc:\\Users\\Julian\\AppData\\Local\\Programs\\Python\\Python39\\lib\\site-packages\\nltk\\data.py:323\u001b[0m, in \u001b[0;36mFileSystemPathPointer.open\u001b[1;34m(self, encoding)\u001b[0m\n\u001b[0;32m    322\u001b[0m \u001b[38;5;28;01mdef\u001b[39;00m\u001b[38;5;250m \u001b[39m\u001b[38;5;21mopen\u001b[39m(\u001b[38;5;28mself\u001b[39m, encoding\u001b[38;5;241m=\u001b[39m\u001b[38;5;28;01mNone\u001b[39;00m):\n\u001b[1;32m--> 323\u001b[0m     stream \u001b[38;5;241m=\u001b[39m \u001b[38;5;28;43mopen\u001b[39;49m\u001b[43m(\u001b[49m\u001b[38;5;28;43mself\u001b[39;49m\u001b[38;5;241;43m.\u001b[39;49m\u001b[43m_path\u001b[49m\u001b[43m,\u001b[49m\u001b[43m \u001b[49m\u001b[38;5;124;43m\"\u001b[39;49m\u001b[38;5;124;43mrb\u001b[39;49m\u001b[38;5;124;43m\"\u001b[39;49m\u001b[43m)\u001b[49m\n\u001b[0;32m    324\u001b[0m     \u001b[38;5;28;01mif\u001b[39;00m encoding \u001b[38;5;129;01mis\u001b[39;00m \u001b[38;5;129;01mnot\u001b[39;00m \u001b[38;5;28;01mNone\u001b[39;00m:\n\u001b[0;32m    325\u001b[0m         stream \u001b[38;5;241m=\u001b[39m SeekableUnicodeStreamReader(stream, encoding)\n",
            "\u001b[1;31mKeyboardInterrupt\u001b[0m: "
          ]
        }
      ],
      "source": [
        "!pip install lightgbm\n",
        "\n",
        "import pandas as pd\n",
        "import lightgbm as lgb\n",
        "from sklearn.model_selection import train_test_split\n",
        "from sklearn.feature_extraction.text import TfidfVectorizer\n",
        "from sklearn.pipeline import Pipeline\n",
        "from sklearn.metrics import accuracy_score, classification_report, confusion_matrix\n",
        "import matplotlib.pyplot as plt\n",
        "import seaborn as sns\n",
        "import pickle\n",
        "from datetime import datetime\n",
        "import nltk\n",
        "import re\n",
        "from nltk.corpus import stopwords\n",
        "from nltk.tokenize import word_tokenize\n",
        "\n",
        "nltk.download(\"punkt\")\n",
        "nltk.download(\"stopwords\")\n",
        "\n",
        "df = pd.read_csv(\"fake_news_spanish.csv\", sep=\";\")\n",
        "print(\"Columnas en el archivo CSV:\", df.columns.tolist())\n",
        "\n",
        "def limpiar_texto(texto):\n",
        "    texto = texto.lower()  # Convertir a minúsculas\n",
        "    texto = re.sub(r'\\d+', '', texto)  # Eliminar números\n",
        "    texto = re.sub(r'[^\\w\\s]', '', texto)  # Eliminar puntuación\n",
        "    tokens = word_tokenize(texto)  # Tokenizar el texto\n",
        "    tokens = [palabra for palabra in tokens if palabra not in stopwords.words('spanish')]  # Eliminar stopwords\n",
        "    return ' '.join(tokens)  # Unir tokens en una cadena de texto\n",
        "\n",
        "\n",
        "df[\"processed_text\"] = df[\"Descripcion\"].astype(str).apply(limpiar_texto)\n",
        "\n",
        "\n",
        "X = df['processed_text']\n",
        "y = df['Label']\n",
        "X_train, X_test, y_train, y_test = train_test_split(X, y, test_size=0.3, random_state=42)\n",
        "\n",
        "# ---------------------------------------\n",
        "# 4. Crear el Pipeline con LightGBM\n",
        "# ---------------------------------------\n",
        "pipeline = Pipeline([\n",
        "    ('tfidf', TfidfVectorizer(max_features=5000, ngram_range=(1, 2))),  # Vectorización TF-IDF\n",
        "    ('clf', lgb.LGBMClassifier(random_state=42))  # Clasificador LightGBM\n",
        "])\n",
        "\n",
        "pipeline.fit(X_train, y_train)\n",
        "\n",
        "\n",
        "y_pred = pipeline.predict(X_test)\n",
        "\n",
        "\n",
        "print(\"Accuracy:\", accuracy_score(y_test, y_pred))\n",
        "print(\"Classification Report:\\n\", classification_report(y_test, y_pred))\n",
        "\n",
        "# Matriz de confusión\n",
        "cm = confusion_matrix(y_test, y_pred)\n",
        "plt.figure(figsize=(5, 4))\n",
        "sns.heatmap(cm, annot=True, fmt=\"d\", cmap=\"Blues\", xticklabels=[\"Clase 0\", \"Clase 1\"], yticklabels=[\"Clase 0\", \"Clase 1\"])\n",
        "plt.xlabel(\"Predicho\")\n",
        "plt.ylabel(\"Real\")\n",
        "plt.title(\"Matriz de Confusión - LightGBM\")\n",
        "plt.show()\n",
        "\n",
        "\n",
        "with open(\"modelo_lightgbm.pkl\", \"wb\") as file:\n",
        "    pickle.dump(pipeline, file)\n",
        "\n",
        "\n",
        "with open(\"modelo_lightgbm.pkl\", \"rb\") as file:\n",
        "    loaded_model = pickle.load(file)\n",
        "\n",
        "\n",
        "df_test = pd.read_csv(\"fake_news_spanish.csv\", sep=\";\")\n",
        "df_test[\"processed_text\"] = df_test[\"Descripcion\"].astype(str).apply(limpiar_texto)\n",
        "\n",
        "\n",
        "X_test_new = df_test[\"processed_text\"]\n",
        "df_test[\"Etiqueta Predicha\"] = loaded_model.predict(X_test_new)\n",
        "\n",
        "\n",
        "timestamp = datetime.now().strftime(\"%Y%m%d_%H%M%S\")\n",
        "filename = f\"fake_news_spanish_pred_lightgbm_{timestamp}.csv\"\n",
        "df_test.to_csv(filename, sep=\";\", index=False)\n",
        "print(f\"Archivo generado correctamente: {filename}\")"
      ]
    },
    {
      "cell_type": "code",
      "execution_count": 25,
      "metadata": {
        "colab": {
          "base_uri": "https://localhost:8080/",
          "height": 599
        },
        "id": "bZC1RGrhJeyu",
        "outputId": "2c204ed3-1979-4b32-e5d9-f2df89eb703b"
      },
      "outputs": [
        {
          "name": "stderr",
          "output_type": "stream",
          "text": [
            "/usr/local/lib/python3.11/dist-packages/sklearn/utils/validation.py:2739: UserWarning: X does not have valid feature names, but LGBMClassifier was fitted with feature names\n",
            "  warnings.warn(\n"
          ]
        },
        {
          "data": {
            "image/png": "[encoded data removed]",
            "text/plain": [
              "<Figure size 800x600 with 1 Axes>"
            ]
          },
          "metadata": {},
          "output_type": "display_data"
        }
      ],
      "source": [
        "# Curva ROC\n",
        "from sklearn.metrics import roc_curve, auc\n",
        "\n",
        "# Obtener las probabilidades de la clase positiva\n",
        "y_pred_prob = pipeline.predict_proba(X_test)[:, 1]\n",
        "\n",
        "# Calcular FPR, TPR y el AUC\n",
        "fpr, tpr, thresholds = roc_curve(y_test, y_pred_prob)\n",
        "roc_auc = auc(fpr, tpr)\n",
        "\n",
        "# Graficar la curva ROC\n",
        "plt.figure(figsize=(8, 6))\n",
        "plt.plot(fpr, tpr, color='blue', lw=2, label=f'AUC = {roc_auc:.2f}')\n",
        "plt.plot([0, 1], [0, 1], color='gray', lw=2, linestyle='--')\n",
        "plt.xlim([0.0, 1.0])\n",
        "plt.ylim([0.0, 1.05])\n",
        "plt.xlabel('Tasa de Falsos Positivos')\n",
        "plt.ylabel('Tasa de Verdaderos Positivos')\n",
        "plt.title('Curva ROC - LightGBM')\n",
        "plt.legend(loc='lower right')\n",
        "plt.show()\n"
      ]
    },
    {
      "cell_type": "markdown",
      "metadata": {
        "id": "wYaz4bSPOzOF"
      },
      "source": [
        "\n",
        "\n",
        "### **Análisis de Resultados del Modelo de Detección de Noticias Falsas**\n",
        "La evaluación del modelo construido para la detección de noticias falsas en el contexto político muestra un desempeño aceptable con ciertas limitaciones. La matriz de confusión indica una alta tasa de verdaderos positivos, lo que sugiere que el modelo identifica correctamente muchas noticias falsas. Sin embargo, la presencia de un número elevado de falsos positivos significa que el modelo clasifica algunas noticias verídicas como falsas, lo que podría afectar su confiabilidad y generar desinformación en el usuario final.\n",
        "\n",
        "Por otro lado, la curva ROC del modelo arroja un área bajo la curva (AUC) de **0.87**, lo que indica un buen equilibrio entre sensibilidad y especificidad. Esto sugiere que el modelo es efectivo en distinguir entre noticias reales y falsas, aunque no es completamente preciso. Un AUC de 1 representaría un modelo perfecto, mientras que un valor de 0.5 indicaría un modelo que no realiza mejor clasificación que el azar.\n",
        "\n",
        "### **Implicaciones en el Proyecto**\n",
        "Dado que este modelo tiene aplicación en la detección de noticias falsas, los falsos positivos podrían generar riesgos como la censura de contenido legítimo o la desconfianza en medios de comunicación legítimos. Por lo tanto, sería recomendable explorar estrategias para mejorar la precisión del modelo, como el ajuste del umbral de clasificación, la inclusión de nuevas características en la ingeniería de datos o el uso de técnicas de calibración de probabilidad.\n",
        "\n",
        "En términos de implementación práctica dentro del proyecto, se debe considerar el impacto de estos resultados en la toma de decisiones del usuario final. Un modelo con sesgo hacia la detección de falsos positivos puede inducir a errores en la interpretación de la información y afectar la confianza en el sistema. Por lo tanto, es fundamental complementar esta solución con explicaciones interpretables sobre cómo se clasifican las noticias y permitir al usuario verificar fuentes antes de tomar decisiones basadas en el modelo.\n"
      ]
    },
    {
      "cell_type": "markdown",
      "metadata": {
        "id": "7RHIuj6PFeWf"
      },
      "source": [
        "## Modelo Vectorización TF-IDF + modelo Multinomial Naive Bayes- Daniel"
      ]
    },
    {
      "cell_type": "markdown",
      "metadata": {
        "id": "nvgT6wyzFeWf"
      },
      "source": [
        "### Generación de Datos\n",
        "Se utilizó el dataset preprocesado, tomando la columna words1 como texto y Label como variable objetivo. Los datos se dividieron en conjuntos de entrenamiento y prueba (70%-30%) mediante train_test_split.\n",
        "\n",
        "### Definición del Modelo\n",
        "Se empleó el algoritmo Multinomial Naive Bayes (MultinomialNB) debido a su eficiencia en clasificación de textos. Se integró en un pipeline con TfidfVectorizer, configurado para capturar unigramas y bigramas (rango (1, 2)) y limitar las características a 5000.\n",
        "\n",
        "### Optimización de Hiperparámetros\n",
        "Se realizó una búsqueda de hiperparámetros con GridSearchCV, evaluando alpha en [0.1, 0.5, 1.0] y fit_prior en [True, False], utilizando validación cruzada de 5 particiones.\n",
        "\n",
        "### Entrenamiento del Modelo\n",
        "El mejor modelo seleccionado se entrenó utilizando los datos de entrenamiento mediante el método fit del pipeline.\n",
        "\n",
        "### Selección del Mejor Modelo\n",
        "Se seleccionó el modelo con el mayor F1-Score, garantizando un equilibrio entre precisión y recall.\n",
        "\n",
        "### Evaluación del Modelo\n",
        "El desempeño se evaluó con los datos de prueba mediante las métricas Accuracy, Precision, Recall y F1-Score, obtenidas con accuracy_score y classification_report. La matriz de confusión mostró la proporción de predicciones correctas e incorrectas.\n"
      ]
    },
    {
      "cell_type": "code",
      "execution_count": 31,
      "metadata": {
        "id": "Px3NTzggGPcS"
      },
      "outputs": [],
      "source": [
        "X = df_t['words1']\n",
        "y = df['Label']"
      ]
    },
    {
      "cell_type": "code",
      "execution_count": 32,
      "metadata": {
        "id": "GU73QX5eFeWg"
      },
      "outputs": [],
      "source": [
        "X_train, X_test, y_train, y_test = train_test_split(X, y, test_size=0.3, random_state=42)"
      ]
    },
    {
      "cell_type": "code",
      "execution_count": 33,
      "metadata": {
        "colab": {
          "base_uri": "https://localhost:8080/",
          "height": 157
        },
        "id": "kpDJsJwYFeWg",
        "outputId": "49ae9b3e-3845-4587-fb68-bc57d6bb1283"
      },
      "outputs": [
        {
          "ename": "AttributeError",
          "evalue": "'list' object has no attribute 'lower'",
          "output_type": "error",
          "traceback": [
            "\u001b[1;31m---------------------------------------------------------------------------\u001b[0m",
            "\u001b[1;31mAttributeError\u001b[0m                            Traceback (most recent call last)",
            "Cell \u001b[1;32mIn[33], line 2\u001b[0m\n\u001b[0;32m      1\u001b[0m pipeline \u001b[38;5;241m=\u001b[39m Pipeline([ (\u001b[38;5;124m'\u001b[39m\u001b[38;5;124mtfidf\u001b[39m\u001b[38;5;124m'\u001b[39m, TfidfVectorizer( max_features\u001b[38;5;241m=\u001b[39m\u001b[38;5;241m5000\u001b[39m, ngram_range\u001b[38;5;241m=\u001b[39m(\u001b[38;5;241m1\u001b[39m, \u001b[38;5;241m2\u001b[39m) )), (\u001b[38;5;124m'\u001b[39m\u001b[38;5;124mclf\u001b[39m\u001b[38;5;124m'\u001b[39m, MultinomialNB()) ])\n\u001b[1;32m----> 2\u001b[0m \u001b[43mpipeline\u001b[49m\u001b[38;5;241;43m.\u001b[39;49m\u001b[43mfit\u001b[49m\u001b[43m(\u001b[49m\u001b[43mX_train\u001b[49m\u001b[43m,\u001b[49m\u001b[43m \u001b[49m\u001b[43my_train\u001b[49m\u001b[43m)\u001b[49m\n",
            "File \u001b[1;32mc:\\Users\\Julian\\AppData\\Local\\Programs\\Python\\Python39\\lib\\site-packages\\sklearn\\base.py:1389\u001b[0m, in \u001b[0;36m_fit_context.<locals>.decorator.<locals>.wrapper\u001b[1;34m(estimator, *args, **kwargs)\u001b[0m\n\u001b[0;32m   1382\u001b[0m     estimator\u001b[38;5;241m.\u001b[39m_validate_params()\n\u001b[0;32m   1384\u001b[0m \u001b[38;5;28;01mwith\u001b[39;00m config_context(\n\u001b[0;32m   1385\u001b[0m     skip_parameter_validation\u001b[38;5;241m=\u001b[39m(\n\u001b[0;32m   1386\u001b[0m         prefer_skip_nested_validation \u001b[38;5;129;01mor\u001b[39;00m global_skip_validation\n\u001b[0;32m   1387\u001b[0m     )\n\u001b[0;32m   1388\u001b[0m ):\n\u001b[1;32m-> 1389\u001b[0m     \u001b[38;5;28;01mreturn\u001b[39;00m fit_method(estimator, \u001b[38;5;241m*\u001b[39margs, \u001b[38;5;241m*\u001b[39m\u001b[38;5;241m*\u001b[39mkwargs)\n",
            "File \u001b[1;32mc:\\Users\\Julian\\AppData\\Local\\Programs\\Python\\Python39\\lib\\site-packages\\sklearn\\pipeline.py:654\u001b[0m, in \u001b[0;36mPipeline.fit\u001b[1;34m(self, X, y, **params)\u001b[0m\n\u001b[0;32m    647\u001b[0m     \u001b[38;5;28;01mraise\u001b[39;00m \u001b[38;5;167;01mValueError\u001b[39;00m(\n\u001b[0;32m    648\u001b[0m         \u001b[38;5;124m\"\u001b[39m\u001b[38;5;124mThe `transform_input` parameter can only be set if metadata \u001b[39m\u001b[38;5;124m\"\u001b[39m\n\u001b[0;32m    649\u001b[0m         \u001b[38;5;124m\"\u001b[39m\u001b[38;5;124mrouting is enabled. You can enable metadata routing using \u001b[39m\u001b[38;5;124m\"\u001b[39m\n\u001b[0;32m    650\u001b[0m         \u001b[38;5;124m\"\u001b[39m\u001b[38;5;124m`sklearn.set_config(enable_metadata_routing=True)`.\u001b[39m\u001b[38;5;124m\"\u001b[39m\n\u001b[0;32m    651\u001b[0m     )\n\u001b[0;32m    653\u001b[0m routed_params \u001b[38;5;241m=\u001b[39m \u001b[38;5;28mself\u001b[39m\u001b[38;5;241m.\u001b[39m_check_method_params(method\u001b[38;5;241m=\u001b[39m\u001b[38;5;124m\"\u001b[39m\u001b[38;5;124mfit\u001b[39m\u001b[38;5;124m\"\u001b[39m, props\u001b[38;5;241m=\u001b[39mparams)\n\u001b[1;32m--> 654\u001b[0m Xt \u001b[38;5;241m=\u001b[39m \u001b[38;5;28;43mself\u001b[39;49m\u001b[38;5;241;43m.\u001b[39;49m\u001b[43m_fit\u001b[49m\u001b[43m(\u001b[49m\u001b[43mX\u001b[49m\u001b[43m,\u001b[49m\u001b[43m \u001b[49m\u001b[43my\u001b[49m\u001b[43m,\u001b[49m\u001b[43m \u001b[49m\u001b[43mrouted_params\u001b[49m\u001b[43m,\u001b[49m\u001b[43m \u001b[49m\u001b[43mraw_params\u001b[49m\u001b[38;5;241;43m=\u001b[39;49m\u001b[43mparams\u001b[49m\u001b[43m)\u001b[49m\n\u001b[0;32m    655\u001b[0m \u001b[38;5;28;01mwith\u001b[39;00m _print_elapsed_time(\u001b[38;5;124m\"\u001b[39m\u001b[38;5;124mPipeline\u001b[39m\u001b[38;5;124m\"\u001b[39m, \u001b[38;5;28mself\u001b[39m\u001b[38;5;241m.\u001b[39m_log_message(\u001b[38;5;28mlen\u001b[39m(\u001b[38;5;28mself\u001b[39m\u001b[38;5;241m.\u001b[39msteps) \u001b[38;5;241m-\u001b[39m \u001b[38;5;241m1\u001b[39m)):\n\u001b[0;32m    656\u001b[0m     \u001b[38;5;28;01mif\u001b[39;00m \u001b[38;5;28mself\u001b[39m\u001b[38;5;241m.\u001b[39m_final_estimator \u001b[38;5;241m!=\u001b[39m \u001b[38;5;124m\"\u001b[39m\u001b[38;5;124mpassthrough\u001b[39m\u001b[38;5;124m\"\u001b[39m:\n",
            "File \u001b[1;32mc:\\Users\\Julian\\AppData\\Local\\Programs\\Python\\Python39\\lib\\site-packages\\sklearn\\pipeline.py:588\u001b[0m, in \u001b[0;36mPipeline._fit\u001b[1;34m(self, X, y, routed_params, raw_params)\u001b[0m\n\u001b[0;32m    581\u001b[0m \u001b[38;5;66;03m# Fit or load from cache the current transformer\u001b[39;00m\n\u001b[0;32m    582\u001b[0m step_params \u001b[38;5;241m=\u001b[39m \u001b[38;5;28mself\u001b[39m\u001b[38;5;241m.\u001b[39m_get_metadata_for_step(\n\u001b[0;32m    583\u001b[0m     step_idx\u001b[38;5;241m=\u001b[39mstep_idx,\n\u001b[0;32m    584\u001b[0m     step_params\u001b[38;5;241m=\u001b[39mrouted_params[name],\n\u001b[0;32m    585\u001b[0m     all_params\u001b[38;5;241m=\u001b[39mraw_params,\n\u001b[0;32m    586\u001b[0m )\n\u001b[1;32m--> 588\u001b[0m X, fitted_transformer \u001b[38;5;241m=\u001b[39m \u001b[43mfit_transform_one_cached\u001b[49m\u001b[43m(\u001b[49m\n\u001b[0;32m    589\u001b[0m \u001b[43m    \u001b[49m\u001b[43mcloned_transformer\u001b[49m\u001b[43m,\u001b[49m\n\u001b[0;32m    590\u001b[0m \u001b[43m    \u001b[49m\u001b[43mX\u001b[49m\u001b[43m,\u001b[49m\n\u001b[0;32m    591\u001b[0m \u001b[43m    \u001b[49m\u001b[43my\u001b[49m\u001b[43m,\u001b[49m\n\u001b[0;32m    592\u001b[0m \u001b[43m    \u001b[49m\u001b[43mweight\u001b[49m\u001b[38;5;241;43m=\u001b[39;49m\u001b[38;5;28;43;01mNone\u001b[39;49;00m\u001b[43m,\u001b[49m\n\u001b[0;32m    593\u001b[0m \u001b[43m    \u001b[49m\u001b[43mmessage_clsname\u001b[49m\u001b[38;5;241;43m=\u001b[39;49m\u001b[38;5;124;43m\"\u001b[39;49m\u001b[38;5;124;43mPipeline\u001b[39;49m\u001b[38;5;124;43m\"\u001b[39;49m\u001b[43m,\u001b[49m\n\u001b[0;32m    594\u001b[0m \u001b[43m    \u001b[49m\u001b[43mmessage\u001b[49m\u001b[38;5;241;43m=\u001b[39;49m\u001b[38;5;28;43mself\u001b[39;49m\u001b[38;5;241;43m.\u001b[39;49m\u001b[43m_log_message\u001b[49m\u001b[43m(\u001b[49m\u001b[43mstep_idx\u001b[49m\u001b[43m)\u001b[49m\u001b[43m,\u001b[49m\n\u001b[0;32m    595\u001b[0m \u001b[43m    \u001b[49m\u001b[43mparams\u001b[49m\u001b[38;5;241;43m=\u001b[39;49m\u001b[43mstep_params\u001b[49m\u001b[43m,\u001b[49m\n\u001b[0;32m    596\u001b[0m \u001b[43m\u001b[49m\u001b[43m)\u001b[49m\n\u001b[0;32m    597\u001b[0m \u001b[38;5;66;03m# Replace the transformer of the step with the fitted\u001b[39;00m\n\u001b[0;32m    598\u001b[0m \u001b[38;5;66;03m# transformer. This is necessary when loading the transformer\u001b[39;00m\n\u001b[0;32m    599\u001b[0m \u001b[38;5;66;03m# from the cache.\u001b[39;00m\n\u001b[0;32m    600\u001b[0m \u001b[38;5;28mself\u001b[39m\u001b[38;5;241m.\u001b[39msteps[step_idx] \u001b[38;5;241m=\u001b[39m (name, fitted_transformer)\n",
            "File \u001b[1;32mc:\\Users\\Julian\\AppData\\Local\\Programs\\Python\\Python39\\lib\\site-packages\\joblib\\memory.py:312\u001b[0m, in \u001b[0;36mNotMemorizedFunc.__call__\u001b[1;34m(self, *args, **kwargs)\u001b[0m\n\u001b[0;32m    311\u001b[0m \u001b[38;5;28;01mdef\u001b[39;00m\u001b[38;5;250m \u001b[39m\u001b[38;5;21m__call__\u001b[39m(\u001b[38;5;28mself\u001b[39m, \u001b[38;5;241m*\u001b[39margs, \u001b[38;5;241m*\u001b[39m\u001b[38;5;241m*\u001b[39mkwargs):\n\u001b[1;32m--> 312\u001b[0m     \u001b[38;5;28;01mreturn\u001b[39;00m \u001b[38;5;28mself\u001b[39m\u001b[38;5;241m.\u001b[39mfunc(\u001b[38;5;241m*\u001b[39margs, \u001b[38;5;241m*\u001b[39m\u001b[38;5;241m*\u001b[39mkwargs)\n",
            "File \u001b[1;32mc:\\Users\\Julian\\AppData\\Local\\Programs\\Python\\Python39\\lib\\site-packages\\sklearn\\pipeline.py:1551\u001b[0m, in \u001b[0;36m_fit_transform_one\u001b[1;34m(transformer, X, y, weight, message_clsname, message, params)\u001b[0m\n\u001b[0;32m   1549\u001b[0m \u001b[38;5;28;01mwith\u001b[39;00m _print_elapsed_time(message_clsname, message):\n\u001b[0;32m   1550\u001b[0m     \u001b[38;5;28;01mif\u001b[39;00m \u001b[38;5;28mhasattr\u001b[39m(transformer, \u001b[38;5;124m\"\u001b[39m\u001b[38;5;124mfit_transform\u001b[39m\u001b[38;5;124m\"\u001b[39m):\n\u001b[1;32m-> 1551\u001b[0m         res \u001b[38;5;241m=\u001b[39m transformer\u001b[38;5;241m.\u001b[39mfit_transform(X, y, \u001b[38;5;241m*\u001b[39m\u001b[38;5;241m*\u001b[39mparams\u001b[38;5;241m.\u001b[39mget(\u001b[38;5;124m\"\u001b[39m\u001b[38;5;124mfit_transform\u001b[39m\u001b[38;5;124m\"\u001b[39m, {}))\n\u001b[0;32m   1552\u001b[0m     \u001b[38;5;28;01melse\u001b[39;00m:\n\u001b[0;32m   1553\u001b[0m         res \u001b[38;5;241m=\u001b[39m transformer\u001b[38;5;241m.\u001b[39mfit(X, y, \u001b[38;5;241m*\u001b[39m\u001b[38;5;241m*\u001b[39mparams\u001b[38;5;241m.\u001b[39mget(\u001b[38;5;124m\"\u001b[39m\u001b[38;5;124mfit\u001b[39m\u001b[38;5;124m\"\u001b[39m, {}))\u001b[38;5;241m.\u001b[39mtransform(\n\u001b[0;32m   1554\u001b[0m             X, \u001b[38;5;241m*\u001b[39m\u001b[38;5;241m*\u001b[39mparams\u001b[38;5;241m.\u001b[39mget(\u001b[38;5;124m\"\u001b[39m\u001b[38;5;124mtransform\u001b[39m\u001b[38;5;124m\"\u001b[39m, {})\n\u001b[0;32m   1555\u001b[0m         )\n",
            "File \u001b[1;32mc:\\Users\\Julian\\AppData\\Local\\Programs\\Python\\Python39\\lib\\site-packages\\sklearn\\feature_extraction\\text.py:2104\u001b[0m, in \u001b[0;36mTfidfVectorizer.fit_transform\u001b[1;34m(self, raw_documents, y)\u001b[0m\n\u001b[0;32m   2097\u001b[0m \u001b[38;5;28mself\u001b[39m\u001b[38;5;241m.\u001b[39m_check_params()\n\u001b[0;32m   2098\u001b[0m \u001b[38;5;28mself\u001b[39m\u001b[38;5;241m.\u001b[39m_tfidf \u001b[38;5;241m=\u001b[39m TfidfTransformer(\n\u001b[0;32m   2099\u001b[0m     norm\u001b[38;5;241m=\u001b[39m\u001b[38;5;28mself\u001b[39m\u001b[38;5;241m.\u001b[39mnorm,\n\u001b[0;32m   2100\u001b[0m     use_idf\u001b[38;5;241m=\u001b[39m\u001b[38;5;28mself\u001b[39m\u001b[38;5;241m.\u001b[39muse_idf,\n\u001b[0;32m   2101\u001b[0m     smooth_idf\u001b[38;5;241m=\u001b[39m\u001b[38;5;28mself\u001b[39m\u001b[38;5;241m.\u001b[39msmooth_idf,\n\u001b[0;32m   2102\u001b[0m     sublinear_tf\u001b[38;5;241m=\u001b[39m\u001b[38;5;28mself\u001b[39m\u001b[38;5;241m.\u001b[39msublinear_tf,\n\u001b[0;32m   2103\u001b[0m )\n\u001b[1;32m-> 2104\u001b[0m X \u001b[38;5;241m=\u001b[39m \u001b[38;5;28;43msuper\u001b[39;49m\u001b[43m(\u001b[49m\u001b[43m)\u001b[49m\u001b[38;5;241;43m.\u001b[39;49m\u001b[43mfit_transform\u001b[49m\u001b[43m(\u001b[49m\u001b[43mraw_documents\u001b[49m\u001b[43m)\u001b[49m\n\u001b[0;32m   2105\u001b[0m \u001b[38;5;28mself\u001b[39m\u001b[38;5;241m.\u001b[39m_tfidf\u001b[38;5;241m.\u001b[39mfit(X)\n\u001b[0;32m   2106\u001b[0m \u001b[38;5;66;03m# X is already a transformed view of raw_documents so\u001b[39;00m\n\u001b[0;32m   2107\u001b[0m \u001b[38;5;66;03m# we set copy to False\u001b[39;00m\n",
            "File \u001b[1;32mc:\\Users\\Julian\\AppData\\Local\\Programs\\Python\\Python39\\lib\\site-packages\\sklearn\\base.py:1389\u001b[0m, in \u001b[0;36m_fit_context.<locals>.decorator.<locals>.wrapper\u001b[1;34m(estimator, *args, **kwargs)\u001b[0m\n\u001b[0;32m   1382\u001b[0m     estimator\u001b[38;5;241m.\u001b[39m_validate_params()\n\u001b[0;32m   1384\u001b[0m \u001b[38;5;28;01mwith\u001b[39;00m config_context(\n\u001b[0;32m   1385\u001b[0m     skip_parameter_validation\u001b[38;5;241m=\u001b[39m(\n\u001b[0;32m   1386\u001b[0m         prefer_skip_nested_validation \u001b[38;5;129;01mor\u001b[39;00m global_skip_validation\n\u001b[0;32m   1387\u001b[0m     )\n\u001b[0;32m   1388\u001b[0m ):\n\u001b[1;32m-> 1389\u001b[0m     \u001b[38;5;28;01mreturn\u001b[39;00m fit_method(estimator, \u001b[38;5;241m*\u001b[39margs, \u001b[38;5;241m*\u001b[39m\u001b[38;5;241m*\u001b[39mkwargs)\n",
            "File \u001b[1;32mc:\\Users\\Julian\\AppData\\Local\\Programs\\Python\\Python39\\lib\\site-packages\\sklearn\\feature_extraction\\text.py:1376\u001b[0m, in \u001b[0;36mCountVectorizer.fit_transform\u001b[1;34m(self, raw_documents, y)\u001b[0m\n\u001b[0;32m   1368\u001b[0m             warnings\u001b[38;5;241m.\u001b[39mwarn(\n\u001b[0;32m   1369\u001b[0m                 \u001b[38;5;124m\"\u001b[39m\u001b[38;5;124mUpper case characters found in\u001b[39m\u001b[38;5;124m\"\u001b[39m\n\u001b[0;32m   1370\u001b[0m                 \u001b[38;5;124m\"\u001b[39m\u001b[38;5;124m vocabulary while \u001b[39m\u001b[38;5;124m'\u001b[39m\u001b[38;5;124mlowercase\u001b[39m\u001b[38;5;124m'\u001b[39m\u001b[38;5;124m\"\u001b[39m\n\u001b[0;32m   1371\u001b[0m                 \u001b[38;5;124m\"\u001b[39m\u001b[38;5;124m is True. These entries will not\u001b[39m\u001b[38;5;124m\"\u001b[39m\n\u001b[0;32m   1372\u001b[0m                 \u001b[38;5;124m\"\u001b[39m\u001b[38;5;124m be matched with any documents\u001b[39m\u001b[38;5;124m\"\u001b[39m\n\u001b[0;32m   1373\u001b[0m             )\n\u001b[0;32m   1374\u001b[0m             \u001b[38;5;28;01mbreak\u001b[39;00m\n\u001b[1;32m-> 1376\u001b[0m vocabulary, X \u001b[38;5;241m=\u001b[39m \u001b[38;5;28;43mself\u001b[39;49m\u001b[38;5;241;43m.\u001b[39;49m\u001b[43m_count_vocab\u001b[49m\u001b[43m(\u001b[49m\u001b[43mraw_documents\u001b[49m\u001b[43m,\u001b[49m\u001b[43m \u001b[49m\u001b[38;5;28;43mself\u001b[39;49m\u001b[38;5;241;43m.\u001b[39;49m\u001b[43mfixed_vocabulary_\u001b[49m\u001b[43m)\u001b[49m\n\u001b[0;32m   1378\u001b[0m \u001b[38;5;28;01mif\u001b[39;00m \u001b[38;5;28mself\u001b[39m\u001b[38;5;241m.\u001b[39mbinary:\n\u001b[0;32m   1379\u001b[0m     X\u001b[38;5;241m.\u001b[39mdata\u001b[38;5;241m.\u001b[39mfill(\u001b[38;5;241m1\u001b[39m)\n",
            "File \u001b[1;32mc:\\Users\\Julian\\AppData\\Local\\Programs\\Python\\Python39\\lib\\site-packages\\sklearn\\feature_extraction\\text.py:1263\u001b[0m, in \u001b[0;36mCountVectorizer._count_vocab\u001b[1;34m(self, raw_documents, fixed_vocab)\u001b[0m\n\u001b[0;32m   1261\u001b[0m \u001b[38;5;28;01mfor\u001b[39;00m doc \u001b[38;5;129;01min\u001b[39;00m raw_documents:\n\u001b[0;32m   1262\u001b[0m     feature_counter \u001b[38;5;241m=\u001b[39m {}\n\u001b[1;32m-> 1263\u001b[0m     \u001b[38;5;28;01mfor\u001b[39;00m feature \u001b[38;5;129;01min\u001b[39;00m \u001b[43manalyze\u001b[49m\u001b[43m(\u001b[49m\u001b[43mdoc\u001b[49m\u001b[43m)\u001b[49m:\n\u001b[0;32m   1264\u001b[0m         \u001b[38;5;28;01mtry\u001b[39;00m:\n\u001b[0;32m   1265\u001b[0m             feature_idx \u001b[38;5;241m=\u001b[39m vocabulary[feature]\n",
            "File \u001b[1;32mc:\\Users\\Julian\\AppData\\Local\\Programs\\Python\\Python39\\lib\\site-packages\\sklearn\\feature_extraction\\text.py:104\u001b[0m, in \u001b[0;36m_analyze\u001b[1;34m(doc, analyzer, tokenizer, ngrams, preprocessor, decoder, stop_words)\u001b[0m\n\u001b[0;32m    102\u001b[0m \u001b[38;5;28;01melse\u001b[39;00m:\n\u001b[0;32m    103\u001b[0m     \u001b[38;5;28;01mif\u001b[39;00m preprocessor \u001b[38;5;129;01mis\u001b[39;00m \u001b[38;5;129;01mnot\u001b[39;00m \u001b[38;5;28;01mNone\u001b[39;00m:\n\u001b[1;32m--> 104\u001b[0m         doc \u001b[38;5;241m=\u001b[39m \u001b[43mpreprocessor\u001b[49m\u001b[43m(\u001b[49m\u001b[43mdoc\u001b[49m\u001b[43m)\u001b[49m\n\u001b[0;32m    105\u001b[0m     \u001b[38;5;28;01mif\u001b[39;00m tokenizer \u001b[38;5;129;01mis\u001b[39;00m \u001b[38;5;129;01mnot\u001b[39;00m \u001b[38;5;28;01mNone\u001b[39;00m:\n\u001b[0;32m    106\u001b[0m         doc \u001b[38;5;241m=\u001b[39m tokenizer(doc)\n",
            "File \u001b[1;32mc:\\Users\\Julian\\AppData\\Local\\Programs\\Python\\Python39\\lib\\site-packages\\sklearn\\feature_extraction\\text.py:62\u001b[0m, in \u001b[0;36m_preprocess\u001b[1;34m(doc, accent_function, lower)\u001b[0m\n\u001b[0;32m     43\u001b[0m \u001b[38;5;250m\u001b[39m\u001b[38;5;124;03m\"\"\"Chain together an optional series of text preprocessing steps to\u001b[39;00m\n\u001b[0;32m     44\u001b[0m \u001b[38;5;124;03mapply to a document.\u001b[39;00m\n\u001b[0;32m     45\u001b[0m \n\u001b[1;32m   (...)\u001b[0m\n\u001b[0;32m     59\u001b[0m \u001b[38;5;124;03m    preprocessed string\u001b[39;00m\n\u001b[0;32m     60\u001b[0m \u001b[38;5;124;03m\"\"\"\u001b[39;00m\n\u001b[0;32m     61\u001b[0m \u001b[38;5;28;01mif\u001b[39;00m lower:\n\u001b[1;32m---> 62\u001b[0m     doc \u001b[38;5;241m=\u001b[39m \u001b[43mdoc\u001b[49m\u001b[38;5;241;43m.\u001b[39;49m\u001b[43mlower\u001b[49m()\n\u001b[0;32m     63\u001b[0m \u001b[38;5;28;01mif\u001b[39;00m accent_function \u001b[38;5;129;01mis\u001b[39;00m \u001b[38;5;129;01mnot\u001b[39;00m \u001b[38;5;28;01mNone\u001b[39;00m:\n\u001b[0;32m     64\u001b[0m     doc \u001b[38;5;241m=\u001b[39m accent_function(doc)\n",
            "\u001b[1;31mAttributeError\u001b[0m: 'list' object has no attribute 'lower'"
          ]
        }
      ],
      "source": [
        "pipeline = Pipeline([ ('tfidf', TfidfVectorizer( max_features=5000, ngram_range=(1, 2) )), ('clf', MultinomialNB()) ])\n",
        "pipeline.fit(X_train, y_train)"
      ]
    },
    {
      "cell_type": "code",
      "execution_count": 31,
      "metadata": {
        "id": "XY3aI9ZPFeWg"
      },
      "outputs": [],
      "source": [
        "y_pred = pipeline.predict(X_test)"
      ]
    },
    {
      "cell_type": "code",
      "execution_count": 32,
      "metadata": {
        "colab": {
          "base_uri": "https://localhost:8080/"
        },
        "id": "lhUXvngSFeWg",
        "outputId": "bf2f7332-7306-4ad1-e7fe-845a094ccd7b"
      },
      "outputs": [
        {
          "name": "stdout",
          "output_type": "stream",
          "text": [
            "Accuracy: 0.786845025994509\n",
            "Classification Report:\n",
            "               precision    recall  f1-score   support\n",
            "\n",
            "           0       0.91      0.55      0.68      7171\n",
            "           1       0.75      0.96      0.84      9948\n",
            "\n",
            "    accuracy                           0.79     17119\n",
            "   macro avg       0.83      0.75      0.76     17119\n",
            "weighted avg       0.81      0.79      0.77     17119\n",
            "\n"
          ]
        }
      ],
      "source": [
        "print(\"Accuracy:\", accuracy_score(y_test, y_pred))\n",
        "print(\"Classification Report:\\n\", classification_report(y_test, y_pred))"
      ]
    },
    {
      "cell_type": "code",
      "execution_count": 33,
      "metadata": {
        "colab": {
          "base_uri": "https://localhost:8080/",
          "height": 411
        },
        "id": "Kcm0cbLaFeWg",
        "outputId": "4c6e59e3-7926-4448-8ef4-87fc7f6ee4b6"
      },
      "outputs": [
        {
          "data": {
            "image/png": "[encoded data removed]",
            "text/plain": [
              "<Figure size 500x400 with 2 Axes>"
            ]
          },
          "metadata": {},
          "output_type": "display_data"
        }
      ],
      "source": [
        "\n",
        "cm = confusion_matrix(y_test, y_pred)\n",
        "\n",
        "plt.figure(figsize=(5, 4))\n",
        "sns.heatmap(cm, annot=True, fmt=\"d\", cmap=\"Blues\", xticklabels=[\"Clase 0\", \"Clase 1\"], yticklabels=[\"Clase 0\", \"Clase 1\"])\n",
        "plt.xlabel(\"Predicho\")\n",
        "plt.ylabel(\"Real\")\n",
        "plt.title(\"Matriz de Confusión - Multinomial Naive Bayes\")\n",
        "plt.show()\n"
      ]
    },
    {
      "cell_type": "code",
      "execution_count": 35,
      "metadata": {
        "colab": {
          "base_uri": "https://localhost:8080/"
        },
        "id": "SKnvMoevFeWh",
        "outputId": "bcc45890-0fab-4cfe-b000-a49991249469"
      },
      "outputs": [
        {
          "name": "stderr",
          "output_type": "stream",
          "text": [
            "[nltk_data] Downloading package punkt to /root/nltk_data...\n",
            "[nltk_data]   Package punkt is already up-to-date!\n",
            "[nltk_data] Downloading package stopwords to /root/nltk_data...\n",
            "[nltk_data]   Package stopwords is already up-to-date!\n"
          ]
        },
        {
          "name": "stdout",
          "output_type": "stream",
          "text": [
            "Columnas en el archivo CSV: ['ID', 'Label', 'Titulo', 'Descripcion', 'Fecha']\n",
            "Archivo generado correctamente: fake_news_spanish_pred_20250223_002630.csv\n"
          ]
        }
      ],
      "source": [
        "# Importar librerías necesarias\n",
        "import pandas as pd\n",
        "import pickle\n",
        "from datetime import datetime\n",
        "import nltk\n",
        "import re\n",
        "from nltk.corpus import stopwords\n",
        "from nltk.tokenize import word_tokenize\n",
        "\n",
        "# Descargar recursos necesarios de NLTK\n",
        "nltk.download(\"punkt\")\n",
        "nltk.download(\"stopwords\")\n",
        "\n",
        "# ---------------------------------------\n",
        "# 1. Cargar el Modelo Entrenado\n",
        "# ---------------------------------------\n",
        "with open(\"modelo_multinomial_nb.pkl\", \"rb\") as file:\n",
        "    loaded_model = pickle.load(file)\n",
        "\n",
        "# ---------------------------------------\n",
        "# 2. Cargar los Datos de Prueba\n",
        "# ---------------------------------------\n",
        "df_test = pd.read_csv(\"fake_news_spanish.csv\", sep=\";\")\n",
        "print(\"Columnas en el archivo CSV:\", df_test.columns.tolist())\n",
        "\n",
        "# ---------------------------------------\n",
        "# 3. Funciones de Preprocesamiento (Similares a las del PDF)\n",
        "# ---------------------------------------\n",
        "def limpiar_texto(texto):\n",
        "    texto = texto.lower()  # Convertir a minúsculas\n",
        "    texto = re.sub(r'\\d+', '', texto)  # Eliminar números\n",
        "    texto = re.sub(r'[^\\w\\s]', '', texto)  # Eliminar puntuación\n",
        "    tokens = word_tokenize(texto)  # Tokenizar el texto\n",
        "    tokens = [palabra for palabra in tokens if palabra not in stopwords.words('spanish')]  # Eliminar stopwords\n",
        "    return ' '.join(tokens)  # Unir tokens en una cadena de texto\n",
        "\n",
        "# ---------------------------------------\n",
        "# 4. Aplicar Preprocesamiento a la Columna de Descripción\n",
        "# ---------------------------------------\n",
        "df_test[\"processed_text\"] = df_test[\"Descripcion\"].astype(str).apply(limpiar_texto)\n",
        "\n",
        "# ---------------------------------------\n",
        "# 5. Realizar Predicciones\n",
        "# ---------------------------------------\n",
        "X_test = df_test[\"processed_text\"]\n",
        "df_test[\"Etiqueta Predicha\"] = loaded_model.predict(X_test)\n",
        "\n",
        "# ---------------------------------------\n",
        "# 6. Exportar los Resultados\n",
        "# ---------------------------------------\n",
        "# Crear un nombre único para el archivo de salida\n",
        "timestamp = datetime.now().strftime(\"%Y%m%d_%H%M%S\")\n",
        "filename = f\"fake_news_spanish_pred_{timestamp}.csv\"\n",
        "\n",
        "# Guardar el archivo con las predicciones\n",
        "df_test.to_csv(filename, sep=\";\", index=False)\n",
        "print(f\"Archivo generado correctamente: {filename}\")\n"
      ]
    },
    {
      "cell_type": "markdown",
      "metadata": {
        "id": "zEss_WoSNH6I"
      },
      "source": [
        "### **Random Forest Julian**"
      ]
    },
    {
      "cell_type": "markdown",
      "metadata": {
        "id": "2-ZOMBQUPNSw"
      },
      "source": [
        "### **Implementación del modelo de clasificación**  \n",
        "\n",
        "Para esta implementación, utilicé **Random Forest**, un método de ensamble basado en múltiples árboles de decisión que ofrece robustez contra el sobreajuste y una gran capacidad para manejar datos no estructurados. Random Forest es especialmente útil para tareas de clasificación en texto debido a su capacidad para capturar relaciones no lineales en los datos.  \n",
        "\n",
        "### **Generación de datos**  \n",
        "El conjunto de datos utilizado corresponde a noticias en español, con una columna de texto (`Descripcion`) y una columna de etiquetas (`Label`). Antes de entrenar el modelo, realicé un preprocesamiento del texto que incluyó:  \n",
        "- Conversión a minúsculas  \n",
        "- Eliminación de números y puntuación  \n",
        "- Tokenización  \n",
        "- Eliminación de stopwords  \n",
        "\n",
        "Esto permitió generar un conjunto de datos más limpio y eficiente para el entrenamiento.  \n",
        "\n",
        "### **Definición del modelo**  \n",
        "El modelo implementado consiste en un **Random Forest Classifier** dentro de un **pipeline** que incluye:  \n",
        "1. **Vectorización TF-IDF**: Representa el texto numéricamente, priorizando términos distintivos en los documentos.  \n",
        "2. **Random Forest**: Modelo de ensamble con 200 árboles, optimizado para paralelización con `n_jobs=-1`.  \n",
        "\n",
        "### **Entrenamiento del modelo**  \n",
        "Dividí el conjunto de datos en **entrenamiento (70%) y prueba (30%)** utilizando una partición estratificada (`stratify=y`) para asegurar que ambas clases estuvieran equilibradas en cada subconjunto. Posteriormente, entrené el pipeline con los datos de entrenamiento.  \n",
        "\n",
        "### **Evaluación del modelo**  \n",
        "Para evaluar el desempeño del clasificador, utilicé:  \n",
        "- **Precisión global**: Métrica principal basada en la proporción de predicciones correctas.  \n",
        "- **Reporte de clasificación**: Incluye precisión, recall y F1-score para cada clase.  \n",
        "- **Matriz de confusión**: Visualización de errores de clasificación mediante un mapa de calor.  \n",
        "\n",
        "### **Guardado y despliegue del modelo**  \n",
        "El modelo entrenado se guardó en un archivo `modelo_random_forest.pkl` mediante la biblioteca `pickle`, permitiendo su reutilización sin necesidad de reentrenamiento. Posteriormente, se cargó el modelo y se realizaron predicciones sobre nuevos datos, generando un archivo con las etiquetas predichas en tiempo real.  \n",
        "\n",
        "Este enfoque proporciona un sistema eficiente y escalable para la clasificación automática de noticias en español, permitiendo evaluar con precisión la veracidad de la información mediante aprendizaje automático."
      ]
    },
    {
      "cell_type": "code",
      "execution_count": 34,
      "metadata": {
        "colab": {
          "base_uri": "https://localhost:8080/",
          "height": 705
        },
        "id": "zqj3Gy9-M_rp",
        "outputId": "a14a9961-a904-4139-e9f8-63aa5c8e3a05"
      },
      "outputs": [
        {
          "name": "stderr",
          "output_type": "stream",
          "text": [
            "[nltk_data] Downloading package punkt to\n",
            "[nltk_data]     C:\\Users\\Julian\\AppData\\Roaming\\nltk_data...\n",
            "[nltk_data]   Package punkt is already up-to-date!\n",
            "[nltk_data] Downloading package stopwords to\n",
            "[nltk_data]     C:\\Users\\Julian\\AppData\\Roaming\\nltk_data...\n",
            "[nltk_data]   Package stopwords is already up-to-date!\n"
          ]
        },
        {
          "name": "stdout",
          "output_type": "stream",
          "text": [
            "Columnas en el archivo CSV: ['ID', 'Label', 'Titulo', 'Descripcion', 'Fecha']\n",
            "Accuracy: 0.7154039371458614\n",
            "Classification Report:\n",
            "               precision    recall  f1-score   support\n",
            "\n",
            "           0       0.69      0.57      0.63      7172\n",
            "           1       0.73      0.82      0.77      9947\n",
            "\n",
            "    accuracy                           0.72     17119\n",
            "   macro avg       0.71      0.70      0.70     17119\n",
            "weighted avg       0.71      0.72      0.71     17119\n",
            "\n"
          ]
        },
        {
          "data": {
            "image/png": "[encoded data removed]",
            "text/plain": [
              "<Figure size 500x400 with 2 Axes>"
            ]
          },
          "metadata": {},
          "output_type": "display_data"
        },
        {
          "name": "stdout",
          "output_type": "stream",
          "text": [
            "Archivo generado correctamente: fake_news_spanish_pred_rf_20250326_235159.csv\n"
          ]
        }
      ],
      "source": [
        "\n",
        "import pandas as pd\n",
        "import pickle\n",
        "import re\n",
        "import nltk\n",
        "import matplotlib.pyplot as plt\n",
        "import seaborn as sns\n",
        "from datetime import datetime\n",
        "from nltk.tokenize import word_tokenize\n",
        "from nltk.corpus import stopwords\n",
        "from sklearn.model_selection import train_test_split\n",
        "from sklearn.feature_extraction.text import TfidfVectorizer\n",
        "from sklearn.pipeline import Pipeline\n",
        "from sklearn.ensemble import RandomForestClassifier\n",
        "from sklearn.metrics import accuracy_score, classification_report, confusion_matrix\n",
        "\n",
        "# Descargar recursos necesarios de NLTK\n",
        "nltk.download(\"punkt\")\n",
        "nltk.download(\"stopwords\")\n",
        "\n",
        "# ---------------------------------------\n",
        "# 1. Cargar los Datos\n",
        "# ---------------------------------------\n",
        "df = pd.read_csv(\"fake_news_spanish.csv\", sep=\";\")\n",
        "print(\"Columnas en el archivo CSV:\", df.columns.tolist())\n",
        "\n",
        "# ---------------------------------------\n",
        "# 2. Funciones de Preprocesamiento\n",
        "# ---------------------------------------\n",
        "def limpiar_texto(texto):\n",
        "    texto = texto.lower()\n",
        "    texto = re.sub(r'\\d+', '', texto)\n",
        "    texto = re.sub(r'[^\\w\\s]', '', texto)\n",
        "    tokens = word_tokenize(texto)\n",
        "    tokens = [palabra for palabra in tokens if palabra not in stopwords.words('spanish')]\n",
        "    return ' '.join(tokens)\n",
        "\n",
        "df[\"processed_text\"] = df[\"Descripcion\"].astype(str).apply(limpiar_texto)\n",
        "\n",
        "# ---------------------------------------\n",
        "# 3. Dividir los Datos en Entrenamiento y Prueba\n",
        "# ---------------------------------------\n",
        "X = df['processed_text']\n",
        "y = df['Label']\n",
        "X_train, X_test, y_train, y_test = train_test_split(X, y, test_size=0.3, random_state=42, stratify=y)\n",
        "\n",
        "# ---------------------------------------\n",
        "# 4. Crear el Pipeline con Random Forest\n",
        "# ---------------------------------------\n",
        "pipeline = Pipeline([\n",
        "    ('tfidf', TfidfVectorizer(max_features=5000, ngram_range=(1, 2))),\n",
        "    ('clf', RandomForestClassifier(n_estimators=200, random_state=42, n_jobs=-1))\n",
        "])\n",
        "\n",
        "# ---------------------------------------\n",
        "# 5. Entrenar el Modelo\n",
        "# ---------------------------------------\n",
        "pipeline.fit(X_train, y_train)\n",
        "\n",
        "# ---------------------------------------\n",
        "# 6. Realizar Predicciones\n",
        "# ---------------------------------------\n",
        "y_pred = pipeline.predict(X_test)\n",
        "\n",
        "# ---------------------------------------\n",
        "# 7. Evaluar el Modelo\n",
        "# ---------------------------------------\n",
        "print(\"Accuracy:\", accuracy_score(y_test, y_pred))\n",
        "print(\"Classification Report:\\n\", classification_report(y_test, y_pred))\n",
        "\n",
        "# Matriz de confusión\n",
        "cm = confusion_matrix(y_test, y_pred)\n",
        "plt.figure(figsize=(5, 4))\n",
        "sns.heatmap(cm, annot=True, fmt=\"d\", cmap=\"Reds\", xticklabels=[\"Clase 0\", \"Clase 1\"], yticklabels=[\"Clase 0\", \"Clase 1\"])\n",
        "plt.xlabel(\"Predicho\")\n",
        "plt.ylabel(\"Real\")\n",
        "plt.title(\"Matriz de Confusión - Random Forest\")\n",
        "plt.show()\n",
        "\n",
        "# ---------------------------------------\n",
        "# 8. Guardar el Modelo Entrenado\n",
        "# ---------------------------------------\n",
        "with open(\"modelo_random_forest.pkl\", \"wb\") as file:\n",
        "    pickle.dump(pipeline, file)\n",
        "\n",
        "# ---------------------------------------\n",
        "# 9. Cargar el Modelo y Realizar Predicciones en Nuevos Datos\n",
        "# ---------------------------------------\n",
        "with open(\"modelo_random_forest.pkl\", \"rb\") as file:\n",
        "    loaded_model = pickle.load(file)\n",
        "\n",
        "df_test = pd.read_csv(\"fake_news_spanish.csv\", sep=\";\")\n",
        "df_test[\"processed_text\"] = df_test[\"Descripcion\"].astype(str).apply(limpiar_texto)\n",
        "\n",
        "X_test_new = df_test[\"processed_text\"]\n",
        "df_test[\"Etiqueta Predicha\"] = loaded_model.predict(X_test_new)\n",
        "\n",
        "# Exportar los resultados\n",
        "timestamp = datetime.now().strftime(\"%Y%m%d_%H%M%S\")\n",
        "filename = f\"fake_news_spanish_pred_rf_{timestamp}.csv\"\n",
        "df_test.to_csv(filename, sep=\";\", index=False)\n",
        "print(f\"Archivo generado correctamente: {filename}\")\n"
      ]
    },
    {
      "cell_type": "markdown",
      "metadata": {
        "id": "yEhT1EvRQZIH"
      },
      "source": [
        "### **Comparación de Modelos para la Detección de Noticias Falsas**  \n",
        "\n",
        "Para evaluar el rendimiento de diferentes enfoques en la detección de noticias falsas en español, probé tres modelos de clasificación: **LightGBM**, **Multinomial Naive Bayes con TF-IDF**, y **Random Forest**. Los resultados muestran que **LightGBM es el modelo con mejor desempeño**, seguido de Naive Bayes, mientras que Random Forest obtuvo los peores resultados.\n",
        "\n",
        "### **Resultados de los Modelos**  \n",
        "\n",
        "#### **1. LightGBM (Mejor modelo)**  \n",
        "- **Accuracy**: *0.8077*  \n",
        "- **F1-score clase 1 (Noticias falsas)**: *0.85*  \n",
        "- **F1-score clase 0 (Noticias reales)**: *0.72*  \n",
        "\n",
        "LightGBM logró la mejor precisión y equilibrio entre precisión y recall. Su capacidad para manejar datos desequilibrados y su optimización para conjuntos de datos grandes permitieron detectar mejor las noticias falsas sin perder demasiada capacidad en la clasificación de noticias reales.  \n",
        "\n",
        "#### **2. Multinomial Naive Bayes con TF-IDF**  \n",
        "- **Accuracy**: *0.7868*  \n",
        "- **F1-score clase 1 (Noticias falsas)**: *0.84*  \n",
        "- **F1-score clase 0 (Noticias reales)**: *0.68*  \n",
        "\n",
        "El modelo basado en Naive Bayes tuvo un desempeño cercano a LightGBM, especialmente en la clasificación de noticias falsas. Sin embargo, su capacidad para identificar noticias reales fue menor, con un recall del *55%* en la clase 0, lo que indica que muchas noticias reales fueron clasificadas incorrectamente como falsas.  \n",
        "\n",
        "#### **3. Random Forest (Peor desempeño)**  \n",
        "- **Accuracy**: *0.7149*  \n",
        "- **F1-score clase 1 (Noticias falsas)**: *0.77*  \n",
        "- **F1-score clase 0 (Noticias reales)**: *0.63*  \n",
        "\n",
        "Random Forest mostró un rendimiento inferior en comparación con los otros modelos. Aunque tuvo un recall aceptable para detectar noticias falsas (*82%*), su precisión fue menor y tuvo más errores al clasificar noticias reales, lo que lo hace menos confiable para esta tarea.  \n",
        "\n",
        "### **Conclusiones**  \n",
        "\n",
        "1. **LightGBM es la mejor opción para la detección de noticias falsas**, ya que ofrece el mejor equilibrio entre precisión y recall en ambas clases. Su capacidad para manejar datos desequilibrados y entrenarse rápidamente lo hacen ideal para problemas de clasificación en grandes volúmenes de texto.  \n",
        "2. **Naive Bayes con TF-IDF sigue siendo una opción competitiva**, especialmente cuando se busca un modelo más simple y rápido, aunque tiene una mayor tasa de falsos positivos.  \n",
        "3. **Random Forest no es adecuado para este problema**, ya que presenta el peor desempeño general, con menor precisión en la clasificación de ambas clases y una alta tasa de error en la detección de noticias reales.  \n",
        "\n",
        "Estos resultados sugieren que el uso de modelos avanzados como LightGBM es clave en la lucha contra la desinformación, permitiendo detectar noticias falsas con mayor precisión y reduciendo el impacto de información errónea en la sociedad."
      ]
    },
    {
      "cell_type": "markdown",
      "metadata": {},
      "source": [
        "## Etapa 2"
      ]
    },
    {
      "cell_type": "markdown",
      "metadata": {},
      "source": [
        "### Instalar FastApi "
      ]
    },
    {
      "cell_type": "code",
      "execution_count": 1,
      "metadata": {},
      "outputs": [
        {
          "name": "stdout",
          "output_type": "stream",
          "text": [
            "Requirement already satisfied: fastapi in c:\\users\\julian\\appdata\\local\\programs\\python\\python39\\lib\\site-packages (0.115.11)\n",
            "Requirement already satisfied: uvicorn in c:\\users\\julian\\appdata\\local\\programs\\python\\python39\\lib\\site-packages (0.34.0)\n",
            "Requirement already satisfied: nest_asyncio in c:\\users\\julian\\appdata\\roaming\\python\\python39\\site-packages (1.6.0)\n",
            "Requirement already satisfied: typing-extensions>=4.8.0 in c:\\users\\julian\\appdata\\roaming\\python\\python39\\site-packages (from fastapi) (4.12.2)\n",
            "Requirement already satisfied: pydantic!=1.8,!=1.8.1,!=2.0.0,!=2.0.1,!=2.1.0,<3.0.0,>=1.7.4 in c:\\users\\julian\\appdata\\local\\programs\\python\\python39\\lib\\site-packages (from fastapi) (2.10.6)\n",
            "Requirement already satisfied: starlette<0.47.0,>=0.40.0 in c:\\users\\julian\\appdata\\local\\programs\\python\\python39\\lib\\site-packages (from fastapi) (0.46.0)\n",
            "Requirement already satisfied: h11>=0.8 in c:\\users\\julian\\appdata\\local\\programs\\python\\python39\\lib\\site-packages (from uvicorn) (0.14.0)\n",
            "Requirement already satisfied: click>=7.0 in c:\\users\\julian\\appdata\\local\\programs\\python\\python39\\lib\\site-packages (from uvicorn) (8.1.8)\n",
            "Requirement already satisfied: colorama in c:\\users\\julian\\appdata\\roaming\\python\\python39\\site-packages (from click>=7.0->uvicorn) (0.4.6)\n",
            "Requirement already satisfied: pydantic-core==2.27.2 in c:\\users\\julian\\appdata\\local\\programs\\python\\python39\\lib\\site-packages (from pydantic!=1.8,!=1.8.1,!=2.0.0,!=2.0.1,!=2.1.0,<3.0.0,>=1.7.4->fastapi) (2.27.2)\n",
            "Requirement already satisfied: annotated-types>=0.6.0 in c:\\users\\julian\\appdata\\local\\programs\\python\\python39\\lib\\site-packages (from pydantic!=1.8,!=1.8.1,!=2.0.0,!=2.0.1,!=2.1.0,<3.0.0,>=1.7.4->fastapi) (0.7.0)\n",
            "Requirement already satisfied: anyio<5,>=3.6.2 in c:\\users\\julian\\appdata\\local\\programs\\python\\python39\\lib\\site-packages (from starlette<0.47.0,>=0.40.0->fastapi) (4.8.0)\n",
            "Requirement already satisfied: sniffio>=1.1 in c:\\users\\julian\\appdata\\local\\programs\\python\\python39\\lib\\site-packages (from anyio<5,>=3.6.2->starlette<0.47.0,>=0.40.0->fastapi) (1.3.1)\n",
            "Requirement already satisfied: idna>=2.8 in c:\\users\\julian\\appdata\\local\\programs\\python\\python39\\lib\\site-packages (from anyio<5,>=3.6.2->starlette<0.47.0,>=0.40.0->fastapi) (3.10)\n",
            "Requirement already satisfied: exceptiongroup>=1.0.2 in c:\\users\\julian\\appdata\\roaming\\python\\python39\\site-packages (from anyio<5,>=3.6.2->starlette<0.47.0,>=0.40.0->fastapi) (1.2.2)\n"
          ]
        },
        {
          "name": "stderr",
          "output_type": "stream",
          "text": [
            "WARNING: You are using pip version 22.0.4; however, version 25.0.1 is available.\n",
            "You should consider upgrading via the 'C:\\Users\\Julian\\AppData\\Local\\Programs\\Python\\Python39\\python.exe -m pip install --upgrade pip' command.\n"
          ]
        }
      ],
      "source": [
        "!pip install fastapi uvicorn nest_asyncio"
      ]
    },
    {
      "cell_type": "markdown",
      "metadata": {},
      "source": [
        "### Limpieza de datos\n",
        "Se vuelve a realizar la limpieza del texto"
      ]
    },
    {
      "cell_type": "code",
      "execution_count": 6,
      "metadata": {},
      "outputs": [
        {
          "name": "stderr",
          "output_type": "stream",
          "text": [
            "[nltk_data] Downloading package punkt to\n",
            "[nltk_data]     C:\\Users\\Julian\\AppData\\Roaming\\nltk_data...\n",
            "[nltk_data]   Package punkt is already up-to-date!\n",
            "[nltk_data] Downloading package stopwords to\n",
            "[nltk_data]     C:\\Users\\Julian\\AppData\\Roaming\\nltk_data...\n",
            "[nltk_data]   Package stopwords is already up-to-date!\n"
          ]
        }
      ],
      "source": [
        "import re\n",
        "import unicodedata\n",
        "import inflect\n",
        "import nltk\n",
        "from nltk.tokenize import word_tokenize\n",
        "from nltk.corpus import stopwords\n",
        "\n",
        "nltk.download(\"punkt\")\n",
        "nltk.download(\"stopwords\")\n",
        "\n",
        "p = inflect.engine()\n",
        "\n",
        "def remove_non_ascii(words):\n",
        "    return [unicodedata.normalize('NFKD', w).encode('ascii', 'ignore').decode('utf-8', 'ignore') for w in words if w is not None]\n",
        "\n",
        "def to_lowercase(words):\n",
        "    return [w.lower() for w in words if w is not None]\n",
        "\n",
        "def replace_numbers(words):\n",
        "    return [p.number_to_words(w) if w.isdigit() else w for w in words]\n",
        "\n",
        "def remove_punctuation(words):\n",
        "    return [re.sub(r'[^\\w\\s]', '', w) for w in words if re.sub(r'[^\\w\\s]', '', w) != '']\n",
        "\n",
        "def remove_stopwords(words):\n",
        "    return [w for w in words if w not in stopwords.words('spanish')]\n",
        "\n",
        "def processing(words):\n",
        "    words = remove_non_ascii(words)\n",
        "    words = to_lowercase(words)\n",
        "    words = replace_numbers(words)\n",
        "    words = remove_punctuation(words)\n",
        "    words = remove_stopwords(words)\n",
        "    return words\n",
        "\n",
        "def limpiar_texto(texto):\n",
        "    tokens = word_tokenize(str(texto))\n",
        "    tokens_limpios = processing(tokens)\n",
        "    return ' '.join(tokens_limpios)"
      ]
    },
    {
      "cell_type": "markdown",
      "metadata": {},
      "source": [
        "### Implementación de fast API\n",
        "\n",
        "Se realizó una API REST utilizando FastAPI, con el propósito de automatizar el uso de los modelos realizados en la etapa anterior para detectar las noticias falsas que fue entrenado previamente. Este enfoque permite que un usuario externo pueda interactuar con el modelo mediante peticiones HTTP como post para realizar predicciones o reentrenamientos con nuevos datos, para esto se cargó el modelo entrenado almacenado como un archivo .pkl y se encapsulo dentro de un servicio accesible en tiempo real. En este caso se escogio el modelo de random forest.\n",
        "\n",
        "La API cuenta con dos endpoints, el primero permite realizar predicciones sobre uno o varios textos que el usuario desea analizar. Este endpoint recibe como parametros una lista de textos en formato JSON, los procesa mediante una función que limpieza y posteriormente los transforma con el pipeline ya entrenado. Luego, el modelo genera la predicción si es una noticia falsa o no lo es.\n",
        "\n",
        "El segundo endpoint, fue diseñado para permitir el reentreno dinámico del modelo. Este recibe tanto los textos como sus etiquetas verdaderas, realiza la limpieza y entrena nuevamente el modelo con estos datos. Este endpoint permite que el modelo este actualizado. De igual forma, se actuliza el archivo del modelo .pkl y se genera las metricas de desempeño que se imprimen.\n",
        "\n",
        "Además, se utilizaron herramientas como nest_asynio para permitir que el servidor de FastAPI se ejecte dentro del entorno de jupyter notebook."
      ]
    },
    {
      "cell_type": "code",
      "execution_count": 7,
      "metadata": {},
      "outputs": [],
      "source": [
        "import pickle\n",
        "import pandas as pd\n",
        "from fastapi import FastAPI\n",
        "from pydantic import BaseModel\n",
        "from typing import List\n",
        "import nest_asyncio\n",
        "import uvicorn\n",
        "from sklearn.metrics import classification_report\n",
        "\n",
        "# Cargar modelo (Random Forest, LightGBM o el que hayas elegido)\n",
        "with open(\"modelo_lightgbm.pkl\", \"rb\") as file:\n",
        "    model = pickle.load(file)\n",
        "\n",
        "# Inicializar FastAPI\n",
        "app = FastAPI(title=\"Detector de Noticias Falsas - Etapa 2\")\n",
        "\n",
        "# Definir entradas\n",
        "class EntradaTexto(BaseModel):\n",
        "    textos: List[str]\n",
        "\n",
        "class DatosEntrenamiento(BaseModel):\n",
        "    textos: List[str]\n",
        "    etiquetas: List[int]\n",
        "\n",
        "@app.post(\"/predict\")\n",
        "def predecir(input_data: EntradaTexto):\n",
        "    textos_limpios = [limpiar_texto(t) for t in input_data.textos]\n",
        "    predicciones = model.predict(textos_limpios)\n",
        "    probabilidades = model.predict_proba(textos_limpios).tolist()\n",
        "    return {\n",
        "        \"predicciones\": predicciones.tolist(),\n",
        "        \"probabilidades\": probabilidades\n",
        "    }\n",
        "\n",
        "@app.post(\"/retrain\")\n",
        "def reentrenar(data: DatosEntrenamiento):\n",
        "    textos_limpios = [limpiar_texto(t) for t in data.textos]\n",
        "    X = textos_limpios\n",
        "    y = data.etiquetas\n",
        "\n",
        "    model.fit(X, y)\n",
        "\n",
        "    # Guardar nueva versión del modelo\n",
        "    with open(\"modelo_random_forest.pkl\", \"wb\") as file:\n",
        "        pickle.dump(model, file)\n",
        "\n",
        "    # Evaluar en mismo set por simplicidad (puedes dividir en train/test también)\n",
        "    y_pred = model.predict(X)\n",
        "    reporte = classification_report(y, y_pred, output_dict=True)\n",
        "    return {\n",
        "        \"mensaje\": \"Modelo reentrenado exitosamente.\",\n",
        "        \"metricas\": reporte\n",
        "    }\n"
      ]
    },
    {
      "cell_type": "code",
      "execution_count": 8,
      "metadata": {},
      "outputs": [
        {
          "name": "stderr",
          "output_type": "stream",
          "text": [
            "INFO:     Started server process [12320]\n",
            "INFO:     Waiting for application startup.\n",
            "INFO:     Application startup complete.\n",
            "INFO:     Uvicorn running on http://127.0.0.1:8000 (Press CTRL+C to quit)\n"
          ]
        },
        {
          "name": "stdout",
          "output_type": "stream",
          "text": [
            "INFO:     127.0.0.1:59505 - \"GET / HTTP/1.1\" 404 Not Found\n",
            "INFO:     127.0.0.1:59506 - \"GET / HTTP/1.1\" 404 Not Found\n",
            "INFO:     127.0.0.1:59506 - \"GET /docs HTTP/1.1\" 200 OK\n",
            "INFO:     127.0.0.1:59506 - \"GET /openapi.json HTTP/1.1\" 200 OK\n",
            "INFO:     127.0.0.1:59508 - \"POST /predict HTTP/1.1\" 200 OK\n"
          ]
        },
        {
          "name": "stderr",
          "output_type": "stream",
          "text": [
            "c:\\Users\\Julian\\AppData\\Local\\Programs\\Python\\Python39\\lib\\site-packages\\sklearn\\utils\\validation.py:2739: UserWarning: X does not have valid feature names, but LGBMClassifier was fitted with feature names\n",
            "  warnings.warn(\n",
            "INFO:     Shutting down\n",
            "INFO:     Waiting for application shutdown.\n",
            "INFO:     Application shutdown complete.\n",
            "INFO:     Finished server process [12320]\n"
          ]
        }
      ],
      "source": [
        "nest_asyncio.apply()\n",
        "uvicorn.run(app, host=\"127.0.0.1\", port=8000)"
      ]
    }
  ],
  "metadata": {
    "accelerator": "TPU",
    "colab": {
      "gpuType": "V5E1",
      "provenance": []
    },
    "kernelspec": {
      "display_name": "Python 3",
      "name": "python3"
    },
    "language_info": {
      "codemirror_mode": {
        "name": "ipython",
        "version": 3
      },
      "file_extension": ".py",
      "mimetype": "text/x-python",
      "name": "python",
      "nbconvert_exporter": "python",
      "pygments_lexer": "ipython3",
      "version": "3.9.12"
    },
    "widgets": {
      "application/vnd.jupyter.widget-state+json": {
        "13de82335d2a41abb3f5e990330e6370": {
          "model_module": "@jupyter-widgets/base",
          "model_module_version": "1.2.0",
          "model_name": "LayoutModel",
          "state": {
            "_model_module": "@jupyter-widgets/base",
            "_model_module_version": "1.2.0",
            "_model_name": "LayoutModel",
            "_view_count": null,
            "_view_module": "@jupyter-widgets/base",
            "_view_module_version": "1.2.0",
            "_view_name": "LayoutView",
            "align_content": null,
            "align_items": null,
            "align_self": null,
            "border": null,
            "bottom": null,
            "display": null,
            "flex": null,
            "flex_flow": null,
            "grid_area": null,
            "grid_auto_columns": null,
            "grid_auto_flow": null,
            "grid_auto_rows": null,
            "grid_column": null,
            "grid_gap": null,
            "grid_row": null,
            "grid_template_areas": null,
            "grid_template_columns": null,
            "grid_template_rows": null,
            "height": null,
            "justify_content": null,
            "justify_items": null,
            "left": null,
            "margin": null,
            "max_height": null,
            "max_width": null,
            "min_height": null,
            "min_width": null,
            "object_fit": null,
            "object_position": null,
            "order": null,
            "overflow": null,
            "overflow_x": null,
            "overflow_y": null,
            "padding": null,
            "right": null,
            "top": null,
            "visibility": null,
            "width": null
          }
        },
        "186e979cef3b4ed7b56bf0cd283d49d7": {
          "model_module": "@jupyter-widgets/controls",
          "model_module_version": "1.5.0",
          "model_name": "HTMLModel",
          "state": {
            "_dom_classes": [],
            "_model_module": "@jupyter-widgets/controls",
            "_model_module_version": "1.5.0",
            "_model_name": "HTMLModel",
            "_view_count": null,
            "_view_module": "@jupyter-widgets/controls",
            "_view_module_version": "1.5.0",
            "_view_name": "HTMLView",
            "description": "",
            "description_tooltip": null,
            "layout": "IPY_MODEL_7b1b58dfd93e4aba95162be124aaa3bf",
            "placeholder": "​",
            "style": "IPY_MODEL_a1a904ab9c924513a38bc0bc7178157e",
            "value": "Downloading https://raw.githubusercontent.com/stanfordnlp/stanza-resources/main/resources_1.10.0.json: "
          }
        },
        "1fcf3d7f68bf4f2d841d2cf465c16920": {
          "model_module": "@jupyter-widgets/base",
          "model_module_version": "1.2.0",
          "model_name": "LayoutModel",
          "state": {
            "_model_module": "@jupyter-widgets/base",
            "_model_module_version": "1.2.0",
            "_model_name": "LayoutModel",
            "_view_count": null,
            "_view_module": "@jupyter-widgets/base",
            "_view_module_version": "1.2.0",
            "_view_name": "LayoutView",
            "align_content": null,
            "align_items": null,
            "align_self": null,
            "border": null,
            "bottom": null,
            "display": null,
            "flex": null,
            "flex_flow": null,
            "grid_area": null,
            "grid_auto_columns": null,
            "grid_auto_flow": null,
            "grid_auto_rows": null,
            "grid_column": null,
            "grid_gap": null,
            "grid_row": null,
            "grid_template_areas": null,
            "grid_template_columns": null,
            "grid_template_rows": null,
            "height": null,
            "justify_content": null,
            "justify_items": null,
            "left": null,
            "margin": null,
            "max_height": null,
            "max_width": null,
            "min_height": null,
            "min_width": null,
            "object_fit": null,
            "object_position": null,
            "order": null,
            "overflow": null,
            "overflow_x": null,
            "overflow_y": null,
            "padding": null,
            "right": null,
            "top": null,
            "visibility": null,
            "width": null
          }
        },
        "32771979b1d04115bbfbfb0a0d5516f5": {
          "model_module": "@jupyter-widgets/controls",
          "model_module_version": "1.5.0",
          "model_name": "DescriptionStyleModel",
          "state": {
            "_model_module": "@jupyter-widgets/controls",
            "_model_module_version": "1.5.0",
            "_model_name": "DescriptionStyleModel",
            "_view_count": null,
            "_view_module": "@jupyter-widgets/base",
            "_view_module_version": "1.2.0",
            "_view_name": "StyleView",
            "description_width": ""
          }
        },
        "34d4dd3994a84c4b80c0b69364374ded": {
          "model_module": "@jupyter-widgets/base",
          "model_module_version": "1.2.0",
          "model_name": "LayoutModel",
          "state": {
            "_model_module": "@jupyter-widgets/base",
            "_model_module_version": "1.2.0",
            "_model_name": "LayoutModel",
            "_view_count": null,
            "_view_module": "@jupyter-widgets/base",
            "_view_module_version": "1.2.0",
            "_view_name": "LayoutView",
            "align_content": null,
            "align_items": null,
            "align_self": null,
            "border": null,
            "bottom": null,
            "display": null,
            "flex": null,
            "flex_flow": null,
            "grid_area": null,
            "grid_auto_columns": null,
            "grid_auto_flow": null,
            "grid_auto_rows": null,
            "grid_column": null,
            "grid_gap": null,
            "grid_row": null,
            "grid_template_areas": null,
            "grid_template_columns": null,
            "grid_template_rows": null,
            "height": null,
            "justify_content": null,
            "justify_items": null,
            "left": null,
            "margin": null,
            "max_height": null,
            "max_width": null,
            "min_height": null,
            "min_width": null,
            "object_fit": null,
            "object_position": null,
            "order": null,
            "overflow": null,
            "overflow_x": null,
            "overflow_y": null,
            "padding": null,
            "right": null,
            "top": null,
            "visibility": null,
            "width": null
          }
        },
        "38a81335d1564c01994217e083b7a65c": {
          "model_module": "@jupyter-widgets/base",
          "model_module_version": "1.2.0",
          "model_name": "LayoutModel",
          "state": {
            "_model_module": "@jupyter-widgets/base",
            "_model_module_version": "1.2.0",
            "_model_name": "LayoutModel",
            "_view_count": null,
            "_view_module": "@jupyter-widgets/base",
            "_view_module_version": "1.2.0",
            "_view_name": "LayoutView",
            "align_content": null,
            "align_items": null,
            "align_self": null,
            "border": null,
            "bottom": null,
            "display": null,
            "flex": null,
            "flex_flow": null,
            "grid_area": null,
            "grid_auto_columns": null,
            "grid_auto_flow": null,
            "grid_auto_rows": null,
            "grid_column": null,
            "grid_gap": null,
            "grid_row": null,
            "grid_template_areas": null,
            "grid_template_columns": null,
            "grid_template_rows": null,
            "height": null,
            "justify_content": null,
            "justify_items": null,
            "left": null,
            "margin": null,
            "max_height": null,
            "max_width": null,
            "min_height": null,
            "min_width": null,
            "object_fit": null,
            "object_position": null,
            "order": null,
            "overflow": null,
            "overflow_x": null,
            "overflow_y": null,
            "padding": null,
            "right": null,
            "top": null,
            "visibility": null,
            "width": null
          }
        },
        "4d035dc4207f497db1c03cd24ff92740": {
          "model_module": "@jupyter-widgets/controls",
          "model_module_version": "1.5.0",
          "model_name": "HTMLModel",
          "state": {
            "_dom_classes": [],
            "_model_module": "@jupyter-widgets/controls",
            "_model_module_version": "1.5.0",
            "_model_name": "HTMLModel",
            "_view_count": null,
            "_view_module": "@jupyter-widgets/controls",
            "_view_module_version": "1.5.0",
            "_view_name": "HTMLView",
            "description": "",
            "description_tooltip": null,
            "layout": "IPY_MODEL_34d4dd3994a84c4b80c0b69364374ded",
            "placeholder": "​",
            "style": "IPY_MODEL_9d58552e386d439f9d1d70e914038451",
            "value": "Downloading https://raw.githubusercontent.com/stanfordnlp/stanza-resources/main/resources_1.10.0.json: "
          }
        },
        "4d49117fdf7b4060bb570df2b5ab78f7": {
          "model_module": "@jupyter-widgets/controls",
          "model_module_version": "1.5.0",
          "model_name": "DescriptionStyleModel",
          "state": {
            "_model_module": "@jupyter-widgets/controls",
            "_model_module_version": "1.5.0",
            "_model_name": "DescriptionStyleModel",
            "_view_count": null,
            "_view_module": "@jupyter-widgets/base",
            "_view_module_version": "1.2.0",
            "_view_name": "StyleView",
            "description_width": ""
          }
        },
        "5b9e35630d12410cbc4ffe4bcd740929": {
          "model_module": "@jupyter-widgets/base",
          "model_module_version": "1.2.0",
          "model_name": "LayoutModel",
          "state": {
            "_model_module": "@jupyter-widgets/base",
            "_model_module_version": "1.2.0",
            "_model_name": "LayoutModel",
            "_view_count": null,
            "_view_module": "@jupyter-widgets/base",
            "_view_module_version": "1.2.0",
            "_view_name": "LayoutView",
            "align_content": null,
            "align_items": null,
            "align_self": null,
            "border": null,
            "bottom": null,
            "display": null,
            "flex": null,
            "flex_flow": null,
            "grid_area": null,
            "grid_auto_columns": null,
            "grid_auto_flow": null,
            "grid_auto_rows": null,
            "grid_column": null,
            "grid_gap": null,
            "grid_row": null,
            "grid_template_areas": null,
            "grid_template_columns": null,
            "grid_template_rows": null,
            "height": null,
            "justify_content": null,
            "justify_items": null,
            "left": null,
            "margin": null,
            "max_height": null,
            "max_width": null,
            "min_height": null,
            "min_width": null,
            "object_fit": null,
            "object_position": null,
            "order": null,
            "overflow": null,
            "overflow_x": null,
            "overflow_y": null,
            "padding": null,
            "right": null,
            "top": null,
            "visibility": null,
            "width": null
          }
        },
        "6a030a55de5e4ddca45b4f96b502b2e4": {
          "model_module": "@jupyter-widgets/base",
          "model_module_version": "1.2.0",
          "model_name": "LayoutModel",
          "state": {
            "_model_module": "@jupyter-widgets/base",
            "_model_module_version": "1.2.0",
            "_model_name": "LayoutModel",
            "_view_count": null,
            "_view_module": "@jupyter-widgets/base",
            "_view_module_version": "1.2.0",
            "_view_name": "LayoutView",
            "align_content": null,
            "align_items": null,
            "align_self": null,
            "border": null,
            "bottom": null,
            "display": null,
            "flex": null,
            "flex_flow": null,
            "grid_area": null,
            "grid_auto_columns": null,
            "grid_auto_flow": null,
            "grid_auto_rows": null,
            "grid_column": null,
            "grid_gap": null,
            "grid_row": null,
            "grid_template_areas": null,
            "grid_template_columns": null,
            "grid_template_rows": null,
            "height": null,
            "justify_content": null,
            "justify_items": null,
            "left": null,
            "margin": null,
            "max_height": null,
            "max_width": null,
            "min_height": null,
            "min_width": null,
            "object_fit": null,
            "object_position": null,
            "order": null,
            "overflow": null,
            "overflow_x": null,
            "overflow_y": null,
            "padding": null,
            "right": null,
            "top": null,
            "visibility": null,
            "width": null
          }
        },
        "6f6559fdfbc14a9480ee68d07c0426cf": {
          "model_module": "@jupyter-widgets/controls",
          "model_module_version": "1.5.0",
          "model_name": "FloatProgressModel",
          "state": {
            "_dom_classes": [],
            "_model_module": "@jupyter-widgets/controls",
            "_model_module_version": "1.5.0",
            "_model_name": "FloatProgressModel",
            "_view_count": null,
            "_view_module": "@jupyter-widgets/controls",
            "_view_module_version": "1.5.0",
            "_view_name": "ProgressView",
            "bar_style": "success",
            "description": "",
            "description_tooltip": null,
            "layout": "IPY_MODEL_89f89a89fb6a487fa8c9be57d81d96c1",
            "max": 52452,
            "min": 0,
            "orientation": "horizontal",
            "style": "IPY_MODEL_79c436168f234c8197deb21de68e7e52",
            "value": 52452
          }
        },
        "75d60c6f25924a4aba57ea0c41316c99": {
          "model_module": "@jupyter-widgets/controls",
          "model_module_version": "1.5.0",
          "model_name": "FloatProgressModel",
          "state": {
            "_dom_classes": [],
            "_model_module": "@jupyter-widgets/controls",
            "_model_module_version": "1.5.0",
            "_model_name": "FloatProgressModel",
            "_view_count": null,
            "_view_module": "@jupyter-widgets/controls",
            "_view_module_version": "1.5.0",
            "_view_name": "ProgressView",
            "bar_style": "success",
            "description": "",
            "description_tooltip": null,
            "layout": "IPY_MODEL_6a030a55de5e4ddca45b4f96b502b2e4",
            "max": 641842546,
            "min": 0,
            "orientation": "horizontal",
            "style": "IPY_MODEL_d7d4f52fd84a4b7ab8aac95fbc74c95a",
            "value": 641842546
          }
        },
        "762f513d74b14302ace5f234db23012b": {
          "model_module": "@jupyter-widgets/controls",
          "model_module_version": "1.5.0",
          "model_name": "HBoxModel",
          "state": {
            "_dom_classes": [],
            "_model_module": "@jupyter-widgets/controls",
            "_model_module_version": "1.5.0",
            "_model_name": "HBoxModel",
            "_view_count": null,
            "_view_module": "@jupyter-widgets/controls",
            "_view_module_version": "1.5.0",
            "_view_name": "HBoxView",
            "box_style": "",
            "children": [
              "IPY_MODEL_4d035dc4207f497db1c03cd24ff92740",
              "IPY_MODEL_6f6559fdfbc14a9480ee68d07c0426cf",
              "IPY_MODEL_d1335e2da9594836a961d498ebaa2344"
            ],
            "layout": "IPY_MODEL_13de82335d2a41abb3f5e990330e6370"
          }
        },
        "79c436168f234c8197deb21de68e7e52": {
          "model_module": "@jupyter-widgets/controls",
          "model_module_version": "1.5.0",
          "model_name": "ProgressStyleModel",
          "state": {
            "_model_module": "@jupyter-widgets/controls",
            "_model_module_version": "1.5.0",
            "_model_name": "ProgressStyleModel",
            "_view_count": null,
            "_view_module": "@jupyter-widgets/base",
            "_view_module_version": "1.2.0",
            "_view_name": "StyleView",
            "bar_color": null,
            "description_width": ""
          }
        },
        "7b1b58dfd93e4aba95162be124aaa3bf": {
          "model_module": "@jupyter-widgets/base",
          "model_module_version": "1.2.0",
          "model_name": "LayoutModel",
          "state": {
            "_model_module": "@jupyter-widgets/base",
            "_model_module_version": "1.2.0",
            "_model_name": "LayoutModel",
            "_view_count": null,
            "_view_module": "@jupyter-widgets/base",
            "_view_module_version": "1.2.0",
            "_view_name": "LayoutView",
            "align_content": null,
            "align_items": null,
            "align_self": null,
            "border": null,
            "bottom": null,
            "display": null,
            "flex": null,
            "flex_flow": null,
            "grid_area": null,
            "grid_auto_columns": null,
            "grid_auto_flow": null,
            "grid_auto_rows": null,
            "grid_column": null,
            "grid_gap": null,
            "grid_row": null,
            "grid_template_areas": null,
            "grid_template_columns": null,
            "grid_template_rows": null,
            "height": null,
            "justify_content": null,
            "justify_items": null,
            "left": null,
            "margin": null,
            "max_height": null,
            "max_width": null,
            "min_height": null,
            "min_width": null,
            "object_fit": null,
            "object_position": null,
            "order": null,
            "overflow": null,
            "overflow_x": null,
            "overflow_y": null,
            "padding": null,
            "right": null,
            "top": null,
            "visibility": null,
            "width": null
          }
        },
        "89f89a89fb6a487fa8c9be57d81d96c1": {
          "model_module": "@jupyter-widgets/base",
          "model_module_version": "1.2.0",
          "model_name": "LayoutModel",
          "state": {
            "_model_module": "@jupyter-widgets/base",
            "_model_module_version": "1.2.0",
            "_model_name": "LayoutModel",
            "_view_count": null,
            "_view_module": "@jupyter-widgets/base",
            "_view_module_version": "1.2.0",
            "_view_name": "LayoutView",
            "align_content": null,
            "align_items": null,
            "align_self": null,
            "border": null,
            "bottom": null,
            "display": null,
            "flex": null,
            "flex_flow": null,
            "grid_area": null,
            "grid_auto_columns": null,
            "grid_auto_flow": null,
            "grid_auto_rows": null,
            "grid_column": null,
            "grid_gap": null,
            "grid_row": null,
            "grid_template_areas": null,
            "grid_template_columns": null,
            "grid_template_rows": null,
            "height": null,
            "justify_content": null,
            "justify_items": null,
            "left": null,
            "margin": null,
            "max_height": null,
            "max_width": null,
            "min_height": null,
            "min_width": null,
            "object_fit": null,
            "object_position": null,
            "order": null,
            "overflow": null,
            "overflow_x": null,
            "overflow_y": null,
            "padding": null,
            "right": null,
            "top": null,
            "visibility": null,
            "width": null
          }
        },
        "8e0002fda5524c4ca4d6cf4b50691696": {
          "model_module": "@jupyter-widgets/controls",
          "model_module_version": "1.5.0",
          "model_name": "HBoxModel",
          "state": {
            "_dom_classes": [],
            "_model_module": "@jupyter-widgets/controls",
            "_model_module_version": "1.5.0",
            "_model_name": "HBoxModel",
            "_view_count": null,
            "_view_module": "@jupyter-widgets/controls",
            "_view_module_version": "1.5.0",
            "_view_name": "HBoxView",
            "box_style": "",
            "children": [
              "IPY_MODEL_186e979cef3b4ed7b56bf0cd283d49d7",
              "IPY_MODEL_8eefcb54ca8c4edb98f92fbc3260cdce",
              "IPY_MODEL_cc91a45b89104f46bafd17339483eea5"
            ],
            "layout": "IPY_MODEL_5b9e35630d12410cbc4ffe4bcd740929"
          }
        },
        "8eefcb54ca8c4edb98f92fbc3260cdce": {
          "model_module": "@jupyter-widgets/controls",
          "model_module_version": "1.5.0",
          "model_name": "FloatProgressModel",
          "state": {
            "_dom_classes": [],
            "_model_module": "@jupyter-widgets/controls",
            "_model_module_version": "1.5.0",
            "_model_name": "FloatProgressModel",
            "_view_count": null,
            "_view_module": "@jupyter-widgets/controls",
            "_view_module_version": "1.5.0",
            "_view_name": "ProgressView",
            "bar_style": "success",
            "description": "",
            "description_tooltip": null,
            "layout": "IPY_MODEL_e475f819f3724231b3415486f7cd531a",
            "max": 52452,
            "min": 0,
            "orientation": "horizontal",
            "style": "IPY_MODEL_f5e45293537e4b4dbce30a6cef3d8a72",
            "value": 52452
          }
        },
        "9178a19d9bd4469b8f7ef4db8b5749ea": {
          "model_module": "@jupyter-widgets/controls",
          "model_module_version": "1.5.0",
          "model_name": "DescriptionStyleModel",
          "state": {
            "_model_module": "@jupyter-widgets/controls",
            "_model_module_version": "1.5.0",
            "_model_name": "DescriptionStyleModel",
            "_view_count": null,
            "_view_module": "@jupyter-widgets/base",
            "_view_module_version": "1.2.0",
            "_view_name": "StyleView",
            "description_width": ""
          }
        },
        "993b268342494324be42bcb728b40a8a": {
          "model_module": "@jupyter-widgets/controls",
          "model_module_version": "1.5.0",
          "model_name": "HTMLModel",
          "state": {
            "_dom_classes": [],
            "_model_module": "@jupyter-widgets/controls",
            "_model_module_version": "1.5.0",
            "_model_name": "HTMLModel",
            "_view_count": null,
            "_view_module": "@jupyter-widgets/controls",
            "_view_module_version": "1.5.0",
            "_view_name": "HTMLView",
            "description": "",
            "description_tooltip": null,
            "layout": "IPY_MODEL_38a81335d1564c01994217e083b7a65c",
            "placeholder": "​",
            "style": "IPY_MODEL_dc12945eab4c4f799eeba6bc04fe4fc6",
            "value": "Downloading https://huggingface.co/stanfordnlp/stanza-es/resolve/v1.10.0/models/default.zip: 100%"
          }
        },
        "9d58552e386d439f9d1d70e914038451": {
          "model_module": "@jupyter-widgets/controls",
          "model_module_version": "1.5.0",
          "model_name": "DescriptionStyleModel",
          "state": {
            "_model_module": "@jupyter-widgets/controls",
            "_model_module_version": "1.5.0",
            "_model_name": "DescriptionStyleModel",
            "_view_count": null,
            "_view_module": "@jupyter-widgets/base",
            "_view_module_version": "1.2.0",
            "_view_name": "StyleView",
            "description_width": ""
          }
        },
        "a0803d6aaa5e4cc9a3fcb9d49483cd63": {
          "model_module": "@jupyter-widgets/controls",
          "model_module_version": "1.5.0",
          "model_name": "HBoxModel",
          "state": {
            "_dom_classes": [],
            "_model_module": "@jupyter-widgets/controls",
            "_model_module_version": "1.5.0",
            "_model_name": "HBoxModel",
            "_view_count": null,
            "_view_module": "@jupyter-widgets/controls",
            "_view_module_version": "1.5.0",
            "_view_name": "HBoxView",
            "box_style": "",
            "children": [
              "IPY_MODEL_993b268342494324be42bcb728b40a8a",
              "IPY_MODEL_75d60c6f25924a4aba57ea0c41316c99",
              "IPY_MODEL_b7b20f77c1e949bb9c3d571b9b153756"
            ],
            "layout": "IPY_MODEL_d3a6dd9e19c342db9ce7267b45ab1f0f"
          }
        },
        "a1a904ab9c924513a38bc0bc7178157e": {
          "model_module": "@jupyter-widgets/controls",
          "model_module_version": "1.5.0",
          "model_name": "DescriptionStyleModel",
          "state": {
            "_model_module": "@jupyter-widgets/controls",
            "_model_module_version": "1.5.0",
            "_model_name": "DescriptionStyleModel",
            "_view_count": null,
            "_view_module": "@jupyter-widgets/base",
            "_view_module_version": "1.2.0",
            "_view_name": "StyleView",
            "description_width": ""
          }
        },
        "b7b20f77c1e949bb9c3d571b9b153756": {
          "model_module": "@jupyter-widgets/controls",
          "model_module_version": "1.5.0",
          "model_name": "HTMLModel",
          "state": {
            "_dom_classes": [],
            "_model_module": "@jupyter-widgets/controls",
            "_model_module_version": "1.5.0",
            "_model_name": "HTMLModel",
            "_view_count": null,
            "_view_module": "@jupyter-widgets/controls",
            "_view_module_version": "1.5.0",
            "_view_name": "HTMLView",
            "description": "",
            "description_tooltip": null,
            "layout": "IPY_MODEL_fc1ffd3f6860441b91352da0f363a382",
            "placeholder": "​",
            "style": "IPY_MODEL_9178a19d9bd4469b8f7ef4db8b5749ea",
            "value": " 642M/642M [00:04&lt;00:00, 143MB/s]"
          }
        },
        "cc91a45b89104f46bafd17339483eea5": {
          "model_module": "@jupyter-widgets/controls",
          "model_module_version": "1.5.0",
          "model_name": "HTMLModel",
          "state": {
            "_dom_classes": [],
            "_model_module": "@jupyter-widgets/controls",
            "_model_module_version": "1.5.0",
            "_model_name": "HTMLModel",
            "_view_count": null,
            "_view_module": "@jupyter-widgets/controls",
            "_view_module_version": "1.5.0",
            "_view_name": "HTMLView",
            "description": "",
            "description_tooltip": null,
            "layout": "IPY_MODEL_f96742d9b21948d3ae3b612349c31f78",
            "placeholder": "​",
            "style": "IPY_MODEL_4d49117fdf7b4060bb570df2b5ab78f7",
            "value": " 424k/? [00:00&lt;00:00, 31.0MB/s]"
          }
        },
        "d1335e2da9594836a961d498ebaa2344": {
          "model_module": "@jupyter-widgets/controls",
          "model_module_version": "1.5.0",
          "model_name": "HTMLModel",
          "state": {
            "_dom_classes": [],
            "_model_module": "@jupyter-widgets/controls",
            "_model_module_version": "1.5.0",
            "_model_name": "HTMLModel",
            "_view_count": null,
            "_view_module": "@jupyter-widgets/controls",
            "_view_module_version": "1.5.0",
            "_view_name": "HTMLView",
            "description": "",
            "description_tooltip": null,
            "layout": "IPY_MODEL_1fcf3d7f68bf4f2d841d2cf465c16920",
            "placeholder": "​",
            "style": "IPY_MODEL_32771979b1d04115bbfbfb0a0d5516f5",
            "value": " 424k/? [00:00&lt;00:00, 30.5MB/s]"
          }
        },
        "d3a6dd9e19c342db9ce7267b45ab1f0f": {
          "model_module": "@jupyter-widgets/base",
          "model_module_version": "1.2.0",
          "model_name": "LayoutModel",
          "state": {
            "_model_module": "@jupyter-widgets/base",
            "_model_module_version": "1.2.0",
            "_model_name": "LayoutModel",
            "_view_count": null,
            "_view_module": "@jupyter-widgets/base",
            "_view_module_version": "1.2.0",
            "_view_name": "LayoutView",
            "align_content": null,
            "align_items": null,
            "align_self": null,
            "border": null,
            "bottom": null,
            "display": null,
            "flex": null,
            "flex_flow": null,
            "grid_area": null,
            "grid_auto_columns": null,
            "grid_auto_flow": null,
            "grid_auto_rows": null,
            "grid_column": null,
            "grid_gap": null,
            "grid_row": null,
            "grid_template_areas": null,
            "grid_template_columns": null,
            "grid_template_rows": null,
            "height": null,
            "justify_content": null,
            "justify_items": null,
            "left": null,
            "margin": null,
            "max_height": null,
            "max_width": null,
            "min_height": null,
            "min_width": null,
            "object_fit": null,
            "object_position": null,
            "order": null,
            "overflow": null,
            "overflow_x": null,
            "overflow_y": null,
            "padding": null,
            "right": null,
            "top": null,
            "visibility": null,
            "width": null
          }
        },
        "d7d4f52fd84a4b7ab8aac95fbc74c95a": {
          "model_module": "@jupyter-widgets/controls",
          "model_module_version": "1.5.0",
          "model_name": "ProgressStyleModel",
          "state": {
            "_model_module": "@jupyter-widgets/controls",
            "_model_module_version": "1.5.0",
            "_model_name": "ProgressStyleModel",
            "_view_count": null,
            "_view_module": "@jupyter-widgets/base",
            "_view_module_version": "1.2.0",
            "_view_name": "StyleView",
            "bar_color": null,
            "description_width": ""
          }
        },
        "dc12945eab4c4f799eeba6bc04fe4fc6": {
          "model_module": "@jupyter-widgets/controls",
          "model_module_version": "1.5.0",
          "model_name": "DescriptionStyleModel",
          "state": {
            "_model_module": "@jupyter-widgets/controls",
            "_model_module_version": "1.5.0",
            "_model_name": "DescriptionStyleModel",
            "_view_count": null,
            "_view_module": "@jupyter-widgets/base",
            "_view_module_version": "1.2.0",
            "_view_name": "StyleView",
            "description_width": ""
          }
        },
        "e475f819f3724231b3415486f7cd531a": {
          "model_module": "@jupyter-widgets/base",
          "model_module_version": "1.2.0",
          "model_name": "LayoutModel",
          "state": {
            "_model_module": "@jupyter-widgets/base",
            "_model_module_version": "1.2.0",
            "_model_name": "LayoutModel",
            "_view_count": null,
            "_view_module": "@jupyter-widgets/base",
            "_view_module_version": "1.2.0",
            "_view_name": "LayoutView",
            "align_content": null,
            "align_items": null,
            "align_self": null,
            "border": null,
            "bottom": null,
            "display": null,
            "flex": null,
            "flex_flow": null,
            "grid_area": null,
            "grid_auto_columns": null,
            "grid_auto_flow": null,
            "grid_auto_rows": null,
            "grid_column": null,
            "grid_gap": null,
            "grid_row": null,
            "grid_template_areas": null,
            "grid_template_columns": null,
            "grid_template_rows": null,
            "height": null,
            "justify_content": null,
            "justify_items": null,
            "left": null,
            "margin": null,
            "max_height": null,
            "max_width": null,
            "min_height": null,
            "min_width": null,
            "object_fit": null,
            "object_position": null,
            "order": null,
            "overflow": null,
            "overflow_x": null,
            "overflow_y": null,
            "padding": null,
            "right": null,
            "top": null,
            "visibility": null,
            "width": null
          }
        },
        "f5e45293537e4b4dbce30a6cef3d8a72": {
          "model_module": "@jupyter-widgets/controls",
          "model_module_version": "1.5.0",
          "model_name": "ProgressStyleModel",
          "state": {
            "_model_module": "@jupyter-widgets/controls",
            "_model_module_version": "1.5.0",
            "_model_name": "ProgressStyleModel",
            "_view_count": null,
            "_view_module": "@jupyter-widgets/base",
            "_view_module_version": "1.2.0",
            "_view_name": "StyleView",
            "bar_color": null,
            "description_width": ""
          }
        },
        "f96742d9b21948d3ae3b612349c31f78": {
          "model_module": "@jupyter-widgets/base",
          "model_module_version": "1.2.0",
          "model_name": "LayoutModel",
          "state": {
            "_model_module": "@jupyter-widgets/base",
            "_model_module_version": "1.2.0",
            "_model_name": "LayoutModel",
            "_view_count": null,
            "_view_module": "@jupyter-widgets/base",
            "_view_module_version": "1.2.0",
            "_view_name": "LayoutView",
            "align_content": null,
            "align_items": null,
            "align_self": null,
            "border": null,
            "bottom": null,
            "display": null,
            "flex": null,
            "flex_flow": null,
            "grid_area": null,
            "grid_auto_columns": null,
            "grid_auto_flow": null,
            "grid_auto_rows": null,
            "grid_column": null,
            "grid_gap": null,
            "grid_row": null,
            "grid_template_areas": null,
            "grid_template_columns": null,
            "grid_template_rows": null,
            "height": null,
            "justify_content": null,
            "justify_items": null,
            "left": null,
            "margin": null,
            "max_height": null,
            "max_width": null,
            "min_height": null,
            "min_width": null,
            "object_fit": null,
            "object_position": null,
            "order": null,
            "overflow": null,
            "overflow_x": null,
            "overflow_y": null,
            "padding": null,
            "right": null,
            "top": null,
            "visibility": null,
            "width": null
          }
        },
        "fc1ffd3f6860441b91352da0f363a382": {
          "model_module": "@jupyter-widgets/base",
          "model_module_version": "1.2.0",
          "model_name": "LayoutModel",
          "state": {
            "_model_module": "@jupyter-widgets/base",
            "_model_module_version": "1.2.0",
            "_model_name": "LayoutModel",
            "_view_count": null,
            "_view_module": "@jupyter-widgets/base",
            "_view_module_version": "1.2.0",
            "_view_name": "LayoutView",
            "align_content": null,
            "align_items": null,
            "align_self": null,
            "border": null,
            "bottom": null,
            "display": null,
            "flex": null,
            "flex_flow": null,
            "grid_area": null,
            "grid_auto_columns": null,
            "grid_auto_flow": null,
            "grid_auto_rows": null,
            "grid_column": null,
            "grid_gap": null,
            "grid_row": null,
            "grid_template_areas": null,
            "grid_template_columns": null,
            "grid_template_rows": null,
            "height": null,
            "justify_content": null,
            "justify_items": null,
            "left": null,
            "margin": null,
            "max_height": null,
            "max_width": null,
            "min_height": null,
            "min_width": null,
            "object_fit": null,
            "object_position": null,
            "order": null,
            "overflow": null,
            "overflow_x": null,
            "overflow_y": null,
            "padding": null,
            "right": null,
            "top": null,
            "visibility": null,
            "width": null
          }
        }
      }
    }
  },
  "nbformat": 4,
  "nbformat_minor": 0
}
